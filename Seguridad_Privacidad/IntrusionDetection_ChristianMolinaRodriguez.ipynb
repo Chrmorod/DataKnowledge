{
  "cells": [
    {
      "cell_type": "markdown",
      "id": "aquatic-health",
      "metadata": {
        "id": "aquatic-health"
      },
      "source": [
        "#### Primero vamos a crear el contexto de Spark"
      ]
    },
    {
      "cell_type": "code",
      "source": [
        "from google.colab import drive\n",
        "drive.mount('/content/drive')"
      ],
      "metadata": {
        "colab": {
          "base_uri": "https://localhost:8080/"
        },
        "id": "7aD0j_rao6jB",
        "outputId": "9612f4c6-c52b-4fd6-cd22-f9c3d821ba3e"
      },
      "id": "7aD0j_rao6jB",
      "execution_count": 1,
      "outputs": [
        {
          "output_type": "stream",
          "name": "stdout",
          "text": [
            "Mounted at /content/drive\n"
          ]
        }
      ]
    },
    {
      "cell_type": "code",
      "execution_count": 2,
      "id": "broadband-field",
      "metadata": {
        "id": "broadband-field",
        "colab": {
          "base_uri": "https://localhost:8080/"
        },
        "outputId": "94b42eb2-0afe-4e56-f2d0-fa3d4aa89ae9"
      },
      "outputs": [
        {
          "output_type": "stream",
          "name": "stdout",
          "text": [
            "Collecting pyspark==3.4.0\n",
            "  Downloading pyspark-3.4.0.tar.gz (310.8 MB)\n",
            "\u001b[2K     \u001b[90m━━━━━━━━━━━━━━━━━━━━━━━━━━━━━━━━━━━━━━━\u001b[0m \u001b[32m310.8/310.8 MB\u001b[0m \u001b[31m4.7 MB/s\u001b[0m eta \u001b[36m0:00:00\u001b[0m\n",
            "\u001b[?25h  Preparing metadata (setup.py) ... \u001b[?25l\u001b[?25hdone\n",
            "Requirement already satisfied: py4j==0.10.9.7 in /usr/local/lib/python3.10/dist-packages (from pyspark==3.4.0) (0.10.9.7)\n",
            "Building wheels for collected packages: pyspark\n",
            "  Building wheel for pyspark (setup.py) ... \u001b[?25l\u001b[?25hdone\n",
            "  Created wheel for pyspark: filename=pyspark-3.4.0-py2.py3-none-any.whl size=311317130 sha256=bfec7a34ffc33a78a39234a6aba3f4718f1f3156a74232f0b41e29c448756106\n",
            "  Stored in directory: /root/.cache/pip/wheels/7b/1b/4b/3363a1d04368e7ff0d408e57ff57966fcdf00583774e761327\n",
            "Successfully built pyspark\n",
            "Installing collected packages: pyspark\n",
            "Successfully installed pyspark-3.4.0\n"
          ]
        }
      ],
      "source": [
        "#!apt-get install python3.7\n",
        "#!pip install pyspark==2.3.0\n",
        "!pip install pyspark==3.4.0\n",
        "import urllib\n",
        "import matplotlib\n",
        "import matplotlib.pyplot as plt\n",
        "%matplotlib inline\n",
        "%config IPCompleter.greedy=True\n",
        "from pyspark import SparkContext, SparkConf, rdd\n",
        "sc = SparkContext(\"local\", \"IntrusionDetection\")"
      ]
    },
    {
      "cell_type": "markdown",
      "id": "civic-setup",
      "metadata": {
        "id": "civic-setup"
      },
      "source": [
        "#### Cargamos los datasets de training y de test en RDDs\n",
        "\n",
        "En esta ocasión trabajaremos con RDDs para ver la diferencia respecto a los spark dataframes, pero a nivel de distribución de carga de trabajo no hay diferencia"
      ]
    },
    {
      "cell_type": "code",
      "execution_count": 3,
      "id": "sharp-purse",
      "metadata": {
        "id": "sharp-purse"
      },
      "outputs": [],
      "source": [
        "from pyspark import SparkFiles\n",
        "\n",
        "train_file = \"/content/drive/MyDrive/seguridadyprivacidad/kddcup.data.10000\"\n",
        "test_file = \"/content/drive/MyDrive/seguridadyprivacidad/corrected.1000\"\n",
        "\n",
        "train_rdata = sc.textFile(train_file)\n",
        "test_rdata = sc.textFile(test_file)"
      ]
    },
    {
      "cell_type": "code",
      "execution_count": 4,
      "id": "prepared-temperature",
      "metadata": {
        "id": "prepared-temperature",
        "colab": {
          "base_uri": "https://localhost:8080/"
        },
        "outputId": "bda499f6-cf76-470f-e4b9-58305d14b9da"
      },
      "outputs": [
        {
          "output_type": "execute_result",
          "data": {
            "text/plain": [
              "pyspark.rdd.RDD"
            ]
          },
          "metadata": {},
          "execution_count": 4
        }
      ],
      "source": [
        "type(train_rdata)\n",
        "type(test_rdata)"
      ]
    },
    {
      "cell_type": "code",
      "execution_count": 5,
      "id": "thermal-ending",
      "metadata": {
        "id": "thermal-ending",
        "colab": {
          "base_uri": "https://localhost:8080/"
        },
        "outputId": "aa134895-07b6-4650-9db6-361da710388a"
      },
      "outputs": [
        {
          "output_type": "stream",
          "name": "stdout",
          "text": [
            "['0,icmp,ecr_i,SF,520,0,0,0,0,0,0,0,0,0,0,0,0,0,0,0,0,0,511,511,0.00,0.00,0.00,0.00,1.00,0.00,0.00,255,255,1.00,0.00,1.00,0.00,0.00,0.00,0.00,0.00,smurf.', '0,icmp,ecr_i,SF,1032,0,0,0,0,0,0,0,0,0,0,0,0,0,0,0,0,0,511,511,0.00,0.00,0.00,0.00,1.00,0.00,0.00,255,255,1.00,0.00,1.00,0.00,0.00,0.00,0.00,0.00,smurf.', '0,icmp,ecr_i,SF,1032,0,0,0,0,0,0,0,0,0,0,0,0,0,0,0,0,0,511,511,0.00,0.00,0.00,0.00,1.00,0.00,0.00,255,255,1.00,0.00,1.00,0.00,0.00,0.00,0.00,0.00,smurf.']\n"
          ]
        }
      ],
      "source": [
        "# Veamos que pinta tienen esos datos\n",
        "print(train_rdata.collect()[:3])"
      ]
    },
    {
      "cell_type": "markdown",
      "id": "norwegian-denial",
      "metadata": {
        "id": "norwegian-denial"
      },
      "source": [
        "Como podemos ver, ha metido el CSV como un string en cada posición del array...\n",
        "\n",
        "También podemos ver que la forma de imprimir por pantalla el contenido de un RDD es 'peculiar'\n",
        "\n",
        "#### Preparamos los datos en forma de (etiqueta, vector de features), filtrando las columnas cualitativas 1,2,3 junto a la etiqueta correspondiente"
      ]
    },
    {
      "cell_type": "code",
      "execution_count": 6,
      "id": "attached-delta",
      "metadata": {
        "id": "attached-delta",
        "colab": {
          "base_uri": "https://localhost:8080/"
        },
        "outputId": "a6727de2-94a3-4855-e506-1f447821565b"
      },
      "outputs": [
        {
          "output_type": "stream",
          "name": "stdout",
          "text": [
            "10000\n",
            "1000\n"
          ]
        }
      ],
      "source": [
        "from pyspark.mllib.linalg import Vectors\n",
        "\n",
        "# Definimos una función para preparar los datos. Esta función tomará como parámetro cada elemento del RDD, que ya\n",
        "# sabemos que es un string separado por comas\n",
        "def transformData(x):\n",
        "    # Ya tenemos el String, ahora spliteamos por comas para tener cada feature en un elemento del array\n",
        "    splittedFeatures = x.split(\",\")\n",
        "\n",
        "    # Quitamos las columnas cualitativas, posición (1,2,3), en el volcado anterior tienen los valores\n",
        "    # \"icmp\", \"ecr_i\" y \"SF\", y la etiqueta que la identifica como ataque / tipo de ataque (último elemento del array)\n",
        "    # en el volcado anterior sería el valor \"smurf\"\n",
        "    onlyNumericalFeatures = [1,2,3,len(splittedFeatures)-1]\n",
        "\n",
        "    onlyNumericalFeaturesInFloat = []\n",
        "\n",
        "    # Convertimos los datos de string a float\n",
        "    for i in range(len(splittedFeatures)):\n",
        "        if i not in onlyNumericalFeatures:\n",
        "            onlyNumericalFeaturesInFloat.append(float(splittedFeatures[i]))\n",
        "\n",
        "    # Los metemos dentro de un vector\n",
        "    vector = Vectors.dense(onlyNumericalFeaturesInFloat)\n",
        "\n",
        "    # Recogemos la etiqueta, que estaba en la última posición\n",
        "    label = splittedFeatures[len(splittedFeatures)-1]\n",
        "\n",
        "    # Lo devolvemos\n",
        "    return (label, vector)\n",
        "\n",
        "# Aplicamos la transformación custom que acabamos de implementar a todo el dataset\n",
        "tr_treat = train_rdata.map(transformData)\n",
        "print (tr_treat.count())\n",
        "\n",
        "# Y también al de testing\n",
        "ts_treat = test_rdata.map(transformData)\n",
        "print (ts_treat.count())"
      ]
    },
    {
      "cell_type": "markdown",
      "source": [
        "quitar"
      ],
      "metadata": {
        "id": "ZZKv9-NSxAog"
      },
      "id": "ZZKv9-NSxAog"
    },
    {
      "cell_type": "code",
      "source": [
        "tr_treat.take(1)"
      ],
      "metadata": {
        "id": "GRwYVAMCw3QX",
        "colab": {
          "base_uri": "https://localhost:8080/"
        },
        "outputId": "dc7a350e-3acc-4946-deb7-3de85eebfb33"
      },
      "id": "GRwYVAMCw3QX",
      "execution_count": 7,
      "outputs": [
        {
          "output_type": "execute_result",
          "data": {
            "text/plain": [
              "[('smurf.',\n",
              "  DenseVector([0.0, 520.0, 0.0, 0.0, 0.0, 0.0, 0.0, 0.0, 0.0, 0.0, 0.0, 0.0, 0.0, 0.0, 0.0, 0.0, 0.0, 0.0, 0.0, 511.0, 511.0, 0.0, 0.0, 0.0, 0.0, 1.0, 0.0, 0.0, 255.0, 255.0, 1.0, 0.0, 1.0, 0.0, 0.0, 0.0, 0.0, 0.0]))]"
            ]
          },
          "metadata": {},
          "execution_count": 7
        }
      ]
    },
    {
      "cell_type": "markdown",
      "id": "domestic-nightmare",
      "metadata": {
        "id": "domestic-nightmare"
      },
      "source": [
        "Bien, como podemos observar, ya tenemos los datos como queríamos. Catalogados y transformados a float.\n",
        "\n",
        "Ahora vamos a curiosear un poco en los datos, a ver cómo están repartidos\n",
        "\n",
        "### Análisis de datos"
      ]
    },
    {
      "cell_type": "code",
      "execution_count": 8,
      "id": "norwegian-machinery",
      "metadata": {
        "id": "norwegian-machinery",
        "colab": {
          "base_uri": "https://localhost:8080/"
        },
        "outputId": "52374565-c731-4e24-9bd6-e4cfc4035a91"
      },
      "outputs": [
        {
          "output_type": "stream",
          "name": "stdout",
          "text": [
            "[('smurf.', 5665), ('neptune.', 2215), ('normal.', 2019), ('satan.', 26), ('ipsweep.', 28), ('back.', 9), ('portsweep.', 22), ('pod.', 2), ('nmap.', 8), ('warezclient.', 2), ('teardrop.', 4)]\n"
          ]
        }
      ],
      "source": [
        "import numpy as np\n",
        "from numpy import array\n",
        "\n",
        "# Obtenemos solo el vector (no pillamos la etiqueta)\n",
        "tr_treat_01 = tr_treat.map(lambda x: x[1])\n",
        "\n",
        "# Y aquí lo mismo, pero al revés. Nos quedamos solo con la etiqueta\n",
        "ltr_treat_01 = tr_treat.map(lambda x: x[0])\n",
        "\n",
        "# Vamos a contar cuántos tipos de errores tenemos\n",
        "cuentasErroresRdd = ltr_treat_01.map(lambda l: (l,1)).reduceByKey(lambda a,b: a+b)\n",
        "lcuentasErrores = cuentasErroresRdd.collect()\n",
        "\n",
        "print(lcuentasErrores)"
      ]
    },
    {
      "cell_type": "code",
      "execution_count": 9,
      "id": "ef6497e6-152a-450c-bc70-a7052d0ac714",
      "metadata": {
        "id": "ef6497e6-152a-450c-bc70-a7052d0ac714",
        "colab": {
          "base_uri": "https://localhost:8080/"
        },
        "outputId": "637b65bc-908f-42dc-9cd9-855f56e25477"
      },
      "outputs": [
        {
          "output_type": "stream",
          "name": "stdout",
          "text": [
            "defaultdict(<class 'int'>, {'smurf.': 5665, 'neptune.': 2215, 'normal.': 2019, 'satan.': 26, 'ipsweep.': 28, 'back.': 9, 'portsweep.': 22, 'pod.': 2, 'nmap.': 8, 'warezclient.': 2, 'teardrop.': 4})\n"
          ]
        }
      ],
      "source": [
        "dd = tr_treat.map(lambda x: (x[0], x[1])).countByKey()\n",
        "print(dd)"
      ]
    },
    {
      "cell_type": "code",
      "execution_count": 10,
      "id": "coastal-trainer",
      "metadata": {
        "id": "coastal-trainer",
        "colab": {
          "base_uri": "https://localhost:8080/",
          "height": 500
        },
        "outputId": "06a6d04c-36a5-437f-da5b-8d986c56bf9e"
      },
      "outputs": [
        {
          "output_type": "display_data",
          "data": {
            "text/plain": [
              "<Figure size 640x480 with 1 Axes>"
            ],
            "image/png": "[encoded data removed]"
          },
          "metadata": {}
        }
      ],
      "source": [
        "# Ahora lo dibujamos en una gráfica\n",
        "labErrores = list(map(lambda x: x[0],lcuentasErrores))\n",
        "y_pos = np.arange(len(labErrores))\n",
        "\n",
        "valErrores = list(map(lambda x: x[1],lcuentasErrores))\n",
        "\n",
        "plt.bar(y_pos, valErrores, align='center', alpha=0.5 )\n",
        "plt.xticks(y_pos, list(labErrores), rotation=90)\n",
        "plt.ylabel('Frecuencia Absoluta')\n",
        "plt.show()"
      ]
    },
    {
      "cell_type": "code",
      "execution_count": 11,
      "id": "grave-victor",
      "metadata": {
        "id": "grave-victor",
        "colab": {
          "base_uri": "https://localhost:8080/",
          "height": 525
        },
        "outputId": "59552ec3-dc4a-48d0-cad2-1a717092e2cc"
      },
      "outputs": [
        {
          "output_type": "display_data",
          "data": {
            "text/plain": [
              "<Figure size 640x480 with 1 Axes>"
            ],
            "image/png": "[encoded data removed]"
          },
          "metadata": {}
        }
      ],
      "source": [
        "# Ahora repetimos lo mismo para el conjunto de datos de test\n",
        "ts_treat_01 = ts_treat.map(lambda x: x[1])\n",
        "lts_treat_01 = ts_treat.map(lambda x: x[0])\n",
        "\n",
        "## Estadística descriptiva\n",
        "cuentasErroresRdd = lts_treat_01.map(lambda l: (l,1)).reduceByKey(lambda a,b:a+b)\n",
        "lcuentasErrores = cuentasErroresRdd.collect()\n",
        "labErrores = list(map(lambda x: x[0],lcuentasErrores))\n",
        "y_pos = np.arange(len(labErrores))\n",
        "valErrores = list(map(lambda x: x[1],lcuentasErrores))\n",
        "\n",
        "plt.bar(y_pos, valErrores, align='center', alpha=0.5 )\n",
        "plt.xticks(y_pos, labErrores, rotation=90)\n",
        "plt.ylabel('Frecuencia Absoluta')\n",
        "plt.show()"
      ]
    },
    {
      "cell_type": "markdown",
      "id": "ordered-chase",
      "metadata": {
        "id": "ordered-chase"
      },
      "source": [
        "Parece un pelín desbalanceado, quizá con más \"pico y pala\" podríamos mejorar eso. Hay algunos ataques del conjunto de datos de test que no aparecen en el conjunto de datos de entrenamiento, así que probablemente el accuracy no sea demasiado alto en este caso.\n",
        "\n",
        "Antes de entrenar tenemos que preocuparnos de normalizar los datos. Como hemos podido ver en el dataset, hay valores que \"chillan\" más que otros\n",
        "\n",
        "![image.png](attachment:image.png)\n",
        "\n",
        "Tenemos que normalizar las características. Veremos dos métodos.\n",
        "\n",
        "### Normalización de características"
      ]
    },
    {
      "cell_type": "code",
      "execution_count": 12,
      "id": "killing-thanksgiving",
      "metadata": {
        "id": "killing-thanksgiving",
        "colab": {
          "base_uri": "https://localhost:8080/"
        },
        "outputId": "99b22dca-5a1d-41b1-e9fd-2c65e7d1b5a4"
      },
      "outputs": [
        {
          "output_type": "stream",
          "name": "stdout",
          "text": [
            "Train: [Row(scaled_vector=DenseVector([-0.0744, -0.0803, -0.0898, 0.0, -0.0227, 0.0, -0.0323, 0.0, -0.4118, -0.0316, 0.0, 0.0, -0.0251, -0.0163, -0.0141, -0.0361, 0.0, 0.0, -0.0361, 0.8429, 0.8894, -0.4735, -0.4738, -0.2405, -0.241, 0.5435, -0.2646, -0.1984, 0.343, 0.6235, 0.6029, -0.2842, 0.8328, -0.1627, -0.474, -0.4734, -0.2436, -0.2432]))]\n",
            "Test: [Row(scaled_vector=DenseVector([-0.0744, -0.0803, -0.0898, 0.0, -0.0227, 0.0, -0.0323, 0.0, -0.4118, -0.0316, 0.0, 0.0, -0.0251, -0.0163, -0.0141, -0.0361, 0.0, 0.0, -0.0361, 0.8429, 0.8894, -0.4735, -0.4738, -0.2405, -0.241, 0.5435, -0.2646, -0.1984, 0.343, 0.6235, 0.6029, -0.2842, 0.8328, -0.1627, -0.474, -0.4734, -0.2436, -0.2432]))]\n"
          ]
        }
      ],
      "source": [
        "# Method 1. Usando StandardScaler. Sencillo y para toda la familia\n",
        "from pyspark.ml.feature import StandardScaler\n",
        "from pyspark.sql import SparkSession\n",
        "from pyspark.ml.linalg import Vectors\n",
        "# Creamos sesion\n",
        "spark = SparkSession.builder.getOrCreate()\n",
        "# Pasamos a df\n",
        "df_tr_treat = tr_treat_01.map(lambda line: (Vectors.dense(line),)).toDF([\"vector\"])\n",
        "df_ts_treat = ts_treat_01.map(lambda line: (Vectors.dense(line),)).toDF([\"vector\"])\n",
        "# Definimos el modelo de normalización de características\n",
        "scaler = StandardScaler(inputCol=\"vector\", outputCol=\"scaled_vector\", withMean=True, withStd=True)\n",
        "# Entrenamos el modelo\n",
        "scaler_model = scaler.fit(df_tr_treat)\n",
        "# Obtención de los datos\n",
        "std_train_data = scaler_model.transform(df_tr_treat).select(\"scaled_vector\")\n",
        "std_test_data = scaler_model.transform(df_ts_treat).select(\"scaled_vector\")\n",
        "# Rellenar aquí\n",
        "print (\"Train:\",std_train_data.take(1))\n",
        "print (\"Test:\", std_test_data.take(1))"
      ]
    },
    {
      "cell_type": "code",
      "source": [
        "'''from pyspark.sql import Row\n",
        "str_treat_label = tr_treat.map(lambda line: Row(label=line[0]))\n",
        "df_tr_treat_label = spark.createDataFrame(str_treat_label)\n",
        "display(df_tr_treat_label.drop_duplicates().show())'''\n"
      ],
      "metadata": {
        "id": "w4ffFdrDAJLF",
        "colab": {
          "base_uri": "https://localhost:8080/",
          "height": 55
        },
        "outputId": "18eb9b6c-50cc-46f5-a98a-dbc560d108b2"
      },
      "id": "w4ffFdrDAJLF",
      "execution_count": 13,
      "outputs": [
        {
          "output_type": "execute_result",
          "data": {
            "text/plain": [
              "'from pyspark.sql import Row\\nstr_treat_label = tr_treat.map(lambda line: Row(label=line[0]))\\ndf_tr_treat_label = spark.createDataFrame(str_treat_label)\\ndisplay(df_tr_treat_label.drop_duplicates().show())'"
            ],
            "application/vnd.google.colaboratory.intrinsic+json": {
              "type": "string"
            }
          },
          "metadata": {},
          "execution_count": 13
        }
      ]
    },
    {
      "cell_type": "code",
      "execution_count": 14,
      "id": "phantom-springfield",
      "metadata": {
        "id": "phantom-springfield",
        "colab": {
          "base_uri": "https://localhost:8080/"
        },
        "outputId": "425d6f76-0db0-4ea3-f73b-9b3e437540c0"
      },
      "outputs": [
        {
          "output_type": "stream",
          "name": "stdout",
          "text": [
            "Train: [DenseVector([-0.0744, -0.0803, -0.0898, 0.0, -0.0227, 0.0, -0.0323, 0.0, -0.4118, -0.0316, 0.0, 0.0, -0.0251, -0.0163, -0.0141, -0.0361, 0.0, 0.0, -0.0361, 0.843, 0.8894, -0.4736, -0.4738, -0.2405, -0.241, 0.5436, -0.2646, -0.1984, 0.343, 0.6235, 0.603, -0.2842, 0.8329, -0.1627, -0.474, -0.4734, -0.2436, -0.2432])]\n",
            "Test: [DenseVector([-0.0744, -0.0803, -0.0898, 0.0, -0.0227, 0.0, -0.0323, 0.0, -0.4118, -0.0316, 0.0, 0.0, -0.0251, -0.0163, -0.0141, -0.0361, 0.0, 0.0, -0.0361, 0.843, 0.8894, -0.4736, -0.4738, -0.2405, -0.241, 0.5436, -0.2646, -0.1984, 0.343, 0.6235, 0.603, -0.2842, 0.8329, -0.1627, -0.474, -0.4734, -0.2436, -0.2432])]\n"
          ]
        }
      ],
      "source": [
        "# Method 2. Usando nuestra propia función (la que hay en los apuntes)\n",
        "\n",
        "# Esto es más artesanal, pero sabes lo que haces ;)\n",
        "def escala(media, desviacion):\n",
        "    def _escala(vector):\n",
        "        epsilon = 0.000000001\n",
        "        vectR = (vector - media)/(desviacion + epsilon)\n",
        "        return vectR\n",
        "    return _escala\n",
        "\n",
        "media = tr_treat_01.mean()\n",
        "desv = tr_treat_01.stdev()\n",
        "std_train_data2 = tr_treat_01.map(escala(media,desv))\n",
        "std_test_data2 = ts_treat_01.map(escala(media,desv))\n",
        "\n",
        "print (\"Train:\", std_train_data2.take(1))\n",
        "print (\"Test:\", std_test_data2.take(1))"
      ]
    },
    {
      "cell_type": "markdown",
      "id": "radical-object",
      "metadata": {
        "id": "radical-object"
      },
      "source": [
        "**Son las mismas**. Moraleja, usad StandardScaler"
      ]
    },
    {
      "cell_type": "code",
      "source": [
        "# Preparamos las etiquetas. Como es un modelo binomial, solo tendremos dos variables 0 y 1\n",
        "# 0 será que no hay ataque y 1 será que si que hay ataque\n",
        "from pyspark.mllib.regression import LabeledPoint\n",
        "from pyspark.ml.linalg import DenseVector\n",
        "train_rdata_std = ltr_treat_01.zip(std_train_data.select(\"scaled_vector\").rdd)\n",
        "test_rdata_std = lts_treat_01.zip(std_test_data.select(\"scaled_vector\").rdd)\n",
        "def prepDatosClasBinario(x):\n",
        "    label = x[0]\n",
        "    v_datos = x[1]\n",
        "\n",
        "    ataque = 1\n",
        "    if (label.find('normal') >=0 ):\n",
        "        ataque = 0\n",
        "\n",
        "    vector = DenseVector(v_datos).values\n",
        "\n",
        "    return LabeledPoint(ataque, vector)\n",
        "\n",
        "train_data = train_rdata_std.map(lambda x: [x[0],x[1]]).map(prepDatosClasBinario)\n",
        "test_data = test_rdata_std.map(lambda x: [x[0],x[1]]).map(prepDatosClasBinario)\n",
        "\n",
        "print(\"Train: \",train_data.take(2))\n",
        "print(\"Test: \",test_data.take(2))"
      ],
      "metadata": {
        "id": "NGJbD5aK1DgT",
        "colab": {
          "base_uri": "https://localhost:8080/"
        },
        "outputId": "3e4f0fd9-b5b3-4def-8940-45bbd130b1f2"
      },
      "id": "NGJbD5aK1DgT",
      "execution_count": 15,
      "outputs": [
        {
          "output_type": "stream",
          "name": "stdout",
          "text": [
            "Train:  [LabeledPoint(1.0, [-0.07439697636174623,-0.08032717874163063,-0.08981680428706246,0.0,-0.02271572240082217,0.0,-0.03230059675814934,0.0,-0.4117932542071644,-0.031637017888873485,0.0,0.0,-0.025123220519887732,-0.016331292752446887,-0.014142842854277925,-0.036077167719207555,0.0,0.0,-0.036077167719207555,0.842929005315917,0.8893621649633467,-0.47353956361513533,-0.4738069286062516,-0.2404806543482855,-0.24097813272761465,0.5435477979783391,-0.26456089458696075,-0.19843574776607154,0.3430282463382891,0.6234941516320116,0.6029485998237842,-0.2841959954406004,0.8328402678504768,-0.16273494498443217,-0.4739563685518049,-0.47337084329519136,-0.24357865324647887,-0.24322131073369385]), LabeledPoint(1.0, [-0.07439697636174623,0.15309922912777946,-0.08981680428706246,0.0,-0.02271572240082217,0.0,-0.03230059675814934,0.0,-0.4117932542071644,-0.031637017888873485,0.0,0.0,-0.025123220519887732,-0.016331292752446887,-0.014142842854277925,-0.036077167719207555,0.0,0.0,-0.036077167719207555,0.842929005315917,0.8893621649633467,-0.47353956361513533,-0.4738069286062516,-0.2404806543482855,-0.24097813272761465,0.5435477979783391,-0.26456089458696075,-0.19843574776607154,0.3430282463382891,0.6234941516320116,0.6029485998237842,-0.2841959954406004,0.8328402678504768,-0.16273494498443217,-0.4739563685518049,-0.47337084329519136,-0.24357865324647887,-0.24322131073369385])]\n",
            "Test:  [LabeledPoint(1.0, [-0.07439697636174623,-0.08032717874163063,-0.08981680428706246,0.0,-0.02271572240082217,0.0,-0.03230059675814934,0.0,-0.4117932542071644,-0.031637017888873485,0.0,0.0,-0.025123220519887732,-0.016331292752446887,-0.014142842854277925,-0.036077167719207555,0.0,0.0,-0.036077167719207555,0.842929005315917,0.8893621649633467,-0.47353956361513533,-0.4738069286062516,-0.2404806543482855,-0.24097813272761465,0.5435477979783391,-0.26456089458696075,-0.19843574776607154,0.3430282463382891,0.6234941516320116,0.6029485998237842,-0.2841959954406004,0.8328402678504768,-0.16273494498443217,-0.4739563685518049,-0.47337084329519136,-0.24357865324647887,-0.24322131073369385]), LabeledPoint(1.0, [-0.07439697636174623,0.15309922912777946,-0.08981680428706246,0.0,-0.02271572240082217,0.0,-0.03230059675814934,0.0,-0.4117932542071644,-0.031637017888873485,0.0,0.0,-0.025123220519887732,-0.016331292752446887,-0.014142842854277925,-0.036077167719207555,0.0,0.0,-0.036077167719207555,0.842929005315917,0.8893621649633467,-0.47353956361513533,-0.4738069286062516,-0.2404806543482855,-0.24097813272761465,0.5435477979783391,-0.26456089458696075,-0.19843574776607154,0.3430282463382891,0.6234941516320116,0.6029485998237842,-0.2841959954406004,0.8328402678504768,-0.16273494498443217,-0.4739563685518049,-0.47337084329519136,-0.24357865324647887,-0.24322131073369385])]\n"
          ]
        }
      ]
    },
    {
      "cell_type": "code",
      "execution_count": 16,
      "id": "moved-request",
      "metadata": {
        "id": "moved-request",
        "colab": {
          "base_uri": "https://localhost:8080/",
          "height": 859
        },
        "outputId": "c4ea683b-40ce-4018-ebc4-46eb5a914b15"
      },
      "outputs": [
        {
          "output_type": "display_data",
          "data": {
            "text/plain": [
              "<Figure size 640x480 with 1 Axes>"
            ],
            "image/png": "[encoded data removed]"
          },
          "metadata": {}
        },
        {
          "output_type": "display_data",
          "data": {
            "text/plain": [
              "<Figure size 640x480 with 1 Axes>"
            ],
            "image/png": "[encoded data removed]"
          },
          "metadata": {}
        }
      ],
      "source": [
        "# Vamos a ver que pinta tiene\n",
        "tr_treat_01 = train_data.map(lambda p: p.features)\n",
        "ltr_treat_01 = train_data.map(lambda p: p.label)\n",
        "\n",
        "# Estadística descriptiva\n",
        "cuentasErroresRdd = ltr_treat_01.map(lambda l: (l,1)).reduceByKey(lambda a,b:a+b)\n",
        "lcuentasErrores=cuentasErroresRdd.collect()\n",
        "labErrores=list(map(lambda x:x[0],lcuentasErrores))\n",
        "\n",
        "y_pos = np.arange(len(labErrores))\n",
        "valErrores=list(map(lambda x:x[1],lcuentasErrores))\n",
        "plt.bar(y_pos, valErrores, align='center', alpha=0.5 )\n",
        "plt.xticks(y_pos, labErrores, rotation=90)\n",
        "plt.ylabel('Frecuencia Absoluta (training)')\n",
        "plt.show()\n",
        "\n",
        "ts_treat_01 = test_data.map(lambda p: p.feautes)\n",
        "lts_treat_01 = test_data.map(lambda p: p.label)\n",
        "\n",
        "# Estadística descriptiva\n",
        "cuentasErroresRdd=lts_treat_01.map(lambda l: (l,1)).reduceByKey(lambda a,b:a+b)\n",
        "lcuentasErrores=cuentasErroresRdd.collect()\n",
        "labErrores=list(map(lambda x:x[0],lcuentasErrores))\n",
        "y_pos = np.arange(len(labErrores))\n",
        "valErrores=list(map(lambda x:x[1],lcuentasErrores))\n",
        "plt.bar(y_pos, valErrores, align='center', alpha=0.5 )\n",
        "plt.xticks(y_pos, labErrores, rotation=90)\n",
        "plt.ylabel('Frecuencia Absoluta (testing)')\n",
        "plt.show()"
      ]
    },
    {
      "cell_type": "markdown",
      "id": "prerequisite-heater",
      "metadata": {
        "id": "prerequisite-heater"
      },
      "source": [
        "Bueno, en números absolutos no está tan desbalanceado como parecía. Al agrupar todos los ataques en una sola categoría (1), ha quedado bastante bien"
      ]
    },
    {
      "cell_type": "code",
      "source": [
        "train_data.take(1)"
      ],
      "metadata": {
        "id": "Rx99soJR04sX",
        "colab": {
          "base_uri": "https://localhost:8080/"
        },
        "outputId": "1a8209d4-cb0b-46e9-ed9a-8a63fa27af52"
      },
      "id": "Rx99soJR04sX",
      "execution_count": 17,
      "outputs": [
        {
          "output_type": "execute_result",
          "data": {
            "text/plain": [
              "[LabeledPoint(1.0, [-0.07439697636174623,-0.08032717874163063,-0.08981680428706246,0.0,-0.02271572240082217,0.0,-0.03230059675814934,0.0,-0.4117932542071644,-0.031637017888873485,0.0,0.0,-0.025123220519887732,-0.016331292752446887,-0.014142842854277925,-0.036077167719207555,0.0,0.0,-0.036077167719207555,0.842929005315917,0.8893621649633467,-0.47353956361513533,-0.4738069286062516,-0.2404806543482855,-0.24097813272761465,0.5435477979783391,-0.26456089458696075,-0.19843574776607154,0.3430282463382891,0.6234941516320116,0.6029485998237842,-0.2841959954406004,0.8328402678504768,-0.16273494498443217,-0.4739563685518049,-0.47337084329519136,-0.24357865324647887,-0.24322131073369385])]"
            ]
          },
          "metadata": {},
          "execution_count": 17
        }
      ]
    },
    {
      "cell_type": "code",
      "source": [
        "test_data.take(1)"
      ],
      "metadata": {
        "id": "WD7w19VnBoMo",
        "colab": {
          "base_uri": "https://localhost:8080/"
        },
        "outputId": "42319281-afb4-43c4-bd4b-ef41f8cfce1a"
      },
      "id": "WD7w19VnBoMo",
      "execution_count": 18,
      "outputs": [
        {
          "output_type": "execute_result",
          "data": {
            "text/plain": [
              "[LabeledPoint(1.0, [-0.07439697636174623,-0.08032717874163063,-0.08981680428706246,0.0,-0.02271572240082217,0.0,-0.03230059675814934,0.0,-0.4117932542071644,-0.031637017888873485,0.0,0.0,-0.025123220519887732,-0.016331292752446887,-0.014142842854277925,-0.036077167719207555,0.0,0.0,-0.036077167719207555,0.842929005315917,0.8893621649633467,-0.47353956361513533,-0.4738069286062516,-0.2404806543482855,-0.24097813272761465,0.5435477979783391,-0.26456089458696075,-0.19843574776607154,0.3430282463382891,0.6234941516320116,0.6029485998237842,-0.2841959954406004,0.8328402678504768,-0.16273494498443217,-0.4739563685518049,-0.47337084329519136,-0.24357865324647887,-0.24322131073369385])]"
            ]
          },
          "metadata": {},
          "execution_count": 18
        }
      ]
    },
    {
      "cell_type": "code",
      "execution_count": 19,
      "id": "coordinate-confusion",
      "metadata": {
        "id": "coordinate-confusion",
        "colab": {
          "base_uri": "https://localhost:8080/"
        },
        "outputId": "6984ead7-263d-4df1-92a5-bd5940360df3"
      },
      "outputs": [
        {
          "output_type": "stream",
          "name": "stdout",
          "text": [
            "0.0\n",
            "[-0.13520582561928965,0.34010591659877787,-1.02955831179824,0.0,0.8839216874848672,0.0,-0.24721604350021426,0.0,-4.626012245474581,1.1827529970687065,0.0,0.0,-0.18643955659355396,-0.19099022962295945,-0.16567738014832029,-0.42073598474469914,0.0,0.0,-0.41308620072460683,3.044876614400878,2.416895882537301,0.8147609707432417,0.8071586047486634,0.40814468708670115,0.41579791646074815,-1.302337870606114,-0.11765607001936187,0.321306046577948,2.7089559560179333,-1.3270528932356498,-1.1522617565715372,-0.26691228114838184,3.068082921106211,1.3893286692869646,0.8142786631172578,0.8133483693140964,0.29145013675437004,0.40555560785998196]\n"
          ]
        }
      ],
      "source": [
        "# Entrenamos el modelo\n",
        "#!pip freeze | grep pyspark --> para ver version de pyspark\n",
        "#!apt-get -qq install -y pyspark.mllib.classification --> Este es el que ha funcionado\n",
        "from pyspark.mllib.classification import LogisticRegressionWithLBFGS\n",
        "lm = LogisticRegressionWithLBFGS.train(train_data, iterations=10)\n",
        "# Intercept del modelo\n",
        "print(lm.intercept)\n",
        "\n",
        "# Pesos del modelo\n",
        "print(lm.weights)"
      ]
    },
    {
      "cell_type": "code",
      "source": [
        "test_data.toDF().printSchema()\n",
        "# Comprobamos el número total de registros en el test_data\n",
        "num_records = test_data.count()\n",
        "print(\"Número de registros en test_data:\", num_records)\n",
        "# Comprobamos las caracteristicas del primer registro del test_data\n",
        "first_record = test_data.first()\n",
        "num_features = len(first_record.features)\n",
        "print(\"Número de características en el primer registro:\", num_features)"
      ],
      "metadata": {
        "id": "tRFFLQcnNu0M",
        "colab": {
          "base_uri": "https://localhost:8080/"
        },
        "outputId": "7f6beb1e-670c-4a6c-d84d-01efb155194a"
      },
      "id": "tRFFLQcnNu0M",
      "execution_count": 20,
      "outputs": [
        {
          "output_type": "stream",
          "name": "stdout",
          "text": [
            "root\n",
            " |-- features: vector (nullable = true)\n",
            " |-- label: double (nullable = true)\n",
            "\n",
            "Número de registros en test_data: 1000\n",
            "Número de características en el primer registro: 38\n"
          ]
        }
      ]
    },
    {
      "cell_type": "code",
      "source": [
        "#Tratamos estos datos\n",
        "from pyspark.sql import SparkSession\n",
        "\n",
        "etiquetas = []\n",
        "predicciones = []\n",
        "test_records = test_data.collect()\n",
        "\n",
        "for record in test_records:\n",
        "    etiquetas.append(float(record.label))\n",
        "    predicciones.append(float(lm.predict(record.features)))\n",
        "\n",
        "# Creamos SparkSession\n",
        "spark = SparkSession.builder.getOrCreate()\n",
        "# Creamos DataFrame a partir de las listas de etiquetas y predicciones\n",
        "df_test = spark.createDataFrame(zip(etiquetas, predicciones), [\"etiqueta\", \"predicciones\"])\n",
        "# Visualizamos\n",
        "df_test.show()\n",
        "# Guardamos los datos en la misma variable que registran\n",
        "etiq_y_pred = df_test.rdd"
      ],
      "metadata": {
        "id": "PW0BEQN8ZAJO",
        "colab": {
          "base_uri": "https://localhost:8080/"
        },
        "outputId": "04441569-cd93-4934-e4ed-1de6d0031a66"
      },
      "id": "PW0BEQN8ZAJO",
      "execution_count": 21,
      "outputs": [
        {
          "output_type": "stream",
          "name": "stdout",
          "text": [
            "+--------+------------+\n",
            "|etiqueta|predicciones|\n",
            "+--------+------------+\n",
            "|     1.0|         1.0|\n",
            "|     1.0|         1.0|\n",
            "|     1.0|         1.0|\n",
            "|     1.0|         0.0|\n",
            "|     0.0|         0.0|\n",
            "|     1.0|         0.0|\n",
            "|     1.0|         1.0|\n",
            "|     1.0|         1.0|\n",
            "|     1.0|         1.0|\n",
            "|     1.0|         1.0|\n",
            "|     1.0|         0.0|\n",
            "|     1.0|         1.0|\n",
            "|     1.0|         1.0|\n",
            "|     1.0|         1.0|\n",
            "|     1.0|         1.0|\n",
            "|     1.0|         1.0|\n",
            "|     1.0|         0.0|\n",
            "|     0.0|         0.0|\n",
            "|     0.0|         0.0|\n",
            "|     1.0|         1.0|\n",
            "+--------+------------+\n",
            "only showing top 20 rows\n",
            "\n"
          ]
        }
      ]
    },
    {
      "cell_type": "code",
      "execution_count": 22,
      "id": "divine-length",
      "metadata": {
        "id": "divine-length",
        "colab": {
          "base_uri": "https://localhost:8080/"
        },
        "outputId": "b9c4fb65-71ef-4f27-d3fd-c19c2d54fef8"
      },
      "outputs": [
        {
          "output_type": "stream",
          "name": "stdout",
          "text": [
            "Error: 19.1%\n"
          ]
        }
      ],
      "source": [
        "# Ahora vamos a ver como se comporta el modelo con los datos de test\n",
        "\n",
        "# Para eso\n",
        "#etiq_y_pred = test_data.map(lambda p: (p.label, lm.predict(p.features)))\n",
        "\n",
        "def cuentasOKvsKO(v):\n",
        "    vR = v[0]\n",
        "    vP = v[1]\n",
        "\n",
        "    resultado=\"OK\"\n",
        "    if (vR != vP):\n",
        "        resultado=\"KO\"\n",
        "\n",
        "    return (resultado,1)\n",
        "\n",
        "resultados = etiq_y_pred.map(cuentasOKvsKO).reduceByKey(lambda v1,v2: v1+v2).collect()\n",
        "\n",
        "# Esta es una función que hizo un compañero, comprobar que calculaError da igual que 1-accuracy si utilizamos pyspark y sklearn\n",
        "def calculaError(v):\n",
        "\n",
        "    dRes={}\n",
        "    dRes[v[0][0]]=v[0][1]\n",
        "    dRes[v[1][0]]=v[1][1]\n",
        "\n",
        "    error = float(dRes[\"KO\"])*100/(float(dRes[\"OK\"])+float(dRes[\"KO\"]))\n",
        "\n",
        "    return error\n",
        "\n",
        "error = calculaError(resultados)\n",
        "print (\"Error: {}%\".format(round(error,2)))"
      ]
    },
    {
      "cell_type": "code",
      "execution_count": 23,
      "id": "938b998c-d2c1-44e6-996b-a7717a96b9f3",
      "metadata": {
        "id": "938b998c-d2c1-44e6-996b-a7717a96b9f3"
      },
      "outputs": [],
      "source": [
        "#etiq_y_pred.collect()\n",
        "y_true = etiq_y_pred.map(lambda x: x[0]).collect()\n",
        "y_pred = etiq_y_pred.map(lambda x: x[1]).collect()"
      ]
    },
    {
      "cell_type": "code",
      "execution_count": 24,
      "id": "b3e452fc-1267-417a-b188-58c3098320d0",
      "metadata": {
        "id": "b3e452fc-1267-417a-b188-58c3098320d0",
        "colab": {
          "base_uri": "https://localhost:8080/"
        },
        "outputId": "6a74dc5e-ffb8-4809-915a-6839520d8568"
      },
      "outputs": [
        {
          "output_type": "stream",
          "name": "stdout",
          "text": [
            "<class 'list'>\n",
            "<class 'list'>\n"
          ]
        }
      ],
      "source": [
        "print(type(y_true))\n",
        "print(type(y_pred))"
      ]
    },
    {
      "cell_type": "code",
      "execution_count": 25,
      "id": "9cc3f9ee-b929-4f2f-8663-37eaa3fd462f",
      "metadata": {
        "id": "9cc3f9ee-b929-4f2f-8663-37eaa3fd462f",
        "colab": {
          "base_uri": "https://localhost:8080/"
        },
        "outputId": "122c405f-ea40-4c03-a6a6-32c524418fe9"
      },
      "outputs": [
        {
          "output_type": "stream",
          "name": "stdout",
          "text": [
            "Error: 19.1%\n"
          ]
        }
      ],
      "source": [
        "import sklearn\n",
        "from sklearn.metrics import accuracy_score\n",
        "\n",
        "# RELLENAR AQUÍ => utilizar y_true y_pred\n",
        "#Comprobación del error con sklearn.\n",
        "from sklearn.metrics import accuracy_score\n",
        "accuracy = accuracy_score(y_true, y_pred)\n",
        "error2 = 1 - accuracy\n",
        "print(\"Error: {}%\".format(round(error2*100,2)))"
      ]
    },
    {
      "cell_type": "markdown",
      "id": "ede57675-07d3-4870-97df-35c664f71c08",
      "metadata": {
        "id": "ede57675-07d3-4870-97df-35c664f71c08"
      },
      "source": [
        "# Empezar aquí ejercicio clasificación multiclase"
      ]
    },
    {
      "cell_type": "code",
      "source": [
        "# Obtenemos solo el vector (no pillamos la etiqueta)\n",
        "tr_treat_02 = tr_treat.map(lambda x: x[1])\n",
        "# Y aquí lo mismo, pero al revés. Nos quedamos solo con la etiqueta\n",
        "ltr_treat_02 = tr_treat.map(lambda x: x[0])\n",
        "# Hacemos los mismo para el test\n",
        "ts_treat_02 = ts_treat.map(lambda x: x[1])\n",
        "lts_treat_02 = ts_treat.map(lambda x: x[0])"
      ],
      "metadata": {
        "id": "mQA0DxB9yB8R"
      },
      "id": "mQA0DxB9yB8R",
      "execution_count": 26,
      "outputs": []
    },
    {
      "cell_type": "code",
      "source": [
        "#Codificación de variables categoricas --> PARTE DE ETIQUETAS\n",
        "from pyspark.ml.feature import StringIndexer\n",
        "from pyspark.sql import SparkSession\n",
        "\n",
        "spark = SparkSession.builder.getOrCreate()\n",
        "\n",
        "# Convertimos el RDD a un DataFrame\n",
        "df_ltr = ltr_treat_02.map(lambda x: (x,)).toDF([\"etiqueta\"])\n",
        "df_lts = lts_treat_02.map(lambda x: (x,)).toDF([\"etiqueta\"])\n",
        "# Aplicamos la codificación de etiquetas\n",
        "indexer = StringIndexer(inputCol=\"etiqueta\", outputCol=\"etiqueta_numerica\")\n",
        "df_encoded_ltr = indexer.fit(df_ltr).transform(df_ltr)\n",
        "df_encoded_lts = indexer.fit(df_lts).transform(df_lts)\n",
        "# Vemos el resultado y los pasamos a rdd (para luego poder hacer un zip)\n",
        "ltr_treat_02_encoded = df_encoded_ltr.select(\"etiqueta_numerica\").rdd.map(lambda row: row.etiqueta_numerica)\n",
        "lts_treat_02_encoded = df_encoded_lts.select(\"etiqueta_numerica\").rdd.map(lambda row: row.etiqueta_numerica)\n",
        "#Almacenamos los resultados por darles un vistazo.\n",
        "resultado_ltr = ltr_treat_02_encoded.take(15)\n",
        "resultado_lts = lts_treat_02_encoded.take(15)\n",
        "'''Mostramos los resultados para saber como ha sido la codificación smurf = 0, neptune = 1, normal = 2, snmpgetattack = 3\n",
        "mailbomb = 4'''\n",
        "for numero in resultado_ltr:\n",
        "    print(numero)\n",
        "ltr_treat_02.take(15)"
      ],
      "metadata": {
        "colab": {
          "base_uri": "https://localhost:8080/"
        },
        "id": "ODJysBSm7I4b",
        "outputId": "69c51a71-c56b-4a24-fa67-0234bd28b111"
      },
      "id": "ODJysBSm7I4b",
      "execution_count": 27,
      "outputs": [
        {
          "output_type": "stream",
          "name": "stdout",
          "text": [
            "0.0\n",
            "0.0\n",
            "0.0\n",
            "0.0\n",
            "0.0\n",
            "0.0\n",
            "0.0\n",
            "1.0\n",
            "0.0\n",
            "1.0\n",
            "0.0\n",
            "2.0\n",
            "1.0\n",
            "0.0\n",
            "2.0\n"
          ]
        },
        {
          "output_type": "execute_result",
          "data": {
            "text/plain": [
              "['smurf.',\n",
              " 'smurf.',\n",
              " 'smurf.',\n",
              " 'smurf.',\n",
              " 'smurf.',\n",
              " 'smurf.',\n",
              " 'smurf.',\n",
              " 'neptune.',\n",
              " 'smurf.',\n",
              " 'neptune.',\n",
              " 'smurf.',\n",
              " 'normal.',\n",
              " 'neptune.',\n",
              " 'smurf.',\n",
              " 'normal.']"
            ]
          },
          "metadata": {},
          "execution_count": 27
        }
      ]
    },
    {
      "cell_type": "code",
      "source": [
        "#Vemos los del Test\n",
        "for numero in resultado_lts:\n",
        "    print(numero)\n",
        "lts_treat_02.take(15)"
      ],
      "metadata": {
        "colab": {
          "base_uri": "https://localhost:8080/"
        },
        "id": "g3P2jdvdEg3-",
        "outputId": "403108db-6ebc-4354-92b3-647c1d35d278"
      },
      "id": "g3P2jdvdEg3-",
      "execution_count": 28,
      "outputs": [
        {
          "output_type": "stream",
          "name": "stdout",
          "text": [
            "0.0\n",
            "0.0\n",
            "2.0\n",
            "4.0\n",
            "1.0\n",
            "0.0\n",
            "2.0\n",
            "0.0\n",
            "2.0\n",
            "0.0\n",
            "3.0\n",
            "2.0\n",
            "0.0\n",
            "0.0\n",
            "0.0\n"
          ]
        },
        {
          "output_type": "execute_result",
          "data": {
            "text/plain": [
              "['smurf.',\n",
              " 'smurf.',\n",
              " 'neptune.',\n",
              " 'mailbomb.',\n",
              " 'normal.',\n",
              " 'smurf.',\n",
              " 'neptune.',\n",
              " 'smurf.',\n",
              " 'neptune.',\n",
              " 'smurf.',\n",
              " 'snmpgetattack.',\n",
              " 'neptune.',\n",
              " 'smurf.',\n",
              " 'smurf.',\n",
              " 'smurf.']"
            ]
          },
          "metadata": {},
          "execution_count": 28
        }
      ]
    },
    {
      "cell_type": "code",
      "source": [
        "#Contamos los valores que tenemos en el train de los posibles tipos de ataques.\n",
        "ltr_treat_02_encoded.count()"
      ],
      "metadata": {
        "id": "bdywb6xCheBC",
        "colab": {
          "base_uri": "https://localhost:8080/"
        },
        "outputId": "b9d25289-9077-4cce-cd84-1d28f52afb19"
      },
      "id": "bdywb6xCheBC",
      "execution_count": 29,
      "outputs": [
        {
          "output_type": "execute_result",
          "data": {
            "text/plain": [
              "10000"
            ]
          },
          "metadata": {},
          "execution_count": 29
        }
      ]
    },
    {
      "cell_type": "code",
      "source": [
        "#Contamos los valores que tenemos en el test de los posibles tipos de ataques.\n",
        "lts_treat_02_encoded.count()"
      ],
      "metadata": {
        "colab": {
          "base_uri": "https://localhost:8080/"
        },
        "id": "aKiTYLQnE3A4",
        "outputId": "91d3591c-805f-4743-8dab-efeecf582139"
      },
      "id": "aKiTYLQnE3A4",
      "execution_count": 30,
      "outputs": [
        {
          "output_type": "execute_result",
          "data": {
            "text/plain": [
              "1000"
            ]
          },
          "metadata": {},
          "execution_count": 30
        }
      ]
    },
    {
      "cell_type": "code",
      "source": [
        "# Method 1. Usando StandardScaler. Sencillo y para toda la familia --> PARTE DE LOS VALORES POR DESVIACION TIPICA EN VECTOR.\n",
        "from pyspark.ml.feature import StandardScaler\n",
        "from pyspark.sql import SparkSession\n",
        "from pyspark.ml.linalg import Vectors\n",
        "from pyspark.ml.feature import VectorAssembler\n",
        "from pyspark.sql.functions import col\n",
        "# Creamos sesion\n",
        "spark = SparkSession.builder.getOrCreate()\n",
        "# Pasamos a df\n",
        "df_tr_treat2 = tr_treat_02.map(lambda line: ((line),)).toDF([\"features\"])\n",
        "df_ts_treat2 = ts_treat_02.map(lambda line: ((line),)).toDF([\"features\"])\n",
        "assembler = VectorAssembler(inputCols=[\"features\"],outputCol=\"features2\")\n",
        "assembled = assembler.transform(df_tr_treat2)\n",
        "# Definimos el modelo de normalización de características\n",
        "scaler = StandardScaler(inputCol=\"features\", outputCol=\"scaledFeatures\", withMean=True, withStd=True)\n",
        "# Entrenamos el modelo\n",
        "scaler_model2 = scaler.fit(assembled)\n",
        "# Obtención de los datos\n",
        "std_train_data2 = scaler_model2.transform(df_tr_treat2)\n",
        "std_test_data2 = scaler_model2.transform(df_ts_treat2)\n",
        "# Conversión en rdd para posteriomente juntarlos con el metodo zip\n",
        "std_train_data3 = std_train_data2.rdd\n",
        "std_test_data3 = std_test_data2.rdd\n",
        "#Contamos los valores de std_train\n",
        "std_train_data3.count()"
      ],
      "metadata": {
        "id": "757ndl2V5IcO",
        "colab": {
          "base_uri": "https://localhost:8080/"
        },
        "outputId": "ee456e26-7e66-4a48-8cb7-f479a621542b"
      },
      "id": "757ndl2V5IcO",
      "execution_count": 31,
      "outputs": [
        {
          "output_type": "execute_result",
          "data": {
            "text/plain": [
              "10000"
            ]
          },
          "metadata": {},
          "execution_count": 31
        }
      ]
    },
    {
      "cell_type": "code",
      "source": [
        "#Y de std_test:\n",
        "std_test_data3.count()"
      ],
      "metadata": {
        "colab": {
          "base_uri": "https://localhost:8080/"
        },
        "id": "rd61Suk0FU1s",
        "outputId": "8c177c8d-05c9-44fa-c25e-8a3950846768"
      },
      "id": "rd61Suk0FU1s",
      "execution_count": 32,
      "outputs": [
        {
          "output_type": "execute_result",
          "data": {
            "text/plain": [
              "1000"
            ]
          },
          "metadata": {},
          "execution_count": 32
        }
      ]
    },
    {
      "cell_type": "code",
      "source": [
        "#Union de rdds\n",
        "from pyspark.mllib.regression import LabeledPoint\n",
        "from pyspark.ml.linalg import DenseVector\n",
        "from pyspark.sql import Row\n",
        "from pyspark.ml.linalg import Vectors, VectorUDT\n",
        "\n",
        "train_rdata_std2 = ltr_treat_02_encoded.zip(std_train_data3)\n",
        "test_rdata_std2 = lts_treat_02_encoded.zip(std_test_data3)"
      ],
      "metadata": {
        "id": "ZRIx8bei5zMt"
      },
      "id": "ZRIx8bei5zMt",
      "execution_count": 33,
      "outputs": []
    },
    {
      "cell_type": "code",
      "source": [
        "train_rdata_std2.take(1)"
      ],
      "metadata": {
        "colab": {
          "base_uri": "https://localhost:8080/"
        },
        "id": "0B8g1nl_1fMo",
        "outputId": "60421142-687c-44c3-d74e-c8481972e057"
      },
      "id": "0B8g1nl_1fMo",
      "execution_count": 34,
      "outputs": [
        {
          "output_type": "execute_result",
          "data": {
            "text/plain": [
              "[(0.0,\n",
              "  Row(features=DenseVector([0.0, 520.0, 0.0, 0.0, 0.0, 0.0, 0.0, 0.0, 0.0, 0.0, 0.0, 0.0, 0.0, 0.0, 0.0, 0.0, 0.0, 0.0, 0.0, 511.0, 511.0, 0.0, 0.0, 0.0, 0.0, 1.0, 0.0, 0.0, 255.0, 255.0, 1.0, 0.0, 1.0, 0.0, 0.0, 0.0, 0.0, 0.0]), scaledFeatures=DenseVector([-0.0744, -0.0803, -0.0898, 0.0, -0.0227, 0.0, -0.0323, 0.0, -0.4118, -0.0316, 0.0, 0.0, -0.0251, -0.0163, -0.0141, -0.0361, 0.0, 0.0, -0.0361, 0.8429, 0.8894, -0.4735, -0.4738, -0.2405, -0.241, 0.5435, -0.2646, -0.1984, 0.343, 0.6235, 0.6029, -0.2842, 0.8328, -0.1627, -0.474, -0.4734, -0.2436, -0.2432])))]"
            ]
          },
          "metadata": {},
          "execution_count": 34
        }
      ]
    },
    {
      "cell_type": "code",
      "source": [
        "test_rdata_std2.take(1)"
      ],
      "metadata": {
        "colab": {
          "base_uri": "https://localhost:8080/"
        },
        "id": "IcxkSsMCGHII",
        "outputId": "bfc5dc25-b7ef-4147-a7fd-59060c4fda83"
      },
      "id": "IcxkSsMCGHII",
      "execution_count": 35,
      "outputs": [
        {
          "output_type": "execute_result",
          "data": {
            "text/plain": [
              "[(0.0,\n",
              "  Row(features=DenseVector([0.0, 520.0, 0.0, 0.0, 0.0, 0.0, 0.0, 0.0, 0.0, 0.0, 0.0, 0.0, 0.0, 0.0, 0.0, 0.0, 0.0, 0.0, 0.0, 511.0, 511.0, 0.0, 0.0, 0.0, 0.0, 1.0, 0.0, 0.0, 255.0, 255.0, 1.0, 0.0, 1.0, 0.0, 0.0, 0.0, 0.0, 0.0]), scaledFeatures=DenseVector([-0.0744, -0.0803, -0.0898, 0.0, -0.0227, 0.0, -0.0323, 0.0, -0.4118, -0.0316, 0.0, 0.0, -0.0251, -0.0163, -0.0141, -0.0361, 0.0, 0.0, -0.0361, 0.8429, 0.8894, -0.4735, -0.4738, -0.2405, -0.241, 0.5435, -0.2646, -0.1984, 0.343, 0.6235, 0.6029, -0.2842, 0.8328, -0.1627, -0.474, -0.4734, -0.2436, -0.2432])))]"
            ]
          },
          "metadata": {},
          "execution_count": 35
        }
      ]
    },
    {
      "cell_type": "code",
      "source": [
        "#Visualizamos el Dataframe de Train\n",
        "'''data = train_rdata_std2.map(lambda x: (x[0], x[1].asDict())).collect()\n",
        "df_train = spark.createDataFrame(data, schema=[\"label\", \"features\"])\n",
        "df_train.show(15)'''\n",
        "data = train_rdata_std2.map(lambda x: (x[0], x[1]['features'])).collect()\n",
        "df_train = spark.createDataFrame(data, schema=[\"label\", \"features\"])\n",
        "df_train.show(15)"
      ],
      "metadata": {
        "colab": {
          "base_uri": "https://localhost:8080/"
        },
        "id": "niGnnMmxtHhC",
        "outputId": "2642c917-6418-4489-ce7d-449a23b27518"
      },
      "id": "niGnnMmxtHhC",
      "execution_count": 36,
      "outputs": [
        {
          "output_type": "stream",
          "name": "stdout",
          "text": [
            "+-----+--------------------+\n",
            "|label|            features|\n",
            "+-----+--------------------+\n",
            "|  0.0|[0.0,520.0,0.0,0....|\n",
            "|  0.0|[0.0,1032.0,0.0,0...|\n",
            "|  0.0|[0.0,1032.0,0.0,0...|\n",
            "|  0.0|[0.0,1032.0,0.0,0...|\n",
            "|  0.0|[0.0,1032.0,0.0,0...|\n",
            "|  0.0|[0.0,1032.0,0.0,0...|\n",
            "|  0.0|[0.0,1032.0,0.0,0...|\n",
            "|  1.0|[0.0,0.0,0.0,0.0,...|\n",
            "|  0.0|[0.0,1032.0,0.0,0...|\n",
            "|  1.0|[0.0,0.0,0.0,0.0,...|\n",
            "|  0.0|[0.0,1032.0,0.0,0...|\n",
            "|  2.0|[0.0,43.0,127.0,0...|\n",
            "|  1.0|[0.0,0.0,0.0,0.0,...|\n",
            "|  0.0|[0.0,520.0,0.0,0....|\n",
            "|  2.0|[0.0,351.0,961.0,...|\n",
            "+-----+--------------------+\n",
            "only showing top 15 rows\n",
            "\n"
          ]
        }
      ]
    },
    {
      "cell_type": "code",
      "source": [
        "#Como no llegamos a ver los valores los mostramos haciendo esto:\n",
        "df_selected = df_train.select(\"features\")\n",
        "features_list = df_selected.rdd.map(lambda row: row.features).take(15)\n",
        "\n",
        "# Mostrar los datos\n",
        "for features in features_list:\n",
        "    print(features)"
      ],
      "metadata": {
        "colab": {
          "base_uri": "https://localhost:8080/"
        },
        "id": "yW9LvAf1HFrb",
        "outputId": "f18ca3b6-289b-4679-94e5-2955bac6436a"
      },
      "id": "yW9LvAf1HFrb",
      "execution_count": 37,
      "outputs": [
        {
          "output_type": "stream",
          "name": "stdout",
          "text": [
            "[0.0,520.0,0.0,0.0,0.0,0.0,0.0,0.0,0.0,0.0,0.0,0.0,0.0,0.0,0.0,0.0,0.0,0.0,0.0,511.0,511.0,0.0,0.0,0.0,0.0,1.0,0.0,0.0,255.0,255.0,1.0,0.0,1.0,0.0,0.0,0.0,0.0,0.0]\n",
            "[0.0,1032.0,0.0,0.0,0.0,0.0,0.0,0.0,0.0,0.0,0.0,0.0,0.0,0.0,0.0,0.0,0.0,0.0,0.0,511.0,511.0,0.0,0.0,0.0,0.0,1.0,0.0,0.0,255.0,255.0,1.0,0.0,1.0,0.0,0.0,0.0,0.0,0.0]\n",
            "[0.0,1032.0,0.0,0.0,0.0,0.0,0.0,0.0,0.0,0.0,0.0,0.0,0.0,0.0,0.0,0.0,0.0,0.0,0.0,511.0,511.0,0.0,0.0,0.0,0.0,1.0,0.0,0.0,255.0,255.0,1.0,0.0,1.0,0.0,0.0,0.0,0.0,0.0]\n",
            "[0.0,1032.0,0.0,0.0,0.0,0.0,0.0,0.0,0.0,0.0,0.0,0.0,0.0,0.0,0.0,0.0,0.0,0.0,0.0,511.0,511.0,0.0,0.0,0.0,0.0,1.0,0.0,0.0,255.0,255.0,1.0,0.0,1.0,0.0,0.0,0.0,0.0,0.0]\n",
            "[0.0,1032.0,0.0,0.0,0.0,0.0,0.0,0.0,0.0,0.0,0.0,0.0,0.0,0.0,0.0,0.0,0.0,0.0,0.0,511.0,511.0,0.0,0.0,0.0,0.0,1.0,0.0,0.0,255.0,255.0,1.0,0.0,1.0,0.0,0.0,0.0,0.0,0.0]\n",
            "[0.0,1032.0,0.0,0.0,0.0,0.0,0.0,0.0,0.0,0.0,0.0,0.0,0.0,0.0,0.0,0.0,0.0,0.0,0.0,511.0,511.0,0.0,0.0,0.0,0.0,1.0,0.0,0.0,255.0,255.0,1.0,0.0,1.0,0.0,0.0,0.0,0.0,0.0]\n",
            "[0.0,1032.0,0.0,0.0,0.0,0.0,0.0,0.0,0.0,0.0,0.0,0.0,0.0,0.0,0.0,0.0,0.0,0.0,0.0,511.0,511.0,0.0,0.0,0.0,0.0,1.0,0.0,0.0,255.0,255.0,1.0,0.0,1.0,0.0,0.0,0.0,0.0,0.0]\n",
            "[0.0,0.0,0.0,0.0,0.0,0.0,0.0,0.0,0.0,0.0,0.0,0.0,0.0,0.0,0.0,0.0,0.0,0.0,0.0,135.0,15.0,0.0,0.0,1.0,1.0,0.11,0.07,0.0,255.0,15.0,0.06,0.07,0.0,0.0,0.0,0.0,1.0,1.0]\n",
            "[0.0,1032.0,0.0,0.0,0.0,0.0,0.0,0.0,0.0,0.0,0.0,0.0,0.0,0.0,0.0,0.0,0.0,0.0,0.0,511.0,511.0,0.0,0.0,0.0,0.0,1.0,0.0,0.0,255.0,255.0,1.0,0.0,1.0,0.0,0.0,0.0,0.0,0.0]\n",
            "[0.0,0.0,0.0,0.0,0.0,0.0,0.0,0.0,0.0,0.0,0.0,0.0,0.0,0.0,0.0,0.0,0.0,0.0,0.0,192.0,4.0,0.0,0.0,1.0,1.0,0.02,0.07,0.0,255.0,4.0,0.02,0.08,0.0,0.0,0.0,0.0,1.0,1.0]\n",
            "[0.0,1032.0,0.0,0.0,0.0,0.0,0.0,0.0,0.0,0.0,0.0,0.0,0.0,0.0,0.0,0.0,0.0,0.0,0.0,511.0,511.0,0.0,0.0,0.0,0.0,1.0,0.0,0.0,255.0,255.0,1.0,0.0,1.0,0.0,0.0,0.0,0.0,0.0]\n",
            "[0.0,43.0,127.0,0.0,0.0,0.0,0.0,0.0,0.0,0.0,0.0,0.0,0.0,0.0,0.0,0.0,0.0,0.0,0.0,70.0,149.0,0.0,0.0,0.0,0.0,1.0,0.0,0.01,255.0,255.0,1.0,0.0,0.0,0.0,0.0,0.0,0.0,0.0]\n",
            "[0.0,0.0,0.0,0.0,0.0,0.0,0.0,0.0,0.0,0.0,0.0,0.0,0.0,0.0,0.0,0.0,0.0,0.0,0.0,140.0,12.0,1.0,1.0,0.0,0.0,0.09,0.06,0.0,255.0,9.0,0.04,0.07,0.0,0.0,1.0,1.0,0.0,0.0]\n",
            "[0.0,520.0,0.0,0.0,0.0,0.0,0.0,0.0,0.0,0.0,0.0,0.0,0.0,0.0,0.0,0.0,0.0,0.0,0.0,511.0,511.0,0.0,0.0,0.0,0.0,1.0,0.0,0.0,255.0,255.0,1.0,0.0,1.0,0.0,0.0,0.0,0.0,0.0]\n",
            "[0.0,351.0,961.0,0.0,0.0,0.0,0.0,0.0,1.0,0.0,0.0,0.0,0.0,0.0,0.0,0.0,0.0,0.0,0.0,5.0,6.0,0.0,0.0,0.0,0.0,1.0,0.0,0.33,58.0,255.0,1.0,0.0,0.02,0.01,0.0,0.0,0.0,0.0]\n"
          ]
        }
      ]
    },
    {
      "cell_type": "code",
      "source": [
        "#Y ademas vemos la estructura\n",
        "df_train.printSchema()"
      ],
      "metadata": {
        "colab": {
          "base_uri": "https://localhost:8080/"
        },
        "id": "NQ8y5iJO_Agn",
        "outputId": "67799696-8a1f-4932-822d-cddba281df8f"
      },
      "id": "NQ8y5iJO_Agn",
      "execution_count": 38,
      "outputs": [
        {
          "output_type": "stream",
          "name": "stdout",
          "text": [
            "root\n",
            " |-- label: double (nullable = true)\n",
            " |-- features: vector (nullable = true)\n",
            "\n"
          ]
        }
      ]
    },
    {
      "cell_type": "code",
      "source": [
        "#Vemos el tamaño de train\n",
        "df_train.count()"
      ],
      "metadata": {
        "id": "Z-q1zwEqwSip",
        "colab": {
          "base_uri": "https://localhost:8080/"
        },
        "outputId": "7971e4c3-ff7e-43c2-8192-6c7b1f5479fe"
      },
      "id": "Z-q1zwEqwSip",
      "execution_count": 39,
      "outputs": [
        {
          "output_type": "execute_result",
          "data": {
            "text/plain": [
              "10000"
            ]
          },
          "metadata": {},
          "execution_count": 39
        }
      ]
    },
    {
      "cell_type": "code",
      "source": [
        "df_train22, df_test22 = df_train.randomSplit([0.8, 0.2], seed=42)"
      ],
      "metadata": {
        "id": "vg3aNdFpARgN"
      },
      "id": "vg3aNdFpARgN",
      "execution_count": 40,
      "outputs": []
    },
    {
      "cell_type": "code",
      "source": [
        "from pyspark.ml.classification import RandomForestClassifier\n",
        "from pyspark.ml.feature import VectorAssembler\n",
        "from pyspark.sql import SparkSession\n",
        "from pyspark.ml import Pipeline\n",
        "rf = RandomForestClassifier(labelCol=\"label\", featuresCol=\"features\", numTrees=100)\n",
        "model = rf.fit(df_train22)"
      ],
      "metadata": {
        "id": "e06xtVSInaVK"
      },
      "id": "e06xtVSInaVK",
      "execution_count": 41,
      "outputs": []
    },
    {
      "cell_type": "code",
      "source": [
        "# Testeamos el modelo con los datos de testing\n",
        "predictions = model.transform(df_test22)"
      ],
      "metadata": {
        "id": "FW5W97mu_-NY"
      },
      "id": "FW5W97mu_-NY",
      "execution_count": 42,
      "outputs": []
    },
    {
      "cell_type": "code",
      "source": [
        "# Y mostramos las primeras 5 predicciones\n",
        "predictions.select(\"prediction\", \"label\").tail(15)"
      ],
      "metadata": {
        "colab": {
          "base_uri": "https://localhost:8080/"
        },
        "id": "KS62bn_uI3T_",
        "outputId": "7f854666-0da6-4f4e-e6ba-aa50f55de0cc"
      },
      "id": "KS62bn_uI3T_",
      "execution_count": 54,
      "outputs": [
        {
          "output_type": "execute_result",
          "data": {
            "text/plain": [
              "[Row(prediction=4.0, label=4.0),\n",
              " Row(prediction=4.0, label=4.0),\n",
              " Row(prediction=4.0, label=4.0),\n",
              " Row(prediction=4.0, label=4.0),\n",
              " Row(prediction=2.0, label=4.0),\n",
              " Row(prediction=2.0, label=4.0),\n",
              " Row(prediction=2.0, label=4.0),\n",
              " Row(prediction=2.0, label=5.0),\n",
              " Row(prediction=5.0, label=5.0),\n",
              " Row(prediction=5.0, label=5.0),\n",
              " Row(prediction=6.0, label=6.0),\n",
              " Row(prediction=6.0, label=6.0),\n",
              " Row(prediction=6.0, label=6.0),\n",
              " Row(prediction=1.0, label=7.0),\n",
              " Row(prediction=2.0, label=9.0)]"
            ]
          },
          "metadata": {},
          "execution_count": 54
        }
      ]
    },
    {
      "cell_type": "code",
      "source": [
        "# Evaluemos ahora la calidad del modelo. Para eso podemos usar un Evaluator\n",
        "from pyspark.ml.evaluation import MulticlassClassificationEvaluator\n",
        "evaluator = MulticlassClassificationEvaluator(labelCol=\"label\",predictionCol=\"prediction\", metricName=\"accuracy\")\n",
        "accuracy = evaluator.evaluate(predictions)\n",
        "\n",
        "print(\"Test Error = %g\" % (1.0 - accuracy))\n",
        "print(\"Accuracy = %g \" % accuracy)"
      ],
      "metadata": {
        "colab": {
          "base_uri": "https://localhost:8080/"
        },
        "id": "AhVLctMlBJP2",
        "outputId": "19717d5a-73a3-4603-f505-73d0147db76b"
      },
      "id": "AhVLctMlBJP2",
      "execution_count": 44,
      "outputs": [
        {
          "output_type": "stream",
          "name": "stdout",
          "text": [
            "Test Error = 0.00312337\n",
            "Accuracy = 0.996877 \n"
          ]
        }
      ]
    },
    {
      "cell_type": "code",
      "source": [
        "#Visualizamos el Dataframe de Test\n",
        "'''data = train_rdata_std2.map(lambda x: (x[0], x[1].asDict())).collect()\n",
        "df_train = spark.createDataFrame(data, schema=[\"label\", \"features\"])\n",
        "df_train.show(15)'''\n",
        "data_test = test_rdata_std2.map(lambda x: (x[0], x[1]['features'])).collect()\n",
        "df_test = spark.createDataFrame(data_test, schema=[\"label\", \"features\"])\n",
        "df_test.show(15)"
      ],
      "metadata": {
        "colab": {
          "base_uri": "https://localhost:8080/"
        },
        "id": "ZN2hsR5RLNCP",
        "outputId": "4f485003-30a9-4a90-9731-df36e4e8b669"
      },
      "id": "ZN2hsR5RLNCP",
      "execution_count": 45,
      "outputs": [
        {
          "output_type": "stream",
          "name": "stdout",
          "text": [
            "+-----+--------------------+\n",
            "|label|            features|\n",
            "+-----+--------------------+\n",
            "|  0.0|[0.0,520.0,0.0,0....|\n",
            "|  0.0|[0.0,1032.0,0.0,0...|\n",
            "|  2.0|[0.0,0.0,0.0,0.0,...|\n",
            "|  4.0|[1.0,2599.0,293.0...|\n",
            "|  1.0|[0.0,157.0,7082.0...|\n",
            "|  0.0|[0.0,1032.0,0.0,0...|\n",
            "|  2.0|[0.0,0.0,0.0,0.0,...|\n",
            "|  0.0|[0.0,1032.0,0.0,0...|\n",
            "|  2.0|[0.0,0.0,0.0,0.0,...|\n",
            "|  0.0|[0.0,520.0,0.0,0....|\n",
            "|  3.0|[0.0,105.0,147.0,...|\n",
            "|  2.0|[0.0,0.0,0.0,0.0,...|\n",
            "|  0.0|[0.0,520.0,0.0,0....|\n",
            "|  0.0|[0.0,1032.0,0.0,0...|\n",
            "|  0.0|[0.0,1032.0,0.0,0...|\n",
            "+-----+--------------------+\n",
            "only showing top 15 rows\n",
            "\n"
          ]
        }
      ]
    },
    {
      "cell_type": "markdown",
      "source": [
        "Entrenamiento del modelo con todo el train y evaluación"
      ],
      "metadata": {
        "id": "D053_5IRSWD5"
      },
      "id": "D053_5IRSWD5"
    },
    {
      "cell_type": "code",
      "source": [
        "#Entrenamos con todo el train\n",
        "from pyspark.ml.classification import RandomForestClassifier\n",
        "from pyspark.ml.feature import VectorAssembler\n",
        "from pyspark.sql import SparkSession\n",
        "from pyspark.ml import Pipeline\n",
        "rf = RandomForestClassifier(labelCol=\"label\", featuresCol=\"features\", numTrees=500)\n",
        "model = rf.fit(df_train)"
      ],
      "metadata": {
        "id": "6n7LuUlhKvRy"
      },
      "id": "6n7LuUlhKvRy",
      "execution_count": 46,
      "outputs": []
    },
    {
      "cell_type": "code",
      "source": [
        "# Testeamos el modelo con los datos de testing\n",
        "predictions_fin = model.transform(df_test)"
      ],
      "metadata": {
        "id": "S0O2hhPoK88L"
      },
      "id": "S0O2hhPoK88L",
      "execution_count": 47,
      "outputs": []
    },
    {
      "cell_type": "code",
      "source": [
        "# Y mostramos las primeras 5 predicciones\n",
        "predictions_fin.select(\"prediction\", \"label\").show(15)"
      ],
      "metadata": {
        "colab": {
          "base_uri": "https://localhost:8080/"
        },
        "id": "ZrfqfpLHLkaM",
        "outputId": "9d5344cb-a11e-4b35-b4e4-84e6666c60a8"
      },
      "id": "ZrfqfpLHLkaM",
      "execution_count": 48,
      "outputs": [
        {
          "output_type": "stream",
          "name": "stdout",
          "text": [
            "+----------+-----+\n",
            "|prediction|label|\n",
            "+----------+-----+\n",
            "|       0.0|  0.0|\n",
            "|       0.0|  0.0|\n",
            "|       1.0|  2.0|\n",
            "|       2.0|  4.0|\n",
            "|       2.0|  1.0|\n",
            "|       0.0|  0.0|\n",
            "|       1.0|  2.0|\n",
            "|       0.0|  0.0|\n",
            "|       1.0|  2.0|\n",
            "|       0.0|  0.0|\n",
            "|       2.0|  3.0|\n",
            "|       1.0|  2.0|\n",
            "|       0.0|  0.0|\n",
            "|       0.0|  0.0|\n",
            "|       0.0|  0.0|\n",
            "+----------+-----+\n",
            "only showing top 15 rows\n",
            "\n"
          ]
        }
      ]
    },
    {
      "cell_type": "code",
      "source": [
        "# Evaluemos ahora la calidad del modelo. Para eso podemos usar un Evaluator\n",
        "from pyspark.ml.evaluation import MulticlassClassificationEvaluator\n",
        "evaluator_fin = MulticlassClassificationEvaluator(labelCol=\"label\",predictionCol=\"prediction\", metricName=\"accuracy\")\n",
        "accuracy_fin = evaluator.evaluate(predictions_fin)\n",
        "\n",
        "print(\"Test Error = %g\" % (1.0 - accuracy_fin))\n",
        "print(\"Accuracy = %g \" % accuracy_fin)\n",
        "error2 = 1 - accuracy_fin"
      ],
      "metadata": {
        "colab": {
          "base_uri": "https://localhost:8080/"
        },
        "id": "q9SDedy2Lwbx",
        "outputId": "b7212c6a-53ce-465a-ea61-b58d6a21cabf"
      },
      "id": "q9SDedy2Lwbx",
      "execution_count": 49,
      "outputs": [
        {
          "output_type": "stream",
          "name": "stdout",
          "text": [
            "Test Error = 0.475\n",
            "Accuracy = 0.525 \n"
          ]
        }
      ]
    },
    {
      "cell_type": "code",
      "source": [
        "import sklearn\n",
        "from sklearn.metrics import accuracy_score\n",
        "#Comprobación del error con sklearn.\n",
        "from sklearn.metrics import accuracy_score\n",
        "accuracy = accuracy_score(predictions_fin.select(\"label\").collect(), predictions_fin.select(\"prediction\").collect())\n",
        "error2 = 1 - accuracy\n",
        "print(\"Error: {}%\".format(round(error2*100,2)))"
      ],
      "metadata": {
        "colab": {
          "base_uri": "https://localhost:8080/"
        },
        "id": "aKFdXej6MtT4",
        "outputId": "4e830724-2702-458e-9e79-35bd656621df"
      },
      "id": "aKFdXej6MtT4",
      "execution_count": 50,
      "outputs": [
        {
          "output_type": "stream",
          "name": "stdout",
          "text": [
            "Error: 47.5%\n"
          ]
        }
      ]
    },
    {
      "cell_type": "markdown",
      "source": [
        "Conclusión: los datos al estar tan desbalanceados por categorias de ataques, solo es capaz de predecir bien los ataques smurf, parece logico ya que son los que más datos tenemos en el train. Los otros tendriamos que recabar más datos para poder ver si el modelo entrena mejor o aplicar otras tecnicas de predicción.\n",
        "\n",
        "Mejoras: Podriamos hacer en la parte del preproceso un inframuestreo, es decir, hacer un balanceo de la variable target (ataques) eliminando  ataques smurf o crear valores sintenticos de los otros de ataques para poder entrenar mejor nuestro modelo para mejorar las predicciones."
      ],
      "metadata": {
        "id": "gUpwi_SBQScc"
      },
      "id": "gUpwi_SBQScc"
    },
    {
      "cell_type": "markdown",
      "id": "750f8cbe-e1e4-423c-a51b-70c385b677ba",
      "metadata": {
        "id": "750f8cbe-e1e4-423c-a51b-70c385b677ba"
      },
      "source": [
        "# Empezar aquí GridSearch"
      ]
    },
    {
      "cell_type": "code",
      "execution_count": 50,
      "id": "6fd44a7e-18b4-4c9e-993b-2edfa2f4dcd8",
      "metadata": {
        "id": "6fd44a7e-18b4-4c9e-993b-2edfa2f4dcd8"
      },
      "outputs": [],
      "source": []
    }
  ],
  "metadata": {
    "kernelspec": {
      "display_name": "Python 3 (ipykernel)",
      "language": "python",
      "name": "python3"
    },
    "language_info": {
      "codemirror_mode": {
        "name": "ipython",
        "version": 3
      },
      "file_extension": ".py",
      "mimetype": "text/x-python",
      "name": "python",
      "nbconvert_exporter": "python",
      "pygments_lexer": "ipython3",
      "version": "3.10.4"
    },
    "colab": {
      "provenance": []
    }
  },
  "nbformat": 4,
  "nbformat_minor": 5
}