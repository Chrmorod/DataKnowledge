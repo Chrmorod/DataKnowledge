{
  "cells": [
    {
      "cell_type": "markdown",
      "source": [
        "**Punto 1**"
      ],
      "metadata": {
        "id": "EMyVv4-f8YVT"
      }
    },
    {
      "cell_type": "code",
      "execution_count": 1,
      "metadata": {
        "id": "6RLCMz6b7wv7"
      },
      "outputs": [],
      "source": [
        "cadena_frase=\"El/DT perro/N come/V carne/N de/P la/DT carnicería/N  y/C de/P la/DT nevera/N y/C canta/V el/DT la/N la/N la/N ./Fp\""
      ]
    },
    {
      "cell_type": "code",
      "execution_count": 2,
      "metadata": {
        "colab": {
          "base_uri": "https://localhost:8080/"
        },
        "id": "93aiZKv07wwB",
        "outputId": "cec0536f-9a66-4cfc-c7bf-0594712087f4"
      },
      "outputs": [
        {
          "output_type": "stream",
          "name": "stdout",
          "text": [
            "El/DT perro/N come/V carne/N de/P la/DT carnicería/N  y/C de/P la/DT nevera/N y/C canta/V el/DT la/N la/N la/N ./Fp\n"
          ]
        }
      ],
      "source": [
        "print(cadena_frase)"
      ]
    },
    {
      "cell_type": "code",
      "execution_count": 3,
      "metadata": {
        "id": "OWOGLCmQ7wwD"
      },
      "outputs": [],
      "source": [
        "L=[x.split('/') for x in cadena_frase.split()]\n",
        "#L=[(pal,pos) for (pal,pos) in [x.split('/') for x in cadena_frase.split()]]\n",
        "Y=[z[1] for z in [x.split('/') for x in cadena_frase.split()]]\n",
        "Lt=[(pal,pos) for (pal,pos) in [x.split('/') for x in cadena_frase.split()]]"
      ]
    },
    {
      "cell_type": "code",
      "execution_count": 4,
      "metadata": {
        "colab": {
          "base_uri": "https://localhost:8080/"
        },
        "id": "gudPQKnQ7wwE",
        "outputId": "81cb8c37-72d2-40c2-c1d8-f9c10188402c"
      },
      "outputs": [
        {
          "output_type": "stream",
          "name": "stdout",
          "text": [
            "L:  [['El', 'DT'], ['perro', 'N'], ['come', 'V'], ['carne', 'N'], ['de', 'P'], ['la', 'DT'], ['carnicería', 'N'], ['y', 'C'], ['de', 'P'], ['la', 'DT'], ['nevera', 'N'], ['y', 'C'], ['canta', 'V'], ['el', 'DT'], ['la', 'N'], ['la', 'N'], ['la', 'N'], ['.', 'Fp']]\n",
            "Y:  ['DT', 'N', 'V', 'N', 'P', 'DT', 'N', 'C', 'P', 'DT', 'N', 'C', 'V', 'DT', 'N', 'N', 'N', 'Fp']\n",
            "Lt: [('El', 'DT'), ('perro', 'N'), ('come', 'V'), ('carne', 'N'), ('de', 'P'), ('la', 'DT'), ('carnicería', 'N'), ('y', 'C'), ('de', 'P'), ('la', 'DT'), ('nevera', 'N'), ('y', 'C'), ('canta', 'V'), ('el', 'DT'), ('la', 'N'), ('la', 'N'), ('la', 'N'), ('.', 'Fp')]\n"
          ]
        }
      ],
      "source": [
        "print (\"L: \",L)\n",
        "print (\"Y: \",Y)\n",
        "print (\"Lt:\",Lt)"
      ]
    },
    {
      "cell_type": "code",
      "execution_count": 5,
      "metadata": {
        "colab": {
          "base_uri": "https://localhost:8080/"
        },
        "id": "fExfCVFr7wwF",
        "outputId": "e7681e46-139f-47ba-993c-e7587bfef06e"
      },
      "outputs": [
        {
          "output_type": "stream",
          "name": "stdout",
          "text": [
            "DT N V N P DT N C P DT N C V DT N N N Fp \n",
            "POS= ['DT', 'N', 'V', 'N', 'P', 'DT', 'N', 'C', 'P', 'DT', 'N', 'C', 'V', 'DT', 'N', 'N', 'N', 'Fp']\n"
          ]
        }
      ],
      "source": [
        "POS=[]\n",
        "for pal,pos in L:\n",
        "    print(pos, end=\" \")\n",
        "    POS.append(pos)\n",
        "print (\"\\nPOS=\",POS)"
      ]
    },
    {
      "cell_type": "code",
      "execution_count": 6,
      "metadata": {
        "colab": {
          "base_uri": "https://localhost:8080/"
        },
        "id": "FzvtjzNJ7wwF",
        "outputId": "025f2b2c-29ac-4d3a-be07-f2113772d9b9"
      },
      "outputs": [
        {
          "output_type": "stream",
          "name": "stdout",
          "text": [
            "C : 2\n",
            "DT : 4\n",
            "Fp : 1\n",
            "N : 7\n",
            "P : 2\n",
            "V : 2\n",
            "TOTAL: 18\n"
          ]
        }
      ],
      "source": [
        "dic = {x:POS.count(x) for x in set(POS)}\n",
        "for x in sorted(dic):\n",
        "    print(x,\":\",dic[x])\n",
        "print (\"TOTAL:\",sum(dic.values()))"
      ]
    },
    {
      "cell_type": "code",
      "execution_count": 7,
      "metadata": {
        "colab": {
          "base_uri": "https://localhost:8080/"
        },
        "id": "CeIH9hPN7wwG",
        "outputId": "e7ec1a20-abc0-46b9-9ba7-3a6a29abc546"
      },
      "outputs": [
        {
          "output_type": "stream",
          "name": "stdout",
          "text": [
            "{'DT': 4, 'N': 7, 'V': 2, 'P': 2, 'C': 2, 'Fp': 1}\n"
          ]
        }
      ],
      "source": [
        "d_c={}\n",
        "for cat in POS:\n",
        "    d_c[cat]=1+d_c.get(cat,0)\n",
        "print(d_c)"
      ]
    },
    {
      "cell_type": "markdown",
      "source": [
        "**Punto 2**"
      ],
      "metadata": {
        "id": "D53LyPGq8d1T"
      }
    },
    {
      "cell_type": "code",
      "execution_count": 8,
      "metadata": {
        "id": "0tMXmeBi7wwG"
      },
      "outputs": [],
      "source": [
        "cadena_frase2=\"El/DT perro/N come/V carne/N de/P la/DT carnicería/N  y/C de/P la/DT nevera/N y/C canta/V el/DT la/N la/N la/N ./Fp\""
      ]
    },
    {
      "cell_type": "code",
      "source": [
        "print(cadena_frase2)"
      ],
      "metadata": {
        "colab": {
          "base_uri": "https://localhost:8080/"
        },
        "id": "u87XaPrfEM89",
        "outputId": "447bf74e-e830-4ce6-e7b8-139b13a28a4b"
      },
      "execution_count": 9,
      "outputs": [
        {
          "output_type": "stream",
          "name": "stdout",
          "text": [
            "El/DT perro/N come/V carne/N de/P la/DT carnicería/N  y/C de/P la/DT nevera/N y/C canta/V el/DT la/N la/N la/N ./Fp\n"
          ]
        }
      ]
    },
    {
      "cell_type": "code",
      "execution_count": 10,
      "metadata": {
        "id": "FH2gCxvp7wwH"
      },
      "outputs": [],
      "source": [
        "L=[x.split('/') for x in cadena_frase2.split()]\n",
        "#L=[(pal,pos) for (pal,pos) in [x.split('/') for x in cadena_frase.split()]]\n",
        "Y=[z[1] for z in [x.split('/') for x in cadena_frase2.split()]]\n",
        "Lt=[(pal,pos) for (pal,pos) in [x.split('/') for x in cadena_frase2.split()]]"
      ]
    },
    {
      "cell_type": "code",
      "source": [
        "print (\"L: \",L)\n",
        "print (\"Y: \",Y)\n",
        "print (\"Lt:\",Lt)"
      ],
      "metadata": {
        "colab": {
          "base_uri": "https://localhost:8080/"
        },
        "id": "uwpBKhK99EO1",
        "outputId": "7214e671-a29f-4b02-bea5-779c257ac09e"
      },
      "execution_count": 11,
      "outputs": [
        {
          "output_type": "stream",
          "name": "stdout",
          "text": [
            "L:  [['El', 'DT'], ['perro', 'N'], ['come', 'V'], ['carne', 'N'], ['de', 'P'], ['la', 'DT'], ['carnicería', 'N'], ['y', 'C'], ['de', 'P'], ['la', 'DT'], ['nevera', 'N'], ['y', 'C'], ['canta', 'V'], ['el', 'DT'], ['la', 'N'], ['la', 'N'], ['la', 'N'], ['.', 'Fp']]\n",
            "Y:  ['DT', 'N', 'V', 'N', 'P', 'DT', 'N', 'C', 'P', 'DT', 'N', 'C', 'V', 'DT', 'N', 'N', 'N', 'Fp']\n",
            "Lt: [('El', 'DT'), ('perro', 'N'), ('come', 'V'), ('carne', 'N'), ('de', 'P'), ('la', 'DT'), ('carnicería', 'N'), ('y', 'C'), ('de', 'P'), ('la', 'DT'), ('nevera', 'N'), ('y', 'C'), ('canta', 'V'), ('el', 'DT'), ('la', 'N'), ('la', 'N'), ('la', 'N'), ('.', 'Fp')]\n"
          ]
        }
      ]
    },
    {
      "cell_type": "code",
      "source": [
        "lista_minusculas = [[palabra.lower(), etiqueta] for palabra, etiqueta in L]\n",
        "print(lista_minusculas)\n"
      ],
      "metadata": {
        "colab": {
          "base_uri": "https://localhost:8080/"
        },
        "id": "lUG3WaxDW-tA",
        "outputId": "d85d35ee-d3fd-4456-8c37-cd3361a490d5"
      },
      "execution_count": 12,
      "outputs": [
        {
          "output_type": "stream",
          "name": "stdout",
          "text": [
            "[['el', 'DT'], ['perro', 'N'], ['come', 'V'], ['carne', 'N'], ['de', 'P'], ['la', 'DT'], ['carnicería', 'N'], ['y', 'C'], ['de', 'P'], ['la', 'DT'], ['nevera', 'N'], ['y', 'C'], ['canta', 'V'], ['el', 'DT'], ['la', 'N'], ['la', 'N'], ['la', 'N'], ['.', 'Fp']]\n"
          ]
        }
      ]
    },
    {
      "cell_type": "code",
      "source": [
        "word_count = {}\n",
        "\n",
        "for word, pos in lista_minusculas:\n",
        "    if word not in word_count:\n",
        "        word_count[word] = {pos: 1}\n",
        "    else:\n",
        "        if pos not in word_count[word]:\n",
        "            word_count[word][pos] = 1\n",
        "        else:\n",
        "            word_count[word][pos] += 1\n",
        "\n",
        "sorted_word_count = sorted(word_count.items())\n",
        "\n",
        "for word, pos_count in sorted_word_count:\n",
        "    output_parts = [word]\n",
        "    total_count = 0\n",
        "    for pos, count in pos_count.items():\n",
        "        output_parts.extend([pos,str(count)])\n",
        "        total_count += count\n",
        "    output_parts.insert(1, str(total_count))\n",
        "    output = ' '.join(output_parts)\n",
        "    print(output)\n"
      ],
      "metadata": {
        "colab": {
          "base_uri": "https://localhost:8080/"
        },
        "id": "rcwUjczJMGSx",
        "outputId": "954e5771-fccb-48b9-b38e-2610d5ad9157"
      },
      "execution_count": 13,
      "outputs": [
        {
          "output_type": "stream",
          "name": "stdout",
          "text": [
            ". 1 Fp 1\n",
            "canta 1 V 1\n",
            "carne 1 N 1\n",
            "carnicería 1 N 1\n",
            "come 1 V 1\n",
            "de 2 P 2\n",
            "el 2 DT 2\n",
            "la 5 DT 2 N 3\n",
            "nevera 1 N 1\n",
            "perro 1 N 1\n",
            "y 2 C 2\n"
          ]
        }
      ]
    },
    {
      "cell_type": "markdown",
      "source": [
        "**Punto 3**"
      ],
      "metadata": {
        "id": "sNNcAh_vYbgN"
      }
    },
    {
      "cell_type": "code",
      "source": [
        "cadena_frase3=\"El/DT perro/N come/V carne/N de/P la/DT carnicería/N  y/C de/P la/DT nevera/N y/C canta/V el/DT la/N la/N la/N ./Fp\""
      ],
      "metadata": {
        "id": "9zuMbJD9eAEw"
      },
      "execution_count": 14,
      "outputs": []
    },
    {
      "cell_type": "code",
      "source": [
        "print(cadena_frase3)"
      ],
      "metadata": {
        "colab": {
          "base_uri": "https://localhost:8080/"
        },
        "id": "1m1Pz3uCeClg",
        "outputId": "262955a6-de16-4eb0-c549-b3499009d4ad"
      },
      "execution_count": 15,
      "outputs": [
        {
          "output_type": "stream",
          "name": "stdout",
          "text": [
            "El/DT perro/N come/V carne/N de/P la/DT carnicería/N  y/C de/P la/DT nevera/N y/C canta/V el/DT la/N la/N la/N ./Fp\n"
          ]
        }
      ]
    },
    {
      "cell_type": "code",
      "source": [
        "L=[x.split('/') for x in cadena_frase3.split()]\n",
        "#L=[(pal,pos) for (pal,pos) in [x.split('/') for x in cadena_frase.split()]]\n",
        "Y=[z[1] for z in [x.split('/') for x in cadena_frase3.split()]]\n",
        "Lt=[(pal,pos) for (pal,pos) in [x.split('/') for x in cadena_frase3.split()]]"
      ],
      "metadata": {
        "id": "NWXfXKCDebmS"
      },
      "execution_count": 16,
      "outputs": []
    },
    {
      "cell_type": "code",
      "source": [
        "# Agregamos <S> al principio\n",
        "Y.insert(0, \"<S>\")\n",
        "# Agregamos </S> al final\n",
        "Y.append(\"</S>\")"
      ],
      "metadata": {
        "id": "ztXKvmcehS3y"
      },
      "execution_count": 20,
      "outputs": []
    },
    {
      "cell_type": "code",
      "source": [
        "# Visualizamos\n",
        "Y"
      ],
      "metadata": {
        "colab": {
          "base_uri": "https://localhost:8080/"
        },
        "id": "ZLvvDjymii-n",
        "outputId": "ae53fc1f-b788-4181-9135-1fec9fa027ed"
      },
      "execution_count": 22,
      "outputs": [
        {
          "output_type": "execute_result",
          "data": {
            "text/plain": [
              "['<S>',\n",
              " 'DT',\n",
              " 'N',\n",
              " 'V',\n",
              " 'N',\n",
              " 'P',\n",
              " 'DT',\n",
              " 'N',\n",
              " 'C',\n",
              " 'P',\n",
              " 'DT',\n",
              " 'N',\n",
              " 'C',\n",
              " 'V',\n",
              " 'DT',\n",
              " 'N',\n",
              " 'N',\n",
              " 'N',\n",
              " 'Fp',\n",
              " '</S>']"
            ]
          },
          "metadata": {},
          "execution_count": 22
        }
      ]
    },
    {
      "cell_type": "code",
      "source": [
        "frecuencias_bigramas = {}\n",
        "# Contamos la frecuencia de los bigramas\n",
        "for i in range(len(Y) - 1):\n",
        "    bigrama = (Y[i], Y[i+1])\n",
        "    frecuencias_bigramas[bigrama] = frecuencias_bigramas.get(bigrama, 0) + 1"
      ],
      "metadata": {
        "id": "D76LFo8YYf-i"
      },
      "execution_count": 27,
      "outputs": []
    },
    {
      "cell_type": "code",
      "source": [
        "frecuencias_bigramas"
      ],
      "metadata": {
        "colab": {
          "base_uri": "https://localhost:8080/"
        },
        "id": "hha5o5zsjYvk",
        "outputId": "1a413361-00be-4af6-fad8-4d860e8af413"
      },
      "execution_count": 28,
      "outputs": [
        {
          "output_type": "execute_result",
          "data": {
            "text/plain": [
              "{('<S>', 'DT'): 1,\n",
              " ('DT', 'N'): 4,\n",
              " ('N', 'V'): 1,\n",
              " ('V', 'N'): 1,\n",
              " ('N', 'P'): 1,\n",
              " ('P', 'DT'): 2,\n",
              " ('N', 'C'): 2,\n",
              " ('C', 'P'): 1,\n",
              " ('C', 'V'): 1,\n",
              " ('V', 'DT'): 1,\n",
              " ('N', 'N'): 2,\n",
              " ('N', 'Fp'): 1,\n",
              " ('Fp', '</S>'): 1}"
            ]
          },
          "metadata": {},
          "execution_count": 28
        }
      ]
    },
    {
      "cell_type": "markdown",
      "source": [
        "**Punto 4**"
      ],
      "metadata": {
        "id": "9CimKWRvj64q"
      }
    },
    {
      "cell_type": "code",
      "source": [
        "cadena_frase4=\"El/DT perro/N come/V carne/N de/P la/DT carnicería/N  y/C de/P la/DT nevera/N y/C canta/V el/DT la/N la/N la/N ./Fp\""
      ],
      "metadata": {
        "id": "Rx5JfnpLnjPa"
      },
      "execution_count": 82,
      "outputs": []
    },
    {
      "cell_type": "code",
      "source": [
        "def obtener_frecuencias_bigramas(frase):\n",
        "    etiquetas = frase.split()\n",
        "    frecuencias_bigramas = {}\n",
        "\n",
        "    for i in range(len(etiquetas) - 1):\n",
        "        bigrama = (etiquetas[i].split('/')[0], etiquetas[i].split('/')[1])\n",
        "        frecuencias_bigramas[bigrama] = frecuencias_bigramas.get(bigrama, 0) + 1\n",
        "\n",
        "    return frecuencias_bigramas\n"
      ],
      "metadata": {
        "id": "HwxWEIF2nKXI"
      },
      "execution_count": 83,
      "outputs": []
    },
    {
      "cell_type": "code",
      "source": [
        "def obtener_probabilidades_lexicas(palabra, frecuencias_bigramas):\n",
        "    categorias = set()\n",
        "    for bigrama in frecuencias_bigramas:\n",
        "        if bigrama[0] == palabra:\n",
        "            categorias.add(bigrama[1])\n",
        "\n",
        "    if not categorias:\n",
        "        return \"La palabra es desconocida\"\n",
        "\n",
        "    probabilidades = {}\n",
        "    total_frecuencias = sum(frecuencias_bigramas[bigrama] for bigrama in frecuencias_bigramas if bigrama[0] == palabra)\n",
        "\n",
        "    for categoria in categorias:\n",
        "        prob_lexica = frecuencias_bigramas[(palabra, categoria)] / total_frecuencias\n",
        "        prob_emision = frecuencias_bigramas[(palabra, categoria)] / sum(frecuencias_bigramas[bigrama] for bigrama in frecuencias_bigramas if bigrama[1] == categoria)\n",
        "        probabilidades[categoria] = (prob_lexica, prob_emision)\n",
        "\n",
        "    return probabilidades\n"
      ],
      "metadata": {
        "id": "TaVC2r94j_98"
      },
      "execution_count": 84,
      "outputs": []
    },
    {
      "cell_type": "code",
      "source": [
        "palabra = \"la\"\n",
        "frecuencias_bigramas = obtener_frecuencias_bigramas(cadena_frase4)\n",
        "probabilidades = obtener_probabilidades_lexicas(palabra, frecuencias_bigramas)\n",
        "\n",
        "if isinstance(probabilidades, str):\n",
        "    print(probabilidades)\n",
        "else:\n",
        "    for categoria, (prob_lexica, prob_emision) in probabilidades.items():\n",
        "        print(f\"P({categoria}|{palabra}) = {prob_lexica}\")\n",
        "        print(f\"P({palabra}|{categoria}) = {prob_emision}\")\n",
        "\n"
      ],
      "metadata": {
        "colab": {
          "base_uri": "https://localhost:8080/"
        },
        "id": "jsu4_p1Ikfzh",
        "outputId": "a17f27b4-997a-448f-dc65-3aa8975160e1"
      },
      "execution_count": 85,
      "outputs": [
        {
          "output_type": "stream",
          "name": "stdout",
          "text": [
            "P(DT|la) = 0.4\n",
            "P(la|DT) = 0.5\n",
            "P(N|la) = 0.6\n",
            "P(la|N) = 0.42857142857142855\n"
          ]
        }
      ]
    }
  ],
  "metadata": {
    "kernelspec": {
      "display_name": "Python 3 (ipykernel)",
      "language": "python",
      "name": "python3"
    },
    "language_info": {
      "codemirror_mode": {
        "name": "ipython",
        "version": 3
      },
      "file_extension": ".py",
      "mimetype": "text/x-python",
      "name": "python",
      "nbconvert_exporter": "python",
      "pygments_lexer": "ipython3",
      "version": "3.8.13"
    },
    "colab": {
      "provenance": []
    }
  },
  "nbformat": 4,
  "nbformat_minor": 0
}