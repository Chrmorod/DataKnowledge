{
  "nbformat": 4,
  "nbformat_minor": 0,
  "metadata": {
    "colab": {
      "provenance": []
    },
    "kernelspec": {
      "name": "python3",
      "display_name": "Python 3"
    },
    "language_info": {
      "name": "python"
    }
  },
  "cells": [
    {
      "cell_type": "code",
      "execution_count": 1,
      "metadata": {
        "colab": {
          "base_uri": "https://localhost:8080/"
        },
        "id": "6TQRD7svTYYo",
        "outputId": "85e525c4-bf0d-4a58-970b-2d922e534f96"
      },
      "outputs": [
        {
          "output_type": "stream",
          "name": "stderr",
          "text": [
            "[nltk_data] Downloading package cess_esp to /root/nltk_data...\n",
            "[nltk_data]   Package cess_esp is already up-to-date!\n"
          ]
        },
        {
          "output_type": "execute_result",
          "data": {
            "text/plain": [
              "True"
            ]
          },
          "metadata": {},
          "execution_count": 1
        }
      ],
      "source": [
        "# Instalación del corpus.\n",
        "!pip install -q wordcloud\n",
        "import wordcloud\n",
        "\n",
        "import nltk\n",
        "nltk.download('cess_esp')"
      ]
    },
    {
      "cell_type": "code",
      "source": [
        "from nltk.corpus import cess_esp\n",
        "\n",
        "sentences = cess_esp.sents()\n",
        "words = cess_esp.words()\n",
        "tags_words = cess_esp.tagged_words(fileids=None, tagset=None)\n",
        "\n",
        "# Vemos las oraciones, palabras y etiquetas.\n",
        "print(\"Oraciones:\")\n",
        "for sent in sentences[:5]:\n",
        "    print(' '.join(sent))\n",
        "\n",
        "print(\"\\nPalabras:\")\n",
        "for word in words[:10]:\n",
        "    print(word)\n",
        "\n",
        "print(\"\\nEtiquetas:\")\n",
        "for tag in tags_words[:10]:\n",
        "    print(tag)"
      ],
      "metadata": {
        "colab": {
          "base_uri": "https://localhost:8080/"
        },
        "id": "q1ylnWnHVvfz",
        "outputId": "6437e9bd-e48c-45af-bfad-5e03e4e08ae4"
      },
      "execution_count": 2,
      "outputs": [
        {
          "output_type": "stream",
          "name": "stdout",
          "text": [
            "Oraciones:\n",
            "El grupo estatal Electricité_de_France -Fpa- EDF -Fpt- anunció hoy , jueves , la compra del 51_por_ciento de la empresa mexicana Electricidad_Águila_de_Altamira -Fpa- EAA -Fpt- , creada por el japonés Mitsubishi_Corporation para poner_en_marcha una central de gas de 495 megavatios .\n",
            "Una portavoz de EDF explicó a EFE que el proyecto para la construcción de Altamira_2 , al norte de Tampico , prevé la utilización de gas natural como combustible principal en una central de ciclo combinado que debe empezar a funcionar en mayo_del_2002 .\n",
            "La electricidad producida pasará a la red eléctrica pública de México en_virtud_de un acuerdo de venta de energía de EAA con la Comisión_Federal_de_Electricidad -Fpa- CFE -Fpt- por una duración de 25 años .\n",
            "EDF , que no quiso revelar cuánto *0* pagó por su participación mayoritaria en EAA , intervendrá como asistente en la construcción de Altamira_2 y , posteriormente , *0* se encargará de explotarla como principal accionista .\n",
            "EDF y Mitsubishi participaron en 1998 en la licitación de licencias para construir centrales eléctricas en México y *0* se quedaron con dos cada una : Río_Bravo y Saltillo para la compañía francesa y Altamira y Tuxpán para la japonesa .\n",
            "\n",
            "Palabras:\n",
            "El\n",
            "grupo\n",
            "estatal\n",
            "Electricité_de_France\n",
            "-Fpa-\n",
            "EDF\n",
            "-Fpt-\n",
            "anunció\n",
            "hoy\n",
            ",\n",
            "\n",
            "Etiquetas:\n",
            "('El', 'da0ms0')\n",
            "('grupo', 'ncms000')\n",
            "('estatal', 'aq0cs0')\n",
            "('Electricité_de_France', 'np00000')\n",
            "('-Fpa-', 'Fpa')\n",
            "('EDF', 'np00000')\n",
            "('-Fpt-', 'Fpt')\n",
            "('anunció', 'vmis3s0')\n",
            "('hoy', 'rg')\n",
            "(',', 'Fc')\n"
          ]
        }
      ]
    },
    {
      "cell_type": "code",
      "source": [
        "# Conjunto de etiquetas que se mantendrán según la práctica: verbos (v) y signos de puntuación (F)\n",
        "tags_permitidas = {'v', 'F'}\n",
        "\n",
        "# Conjunto reducido de etiquetas\n",
        "tags_reducidas = set()\n",
        "\n",
        "# Filtramos las etiquetas según las condiciones\n",
        "for word, tag in tags_words:\n",
        "    if len(tag) == 2 and tag[0] not in tags_permitidas:\n",
        "        tags_reducidas.add((word, tag))\n",
        "    elif len(tag) == 1:\n",
        "        tags_reducidas.add((word, tag))\n",
        "\n",
        "# Eliminamos las tuplas vacías\n",
        "tags_reducidas.discard((u'*0*',))\n",
        "\n",
        "# Visualizamos el conjunto reducido\n",
        "print(list(tags_reducidas)[:50])\n"
      ],
      "metadata": {
        "colab": {
          "base_uri": "https://localhost:8080/"
        },
        "id": "PV26Tl4aXN5T",
        "outputId": "1d81375e-61d2-43b5-cb1d-e2f0bcced0df"
      },
      "execution_count": 3,
      "outputs": [
        {
          "output_type": "stream",
          "name": "stdout",
          "text": [
            "[('al_contrario', 'rg'), ('69', 'Z'), ('alegremente', 'rg'), ('codo_a_codo', 'rg'), ('7-4', 'Z'), ('puntualmente', 'rg'), ('495', 'Z'), ('siquiera', 'rg'), ('15_de_marzo', 'W'), ('43_por_ciento', 'Zp'), ('0,92', 'Z'), ('no_tanto', 'rn'), ('64', 'Z'), ('A_pesar_de_que', 'cs'), ('7.943', 'Z'), ('pasado_día_9', 'W'), ('considerablemente', 'rg'), ('No_bien', 'cc'), ('1:31.826', 'Z'), ('incondicionalmente', 'rg'), ('día_30', 'W'), ('año_sesenta_y_uno_después_de_Cristo', 'W'), ('14.000', 'Z'), ('Die_Materie_ist_nicht_anders_-LSB-', 'X'), ('6,7', 'Z'), ('a_lo_sumo', 'rg'), ('pasablemente', 'rg'), ('111,28', 'Z'), ('07.15', 'Z'), ('día_28', 'W'), ('1985', 'W'), ('es_cierto', 'rg'), ('siempre_que', 'cs'), ('a_lo_mejor', 'rg'), ('16.049', 'Z'), ('día_28_de_junio', 'W'), ('A_ratos', 'rg'), ('336', 'Z'), ('0,9355', 'Z'), ('En_todo_caso', 'rg'), ('de_costumbre', 'rg'), ('17.1', 'Z'), ('13:30', 'Z'), ('pesetas', 'Zm'), ('peor', 'rg'), ('9_de_marzo', 'W'), ('15', 'Z'), ('poco_menos_que', 'rg'), ('de_pronto', 'rg'), ('49-3', 'Z')]\n"
          ]
        }
      ]
    },
    {
      "cell_type": "markdown",
      "source": [
        "Vamos a verlo conviertiendo el resultado en Dataframe."
      ],
      "metadata": {
        "id": "OHTWZCrZk5Vk"
      }
    },
    {
      "cell_type": "code",
      "source": [
        "import pandas as pd\n",
        "df_etiquetas_reducidas = pd.DataFrame(tags_reducidas, columns=['Palabra', 'Etiqueta'])\n",
        "print(df_etiquetas_reducidas.head(50))"
      ],
      "metadata": {
        "colab": {
          "base_uri": "https://localhost:8080/"
        },
        "id": "Fvh7qlSik4bV",
        "outputId": "ea754f8f-7eb5-4537-f7fd-2305a3dba847"
      },
      "execution_count": 4,
      "outputs": [
        {
          "output_type": "stream",
          "name": "stdout",
          "text": [
            "                                Palabra Etiqueta\n",
            "0                          al_contrario       rg\n",
            "1                                    69        Z\n",
            "2                           alegremente       rg\n",
            "3                           codo_a_codo       rg\n",
            "4                                   7-4        Z\n",
            "5                          puntualmente       rg\n",
            "6                                   495        Z\n",
            "7                              siquiera       rg\n",
            "8                           15_de_marzo        W\n",
            "9                         43_por_ciento       Zp\n",
            "10                                 0,92        Z\n",
            "11                             no_tanto       rn\n",
            "12                                   64        Z\n",
            "13                       A_pesar_de_que       cs\n",
            "14                                7.943        Z\n",
            "15                         pasado_día_9        W\n",
            "16                    considerablemente       rg\n",
            "17                              No_bien       cc\n",
            "18                             1:31.826        Z\n",
            "19                   incondicionalmente       rg\n",
            "20                               día_30        W\n",
            "21  año_sesenta_y_uno_después_de_Cristo        W\n",
            "22                               14.000        Z\n",
            "23   Die_Materie_ist_nicht_anders_-LSB-        X\n",
            "24                                  6,7        Z\n",
            "25                            a_lo_sumo       rg\n",
            "26                         pasablemente       rg\n",
            "27                               111,28        Z\n",
            "28                                07.15        Z\n",
            "29                               día_28        W\n",
            "30                                 1985        W\n",
            "31                            es_cierto       rg\n",
            "32                          siempre_que       cs\n",
            "33                           a_lo_mejor       rg\n",
            "34                               16.049        Z\n",
            "35                      día_28_de_junio        W\n",
            "36                              A_ratos       rg\n",
            "37                                  336        Z\n",
            "38                               0,9355        Z\n",
            "39                         En_todo_caso       rg\n",
            "40                         de_costumbre       rg\n",
            "41                                 17.1        Z\n",
            "42                                13:30        Z\n",
            "43                              pesetas       Zm\n",
            "44                                 peor       rg\n",
            "45                           9_de_marzo        W\n",
            "46                                   15        Z\n",
            "47                       poco_menos_que       rg\n",
            "48                            de_pronto       rg\n",
            "49                                 49-3        Z\n"
          ]
        }
      ]
    },
    {
      "cell_type": "markdown",
      "source": [
        "Dividimos el corpus conforme nos pide la practica 90% training 10% test."
      ],
      "metadata": {
        "id": "mhZbo67BWU-o"
      }
    },
    {
      "cell_type": "code",
      "source": [
        "from sklearn.model_selection import train_test_split\n",
        "\n",
        "# Dividir el corpus en datos de entrenamiento y prueba\n",
        "train_tags, test_tags = train_test_split(df_etiquetas_reducidas, test_size=0.1, random_state=123)\n",
        "\n",
        "# Imprimir la cantidad de oraciones en cada conjunto\n",
        "print(\"Cantidad de oraciones en el conjunto de train:\", len(train_tags))\n",
        "print(\"Dataframe del training:\\n\", train_tags.head(10))\n",
        "print(\"Cantidad de oraciones en el conjunto de test:\", len(test_tags))\n",
        "print(\"Dataframe del test:\\n\", test_tags.head(10))"
      ],
      "metadata": {
        "colab": {
          "base_uri": "https://localhost:8080/"
        },
        "id": "GGYIN__QWOoT",
        "outputId": "40b191ae-ae49-44fc-dcbb-1beff35458f8"
      },
      "execution_count": 5,
      "outputs": [
        {
          "output_type": "stream",
          "name": "stdout",
          "text": [
            "Cantidad de oraciones en el conjunto de train: 1957\n",
            "Dataframe del training:\n",
            "              Palabra Etiqueta\n",
            "415            Hasta       rg\n",
            "1833      al_parecer       rg\n",
            "1400     ligeramente       rg\n",
            "2172            1976        W\n",
            "12                64        Z\n",
            "356           110,94        Z\n",
            "142            fuera       rg\n",
            "2030        nada_más       rg\n",
            "1164  diligentemente       rg\n",
            "1797          min.88        Z\n",
            "Cantidad de oraciones en el conjunto de test: 218\n",
            "Dataframe del test:\n",
            "                Palabra Etiqueta\n",
            "1361         De_súbito       rg\n",
            "120            Hoy_día       rg\n",
            "1779   16_de_noviembre        W\n",
            "504            445.079        Z\n",
            "498            970.000        Z\n",
            "546             min.94        Z\n",
            "576   fotográficamente       rg\n",
            "1108      sino_también       cc\n",
            "1201         cinco_mil        Z\n",
            "883     04/20/00-16/00        Z\n"
          ]
        }
      ]
    },
    {
      "cell_type": "markdown",
      "source": [
        "###Etiquetador morfosintácticos HMM"
      ],
      "metadata": {
        "id": "sBnvv0s1qCmB"
      }
    },
    {
      "cell_type": "code",
      "source": [
        "from nltk.tag import HiddenMarkovModelTagger\n",
        "import pandas as pd\n",
        "# Al averiguar que el metodo HiddenMarkov solo le podemos informar una lista, convertimos el Dataframe a lista.\n",
        "tags_train = list(train_tags[['Palabra', 'Etiqueta']].itertuples(index=False, name=None))\n",
        "# Etiquetador HMM\n",
        "hmm_tags = HiddenMarkovModelTagger.train([tags_train])"
      ],
      "metadata": {
        "id": "6Q1cz5vbm8O7"
      },
      "execution_count": 6,
      "outputs": []
    },
    {
      "cell_type": "markdown",
      "source": [
        "Evaluamos el modelo."
      ],
      "metadata": {
        "id": "dV50QrXeqquI"
      }
    },
    {
      "cell_type": "code",
      "source": [
        "#Hacemos la conversión que habiamos hecho en el train.\n",
        "tags_test = list(test_tags[['Palabra', 'Etiqueta']].itertuples(index=False, name=None))\n",
        "#Dejamos la parte del test para predecir la etiqueta.\n",
        "test_tags_eval = list(test_tags['Palabra'])\n",
        "#Pasamos el modelo entrenado para predecir las etiquetas.\n",
        "hmm_tagged_test = hmm_tags.tag(test_tags_eval)\n",
        "#Cogemos los valores reales del test.\n",
        "true_tags = list(test_tags['Etiqueta'])\n",
        "#Asignamos las etiquetas predichas.\n",
        "predicted_tags = [tag for _, tag in hmm_tagged_test]"
      ],
      "metadata": {
        "id": "pCsTYn4uo5d-"
      },
      "execution_count": 7,
      "outputs": []
    },
    {
      "cell_type": "markdown",
      "source": [
        "Visualizamos el etiquetado:"
      ],
      "metadata": {
        "id": "oscR9-ie5-La"
      }
    },
    {
      "cell_type": "code",
      "source": [
        "# Crear un DataFrame con las palabras, etiquetas predichas y etiquetas reales\n",
        "df_resultado = pd.DataFrame({'Palabra': test_tags_eval, 'Etiqueta Predicha': predicted_tags, 'Etiqueta Real': true_tags})\n",
        "\n",
        "# Imprimir el DataFrame\n",
        "print(df_resultado)"
      ],
      "metadata": {
        "colab": {
          "base_uri": "https://localhost:8080/"
        },
        "id": "t5QE6hhw2k13",
        "outputId": "4b56d153-1b20-4b15-9e52-01e8ae5fbdf4"
      },
      "execution_count": 8,
      "outputs": [
        {
          "output_type": "stream",
          "name": "stdout",
          "text": [
            "             Palabra Etiqueta Predicha Etiqueta Real\n",
            "0          De_súbito                 I            rg\n",
            "1            Hoy_día                 W            rg\n",
            "2    16_de_noviembre                rg             W\n",
            "3            445.079                 Z             Z\n",
            "4            970.000                rg             Z\n",
            "..               ...               ...           ...\n",
            "213            mismo                rg            rg\n",
            "214              Que                 Z            cs\n",
            "215   3,2_por_ciento                rg            Zp\n",
            "216           60.000                 Z             Z\n",
            "217  individualmente                rg            rg\n",
            "\n",
            "[218 rows x 3 columns]\n"
          ]
        }
      ]
    },
    {
      "cell_type": "markdown",
      "source": [
        "Sacamos el accuracy."
      ],
      "metadata": {
        "id": "wfM6aowtuw4h"
      }
    },
    {
      "cell_type": "code",
      "source": [
        "#contador de aciertos predichos\n",
        "contador_aciertos = sum(1 for i in range(len(true_tags)) if true_tags[i] == predicted_tags[i])\n",
        "#total de valores reales\n",
        "contador_real = len(true_tags)\n",
        "#accuracy\n",
        "hmm_accuracy = \"{:.4%}\".format((contador_aciertos / contador_real))\n",
        "print(f\"Precisión del etiquetador HMM: {hmm_accuracy}\")"
      ],
      "metadata": {
        "colab": {
          "base_uri": "https://localhost:8080/"
        },
        "id": "FtnGW8MIuvI0",
        "outputId": "5e72445b-8d7e-41cd-8efd-6c6ce2c3fd29"
      },
      "execution_count": 9,
      "outputs": [
        {
          "output_type": "stream",
          "name": "stdout",
          "text": [
            "Precisión del etiquetador HMM: 31.6514%\n"
          ]
        }
      ]
    },
    {
      "cell_type": "markdown",
      "source": [
        "### Etiquetador tnt"
      ],
      "metadata": {
        "id": "UmgDML2I6xgP"
      }
    },
    {
      "cell_type": "code",
      "source": [
        "from sklearn.model_selection import train_test_split\n",
        "\n",
        "# Dividir el corpus en datos de entrenamiento y prueba\n",
        "train_tags2, test_tags2 = train_test_split(df_etiquetas_reducidas, test_size=0.1, random_state=123)\n",
        "\n",
        "# Imprimir la cantidad de oraciones en cada conjunto\n",
        "print(\"Cantidad de oraciones en el conjunto de train:\", len(train_tags2))\n",
        "print(\"Dataframe del training:\\n\", train_tags2.head(10))\n",
        "print(\"Cantidad de oraciones en el conjunto de test:\", len(test_tags2))\n",
        "print(\"Dataframe del test:\\n\", test_tags2.head(10))"
      ],
      "metadata": {
        "colab": {
          "base_uri": "https://localhost:8080/"
        },
        "id": "X48KKiHFHPDH",
        "outputId": "acc91c3b-fe87-4a83-df94-582ab2b57ef4"
      },
      "execution_count": 10,
      "outputs": [
        {
          "output_type": "stream",
          "name": "stdout",
          "text": [
            "Cantidad de oraciones en el conjunto de train: 1957\n",
            "Dataframe del training:\n",
            "              Palabra Etiqueta\n",
            "415            Hasta       rg\n",
            "1833      al_parecer       rg\n",
            "1400     ligeramente       rg\n",
            "2172            1976        W\n",
            "12                64        Z\n",
            "356           110,94        Z\n",
            "142            fuera       rg\n",
            "2030        nada_más       rg\n",
            "1164  diligentemente       rg\n",
            "1797          min.88        Z\n",
            "Cantidad de oraciones en el conjunto de test: 218\n",
            "Dataframe del test:\n",
            "                Palabra Etiqueta\n",
            "1361         De_súbito       rg\n",
            "120            Hoy_día       rg\n",
            "1779   16_de_noviembre        W\n",
            "504            445.079        Z\n",
            "498            970.000        Z\n",
            "546             min.94        Z\n",
            "576   fotográficamente       rg\n",
            "1108      sino_también       cc\n",
            "1201         cinco_mil        Z\n",
            "883     04/20/00-16/00        Z\n"
          ]
        }
      ]
    },
    {
      "cell_type": "code",
      "source": [
        "from nltk.tag import tnt\n",
        "tags_train2 = list(train_tags2[['Palabra', 'Etiqueta']].itertuples(index=False, name=None))\n",
        "tags_test2 = list(test_tags2[['Palabra', 'Etiqueta']].itertuples(index=False, name=None))"
      ],
      "metadata": {
        "id": "BHzixliI6Qcg"
      },
      "execution_count": 11,
      "outputs": []
    },
    {
      "cell_type": "markdown",
      "source": [
        "Evaluamos el modelo"
      ],
      "metadata": {
        "id": "VShvPKxyQUh_"
      }
    },
    {
      "cell_type": "code",
      "source": [
        "#Dejamos la parte del test para predecir la etiqueta.\n",
        "test_tags_eval2 = list(test_tags2['Palabra'])\n",
        "#Cogemos los valores reales del test.\n",
        "true_tags2 = list(test_tags2['Etiqueta'])"
      ],
      "metadata": {
        "id": "kEcTvxVT09XF"
      },
      "execution_count": 12,
      "outputs": []
    },
    {
      "cell_type": "code",
      "source": [
        "# Create a TnT tagger instance\n",
        "tnt_tags = tnt.TnT()\n",
        "# Train the TnT tagger on your training data\n",
        "tnt_tags.train([tags_train2])\n",
        "accuracy = tnt_tags.accuracy([tags_test2])\n",
        "print(\"Accuracy of TnT Tagging:\", accuracy)"
      ],
      "metadata": {
        "colab": {
          "base_uri": "https://localhost:8080/"
        },
        "id": "Xh_2jeTiIDCT",
        "outputId": "bdf46fb4-ae82-4a6b-f63b-7b850199941b"
      },
      "execution_count": 13,
      "outputs": [
        {
          "output_type": "stream",
          "name": "stdout",
          "text": [
            "Accuracy of TnT Tagging: 0.0\n"
          ]
        }
      ]
    },
    {
      "cell_type": "code",
      "source": [
        "# Create a TnT tagger instance\n",
        "tnt_tags = tnt.TnT()\n",
        "\n",
        "# Train the TnT tagger on your training data\n",
        "tnt_tags.train([tags_train])\n",
        "\n",
        "# Use the TnT tagger to tag the test data\n",
        "predicted_tags = [tag for word, tag in tnt_tags.tag(test_tags_eval)]\n",
        "\n",
        "# Compare the predicted tags with the true tags and calculate the accuracy\n",
        "correct_tags = sum(1 for pred, true in zip(predicted_tags, true_tags) if pred == true)\n",
        "accuracy = correct_tags / len(true_tags)\n",
        "print(\"Accuracy of TnT Tagging:\", accuracy)\n"
      ],
      "metadata": {
        "colab": {
          "base_uri": "https://localhost:8080/"
        },
        "id": "2K_dUk8Wy0j-",
        "outputId": "24e021d8-9b21-4513-a60f-1569a5beb9e7"
      },
      "execution_count": 14,
      "outputs": [
        {
          "output_type": "stream",
          "name": "stdout",
          "text": [
            "Accuracy of TnT Tagging: 0.0\n"
          ]
        }
      ]
    },
    {
      "cell_type": "code",
      "source": [
        "# Crear un DataFrame con las palabras, etiquetas predichas y etiquetas reales\n",
        "df_resultado_tnt = pd.DataFrame({'Palabra': test_tags_eval, 'Etiqueta Predicha': predicted_tags, 'Etiqueta Real': true_tags})\n",
        "\n",
        "# Imprimir el DataFrame\n",
        "print(df_resultado_tnt)"
      ],
      "metadata": {
        "colab": {
          "base_uri": "https://localhost:8080/"
        },
        "id": "a3s8JpOVpBxf",
        "outputId": "49ecfe1f-37de-455f-daf2-03e5845e7538"
      },
      "execution_count": 15,
      "outputs": [
        {
          "output_type": "stream",
          "name": "stdout",
          "text": [
            "             Palabra Etiqueta Predicha Etiqueta Real\n",
            "0          De_súbito               Unk            rg\n",
            "1            Hoy_día               Unk            rg\n",
            "2    16_de_noviembre               Unk             W\n",
            "3            445.079               Unk             Z\n",
            "4            970.000               Unk             Z\n",
            "..               ...               ...           ...\n",
            "213            mismo               Unk            rg\n",
            "214              Que               Unk            cs\n",
            "215   3,2_por_ciento               Unk            Zp\n",
            "216           60.000               Unk             Z\n",
            "217  individualmente               Unk            rg\n",
            "\n",
            "[218 rows x 3 columns]\n"
          ]
        }
      ]
    },
    {
      "cell_type": "code",
      "source": [
        "from nltk.tag import tnt\n",
        "from sklearn.model_selection import train_test_split\n",
        "sents_tags = cess_esp.tagged_sents()\n",
        "# Dividir el corpus en datos de entrenamiento y prueba\n",
        "train_tags2, test_tags2 = train_test_split(sents_tags, test_size=0.1, random_state=123)\n",
        "tnt_tagger = tnt.TnT()\n",
        "tnt_tagger.train(train_tags2)\n",
        "accuracy = \"{:.4%}\".format((tnt_tagger.evaluate(test_tags2)))\n",
        "print(\"Accuracy of TnT Tagging:\", accuracy)"
      ],
      "metadata": {
        "colab": {
          "base_uri": "https://localhost:8080/"
        },
        "id": "oKWzAOieJ70D",
        "outputId": "3445ac4f-bb13-4d83-f2a1-1f5c4c8cfe28"
      },
      "execution_count": 16,
      "outputs": [
        {
          "output_type": "stream",
          "name": "stderr",
          "text": [
            "<ipython-input-16-5fba939d4ea3>:8: DeprecationWarning: \n",
            "  Function evaluate() has been deprecated.  Use accuracy(gold)\n",
            "  instead.\n",
            "  accuracy = \"{:.4%}\".format((tnt_tagger.evaluate(test_tags2)))\n"
          ]
        },
        {
          "output_type": "stream",
          "name": "stdout",
          "text": [
            "Accuracy of TnT Tagging: 89.0850%\n"
          ]
        }
      ]
    },
    {
      "cell_type": "markdown",
      "source": [
        "**Punto 3**"
      ],
      "metadata": {
        "id": "CWNcGpe6gAvv"
      }
    },
    {
      "cell_type": "code",
      "source": [
        "from nltk.tag import tnt\n",
        "from sklearn.model_selection import KFold\n",
        "\n",
        "sents_tags2 = cess_esp.tagged_sents()\n",
        "\n",
        "accuracies = []\n",
        "\n",
        "kfold = KFold(n_splits=10, shuffle=True, random_state=123)\n",
        "\n",
        "for train_index, test_index in kfold.split(sents_tags):\n",
        "    # Dividir el corpus en datos de entrenamiento y prueba para el pliegue actual\n",
        "    train_tags = [sents_tags[i] for i in train_index]\n",
        "    test_tags = [sents_tags[i] for i in test_index]\n",
        "\n",
        "    # Entrenar el etiquetador TnT\n",
        "    tnt_tagger = tnt.TnT()\n",
        "    tnt_tagger.train(train_tags)\n",
        "\n",
        "    # Evaluar el rendimiento del etiquetador en los datos de prueba\n",
        "    accuracy = tnt_tagger.evaluate(test_tags)\n",
        "    accuracies.append(accuracy)\n"
      ],
      "metadata": {
        "colab": {
          "base_uri": "https://localhost:8080/"
        },
        "id": "TMEQ0WfxgE7E",
        "outputId": "ff42749d-ffbb-414e-d38d-b4cf4e21d92a"
      },
      "execution_count": 17,
      "outputs": [
        {
          "output_type": "stream",
          "name": "stderr",
          "text": [
            "<ipython-input-17-289673467bc8>:20: DeprecationWarning: \n",
            "  Function evaluate() has been deprecated.  Use accuracy(gold)\n",
            "  instead.\n",
            "  accuracy = tnt_tagger.evaluate(test_tags)\n"
          ]
        }
      ]
    },
    {
      "cell_type": "code",
      "source": [
        "import statistics\n",
        "mean_accuracy = sum(accuracies) / len(accuracies)\n",
        "std_accuracy = statistics.stdev(accuracies)\n",
        "\n",
        "print(\"Precisiones obtenidas en cada pliegue:\", accuracies)\n",
        "print(\"Precisión media: {:.2f}\".format(mean_accuracy))\n",
        "print(\"Desviación estándar: {:.2f}\".format(std_accuracy))"
      ],
      "metadata": {
        "colab": {
          "base_uri": "https://localhost:8080/"
        },
        "id": "pbenjwfMkhzO",
        "outputId": "ab82fdb1-dff7-428e-e310-a32b0ab27a77"
      },
      "execution_count": 19,
      "outputs": [
        {
          "output_type": "stream",
          "name": "stdout",
          "text": [
            "Precisiones obtenidas en cada pliegue: [0.8908495729118715, 0.900768112933361, 0.8958070617906684, 0.8944160338860478, 0.8950523161049477, 0.8959294576027889, 0.8957894195671173, 0.8940898345153664, 0.895232248823409, 0.8932706031611778]\n",
            "Precisión media: 0.90\n",
            "Desviación estándar: 0.00\n"
          ]
        }
      ]
    }
  ]
}