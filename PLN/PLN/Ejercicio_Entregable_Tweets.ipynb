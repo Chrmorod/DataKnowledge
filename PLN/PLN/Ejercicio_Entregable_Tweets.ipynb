{
  "nbformat": 4,
  "nbformat_minor": 0,
  "metadata": {
    "colab": {
      "provenance": []
    },
    "kernelspec": {
      "name": "python3",
      "display_name": "Python 3"
    },
    "language_info": {
      "name": "python"
    }
  },
  "cells": [
    {
      "cell_type": "code",
      "source": [
        "from google.colab import drive\n",
        "drive.mount('/content/drive')"
      ],
      "metadata": {
        "colab": {
          "base_uri": "https://localhost:8080/"
        },
        "id": "N_s3HmCI038p",
        "outputId": "c05ae578-c694-40db-eb42-2f81cd8b1304"
      },
      "execution_count": 1,
      "outputs": [
        {
          "output_type": "stream",
          "name": "stdout",
          "text": [
            "Drive already mounted at /content/drive; to attempt to forcibly remount, call drive.mount(\"/content/drive\", force_remount=True).\n"
          ]
        }
      ]
    },
    {
      "cell_type": "markdown",
      "source": [
        "## 1 - Carga de liberias y datos"
      ],
      "metadata": {
        "id": "SnlrSLl6tqmq"
      }
    },
    {
      "cell_type": "code",
      "source": [
        "import pandas as pd\n",
        "import matplotlib.pyplot as plt\n",
        "import re\n",
        "import nltk\n",
        "!pip install emoji\n",
        "import emoji\n",
        "from nltk.corpus import stopwords\n",
        "from nltk.tokenize import TweetTokenizer\n",
        "from sklearn.model_selection import train_test_split\n",
        "from sklearn.feature_extraction.text import TfidfVectorizer\n",
        "from sklearn.feature_extraction.text import CountVectorizer\n",
        "from sklearn.linear_model import LogisticRegression\n",
        "from sklearn.ensemble import RandomForestClassifier\n",
        "from sklearn.svm import SVC\n",
        "from sklearn.neighbors import KNeighborsClassifier\n",
        "from sklearn.metrics import accuracy_score\n",
        "from sklearn import metrics\n",
        "from sklearn.metrics import confusion_matrix, ConfusionMatrixDisplay\n",
        "from sklearn.model_selection import GridSearchCV\n",
        "# Descargar recursos adicionales de NLTK\n",
        "nltk.download('stopwords')\n",
        "nltk.download('punkt')\n",
        "\n",
        "# Cargar los datos de entrenamiento y test\n",
        "def load_data(file_path):\n",
        "    with open(file_path, 'r', encoding='utf-8') as file:\n",
        "        tweets = file.readlines()\n",
        "    return tweets\n",
        "\n",
        "train_tweets = load_data('/content/drive/MyDrive/PLN-2022-2023/VIERNES/TRABAJO - ENTREGA/training.txt')\n",
        "test_tweets = load_data('/content/drive/MyDrive/PLN-2022-2023/VIERNES/TRABAJO - ENTREGA/test.txt')\n",
        "\n",
        "# Creamos los DataFrames con los tweets tanto para train como para test\n",
        "df_train_tweets = pd.DataFrame([tweet.split('\\t') for tweet in train_tweets], columns=['Id', 'Sentimiento', 'Texto'])\n",
        "df_test_tweets = pd.DataFrame([tweet.split('\\t') for tweet in test_tweets], columns=['Id', 'Sentimiento', 'Texto'])"
      ],
      "metadata": {
        "colab": {
          "base_uri": "https://localhost:8080/"
        },
        "id": "uUlqDVxlnu1b",
        "outputId": "f16f2d46-d5b2-4795-fdd1-fd402788311d"
      },
      "execution_count": 2,
      "outputs": [
        {
          "output_type": "stream",
          "name": "stdout",
          "text": [
            "Requirement already satisfied: emoji in /usr/local/lib/python3.10/dist-packages (2.7.0)\n"
          ]
        },
        {
          "output_type": "stream",
          "name": "stderr",
          "text": [
            "[nltk_data] Downloading package stopwords to /root/nltk_data...\n",
            "[nltk_data]   Package stopwords is already up-to-date!\n",
            "[nltk_data] Downloading package punkt to /root/nltk_data...\n",
            "[nltk_data]   Package punkt is already up-to-date!\n"
          ]
        }
      ]
    },
    {
      "cell_type": "markdown",
      "source": [
        "**Visualizamos el train y el test**"
      ],
      "metadata": {
        "id": "7ntnuDbPorZL"
      }
    },
    {
      "cell_type": "code",
      "source": [
        "df_train_tweets"
      ],
      "metadata": {
        "colab": {
          "base_uri": "https://localhost:8080/",
          "height": 423
        },
        "id": "p_K-ThXAoo9K",
        "outputId": "6516ae00-e150-47a8-d426-aff7ec36976a"
      },
      "execution_count": 3,
      "outputs": [
        {
          "output_type": "execute_result",
          "data": {
            "text/plain": [
              "                      Id Sentimiento  \\\n",
              "0     768213876278165504        NONE   \n",
              "1     768213567418036224           N   \n",
              "2     768212591105703936           N   \n",
              "3     768221670255493120           P   \n",
              "4     768221021300264964           N   \n",
              "...                  ...         ...   \n",
              "1003  814846333601320960           P   \n",
              "1004  813731371076243461           N   \n",
              "1005  818399956792905728         NEU   \n",
              "1006  815715581878009858           P   \n",
              "1007  816978031357161476           P   \n",
              "\n",
              "                                                  Texto  \n",
              "0     -Me caes muy bien  -Tienes que jugar más parti...  \n",
              "1     @myendlesshazza a. que puto mal escribo  b. me...  \n",
              "2     @estherct209 jajajaja la tuya y la d mucha gen...  \n",
              "3     Quiero mogollón a @AlbaBenito99 pero sobretodo...  \n",
              "4     Vale he visto la tia bebiendose su regla y me ...  \n",
              "...                                                 ...  \n",
              "1003                Para mí mi mejor año fue el 2015 \\n  \n",
              "1004                Hoy va a ser un dia muy largo... \\n  \n",
              "1005                   11:11 que no me encuentre mal \\n  \n",
              "1006                       Es que son muy bonitas jo \\n  \n",
              "1007          Que no jo que no soy tan irresponsable \\n  \n",
              "\n",
              "[1008 rows x 3 columns]"
            ],
            "text/html": [
              "\n",
              "\n",
              "  <div id=\"df-d120c01f-bf43-4f85-889e-d4231dcc6453\">\n",
              "    <div class=\"colab-df-container\">\n",
              "      <div>\n",
              "<style scoped>\n",
              "    .dataframe tbody tr th:only-of-type {\n",
              "        vertical-align: middle;\n",
              "    }\n",
              "\n",
              "    .dataframe tbody tr th {\n",
              "        vertical-align: top;\n",
              "    }\n",
              "\n",
              "    .dataframe thead th {\n",
              "        text-align: right;\n",
              "    }\n",
              "</style>\n",
              "<table border=\"1\" class=\"dataframe\">\n",
              "  <thead>\n",
              "    <tr style=\"text-align: right;\">\n",
              "      <th></th>\n",
              "      <th>Id</th>\n",
              "      <th>Sentimiento</th>\n",
              "      <th>Texto</th>\n",
              "    </tr>\n",
              "  </thead>\n",
              "  <tbody>\n",
              "    <tr>\n",
              "      <th>0</th>\n",
              "      <td>768213876278165504</td>\n",
              "      <td>NONE</td>\n",
              "      <td>-Me caes muy bien  -Tienes que jugar más parti...</td>\n",
              "    </tr>\n",
              "    <tr>\n",
              "      <th>1</th>\n",
              "      <td>768213567418036224</td>\n",
              "      <td>N</td>\n",
              "      <td>@myendlesshazza a. que puto mal escribo  b. me...</td>\n",
              "    </tr>\n",
              "    <tr>\n",
              "      <th>2</th>\n",
              "      <td>768212591105703936</td>\n",
              "      <td>N</td>\n",
              "      <td>@estherct209 jajajaja la tuya y la d mucha gen...</td>\n",
              "    </tr>\n",
              "    <tr>\n",
              "      <th>3</th>\n",
              "      <td>768221670255493120</td>\n",
              "      <td>P</td>\n",
              "      <td>Quiero mogollón a @AlbaBenito99 pero sobretodo...</td>\n",
              "    </tr>\n",
              "    <tr>\n",
              "      <th>4</th>\n",
              "      <td>768221021300264964</td>\n",
              "      <td>N</td>\n",
              "      <td>Vale he visto la tia bebiendose su regla y me ...</td>\n",
              "    </tr>\n",
              "    <tr>\n",
              "      <th>...</th>\n",
              "      <td>...</td>\n",
              "      <td>...</td>\n",
              "      <td>...</td>\n",
              "    </tr>\n",
              "    <tr>\n",
              "      <th>1003</th>\n",
              "      <td>814846333601320960</td>\n",
              "      <td>P</td>\n",
              "      <td>Para mí mi mejor año fue el 2015 \\n</td>\n",
              "    </tr>\n",
              "    <tr>\n",
              "      <th>1004</th>\n",
              "      <td>813731371076243461</td>\n",
              "      <td>N</td>\n",
              "      <td>Hoy va a ser un dia muy largo... \\n</td>\n",
              "    </tr>\n",
              "    <tr>\n",
              "      <th>1005</th>\n",
              "      <td>818399956792905728</td>\n",
              "      <td>NEU</td>\n",
              "      <td>11:11 que no me encuentre mal \\n</td>\n",
              "    </tr>\n",
              "    <tr>\n",
              "      <th>1006</th>\n",
              "      <td>815715581878009858</td>\n",
              "      <td>P</td>\n",
              "      <td>Es que son muy bonitas jo \\n</td>\n",
              "    </tr>\n",
              "    <tr>\n",
              "      <th>1007</th>\n",
              "      <td>816978031357161476</td>\n",
              "      <td>P</td>\n",
              "      <td>Que no jo que no soy tan irresponsable \\n</td>\n",
              "    </tr>\n",
              "  </tbody>\n",
              "</table>\n",
              "<p>1008 rows × 3 columns</p>\n",
              "</div>\n",
              "      <button class=\"colab-df-convert\" onclick=\"convertToInteractive('df-d120c01f-bf43-4f85-889e-d4231dcc6453')\"\n",
              "              title=\"Convert this dataframe to an interactive table.\"\n",
              "              style=\"display:none;\">\n",
              "\n",
              "  <svg xmlns=\"http://www.w3.org/2000/svg\" height=\"24px\"viewBox=\"0 0 24 24\"\n",
              "       width=\"24px\">\n",
              "    <path d=\"M0 0h24v24H0V0z\" fill=\"none\"/>\n",
              "    <path d=\"M18.56 5.44l.94 2.06.94-2.06 2.06-.94-2.06-.94-.94-2.06-.94 2.06-2.06.94zm-11 1L8.5 8.5l.94-2.06 2.06-.94-2.06-.94L8.5 2.5l-.94 2.06-2.06.94zm10 10l.94 2.06.94-2.06 2.06-.94-2.06-.94-.94-2.06-.94 2.06-2.06.94z\"/><path d=\"M17.41 7.96l-1.37-1.37c-.4-.4-.92-.59-1.43-.59-.52 0-1.04.2-1.43.59L10.3 9.45l-7.72 7.72c-.78.78-.78 2.05 0 2.83L4 21.41c.39.39.9.59 1.41.59.51 0 1.02-.2 1.41-.59l7.78-7.78 2.81-2.81c.8-.78.8-2.07 0-2.86zM5.41 20L4 18.59l7.72-7.72 1.47 1.35L5.41 20z\"/>\n",
              "  </svg>\n",
              "      </button>\n",
              "\n",
              "\n",
              "\n",
              "    <div id=\"df-2268da4e-3ee5-40f3-81ca-0acf2e388ced\">\n",
              "      <button class=\"colab-df-quickchart\" onclick=\"quickchart('df-2268da4e-3ee5-40f3-81ca-0acf2e388ced')\"\n",
              "              title=\"Suggest charts.\"\n",
              "              style=\"display:none;\">\n",
              "\n",
              "<svg xmlns=\"http://www.w3.org/2000/svg\" height=\"24px\"viewBox=\"0 0 24 24\"\n",
              "     width=\"24px\">\n",
              "    <g>\n",
              "        <path d=\"M19 3H5c-1.1 0-2 .9-2 2v14c0 1.1.9 2 2 2h14c1.1 0 2-.9 2-2V5c0-1.1-.9-2-2-2zM9 17H7v-7h2v7zm4 0h-2V7h2v10zm4 0h-2v-4h2v4z\"/>\n",
              "    </g>\n",
              "</svg>\n",
              "      </button>\n",
              "    </div>\n",
              "\n",
              "<style>\n",
              "  .colab-df-quickchart {\n",
              "    background-color: #E8F0FE;\n",
              "    border: none;\n",
              "    border-radius: 50%;\n",
              "    cursor: pointer;\n",
              "    display: none;\n",
              "    fill: #1967D2;\n",
              "    height: 32px;\n",
              "    padding: 0 0 0 0;\n",
              "    width: 32px;\n",
              "  }\n",
              "\n",
              "  .colab-df-quickchart:hover {\n",
              "    background-color: #E2EBFA;\n",
              "    box-shadow: 0px 1px 2px rgba(60, 64, 67, 0.3), 0px 1px 3px 1px rgba(60, 64, 67, 0.15);\n",
              "    fill: #174EA6;\n",
              "  }\n",
              "\n",
              "  [theme=dark] .colab-df-quickchart {\n",
              "    background-color: #3B4455;\n",
              "    fill: #D2E3FC;\n",
              "  }\n",
              "\n",
              "  [theme=dark] .colab-df-quickchart:hover {\n",
              "    background-color: #434B5C;\n",
              "    box-shadow: 0px 1px 3px 1px rgba(0, 0, 0, 0.15);\n",
              "    filter: drop-shadow(0px 1px 2px rgba(0, 0, 0, 0.3));\n",
              "    fill: #FFFFFF;\n",
              "  }\n",
              "</style>\n",
              "\n",
              "    <script>\n",
              "      async function quickchart(key) {\n",
              "        const containerElement = document.querySelector('#' + key);\n",
              "        const charts = await google.colab.kernel.invokeFunction(\n",
              "            'suggestCharts', [key], {});\n",
              "      }\n",
              "    </script>\n",
              "\n",
              "      <script>\n",
              "\n",
              "function displayQuickchartButton(domScope) {\n",
              "  let quickchartButtonEl =\n",
              "    domScope.querySelector('#df-2268da4e-3ee5-40f3-81ca-0acf2e388ced button.colab-df-quickchart');\n",
              "  quickchartButtonEl.style.display =\n",
              "    google.colab.kernel.accessAllowed ? 'block' : 'none';\n",
              "}\n",
              "\n",
              "        displayQuickchartButton(document);\n",
              "      </script>\n",
              "      <style>\n",
              "    .colab-df-container {\n",
              "      display:flex;\n",
              "      flex-wrap:wrap;\n",
              "      gap: 12px;\n",
              "    }\n",
              "\n",
              "    .colab-df-convert {\n",
              "      background-color: #E8F0FE;\n",
              "      border: none;\n",
              "      border-radius: 50%;\n",
              "      cursor: pointer;\n",
              "      display: none;\n",
              "      fill: #1967D2;\n",
              "      height: 32px;\n",
              "      padding: 0 0 0 0;\n",
              "      width: 32px;\n",
              "    }\n",
              "\n",
              "    .colab-df-convert:hover {\n",
              "      background-color: #E2EBFA;\n",
              "      box-shadow: 0px 1px 2px rgba(60, 64, 67, 0.3), 0px 1px 3px 1px rgba(60, 64, 67, 0.15);\n",
              "      fill: #174EA6;\n",
              "    }\n",
              "\n",
              "    [theme=dark] .colab-df-convert {\n",
              "      background-color: #3B4455;\n",
              "      fill: #D2E3FC;\n",
              "    }\n",
              "\n",
              "    [theme=dark] .colab-df-convert:hover {\n",
              "      background-color: #434B5C;\n",
              "      box-shadow: 0px 1px 3px 1px rgba(0, 0, 0, 0.15);\n",
              "      filter: drop-shadow(0px 1px 2px rgba(0, 0, 0, 0.3));\n",
              "      fill: #FFFFFF;\n",
              "    }\n",
              "  </style>\n",
              "\n",
              "      <script>\n",
              "        const buttonEl =\n",
              "          document.querySelector('#df-d120c01f-bf43-4f85-889e-d4231dcc6453 button.colab-df-convert');\n",
              "        buttonEl.style.display =\n",
              "          google.colab.kernel.accessAllowed ? 'block' : 'none';\n",
              "\n",
              "        async function convertToInteractive(key) {\n",
              "          const element = document.querySelector('#df-d120c01f-bf43-4f85-889e-d4231dcc6453');\n",
              "          const dataTable =\n",
              "            await google.colab.kernel.invokeFunction('convertToInteractive',\n",
              "                                                     [key], {});\n",
              "          if (!dataTable) return;\n",
              "\n",
              "          const docLinkHtml = 'Like what you see? Visit the ' +\n",
              "            '<a target=\"_blank\" href=https://colab.research.google.com/notebooks/data_table.ipynb>data table notebook</a>'\n",
              "            + ' to learn more about interactive tables.';\n",
              "          element.innerHTML = '';\n",
              "          dataTable['output_type'] = 'display_data';\n",
              "          await google.colab.output.renderOutput(dataTable, element);\n",
              "          const docLink = document.createElement('div');\n",
              "          docLink.innerHTML = docLinkHtml;\n",
              "          element.appendChild(docLink);\n",
              "        }\n",
              "      </script>\n",
              "    </div>\n",
              "  </div>\n"
            ]
          },
          "metadata": {},
          "execution_count": 3
        }
      ]
    },
    {
      "cell_type": "code",
      "source": [
        "df_test_tweets"
      ],
      "metadata": {
        "colab": {
          "base_uri": "https://localhost:8080/",
          "height": 423
        },
        "id": "M1LgnfBkowhw",
        "outputId": "35214ab1-4a06-42a2-c60c-050457de4cf7"
      },
      "execution_count": 4,
      "outputs": [
        {
          "output_type": "execute_result",
          "data": {
            "text/plain": [
              "                      Id Sentimiento  \\\n",
              "0     770567971701940224         UNK   \n",
              "1     770503386789711872         UNK   \n",
              "2     770502863017635840         UNK   \n",
              "3     770599972102348800         UNK   \n",
              "4     770599962216390656         UNK   \n",
              "...                  ...         ...   \n",
              "1894  783252629644247040         UNK   \n",
              "1895  780350213345214465         UNK   \n",
              "1896  780515334956646400         UNK   \n",
              "1897  780540843346231300         UNK   \n",
              "1898  780682485315334144         UNK   \n",
              "\n",
              "                                                  Texto  \n",
              "0     @LonelySoad mientras que no te pillen la prime...  \n",
              "1     @ceemeese ya era hora de volver al csgo y deja...  \n",
              "2     @mireiaescribano justo cuando se terminan las ...  \n",
              "3     @LuisMartinez22_ pensba q iba a hacer @wxplosi...  \n",
              "4     @Vic_Phantomhive Si lo encuentro, sin compañer...  \n",
              "...                                                 ...  \n",
              "1894            @Bammz87 ya eres bueno a esto o qué? \\n  \n",
              "1895  @Radinosaurio  yo soy asi con mis amigos pero ...  \n",
              "1896              @ElTerral somos más felices sin ti \\n  \n",
              "1897                   Que agobio tío que mala estoy \\n  \n",
              "1898  Y eso es triste la vdd. Por vosotros, no por m...  \n",
              "\n",
              "[1899 rows x 3 columns]"
            ],
            "text/html": [
              "\n",
              "\n",
              "  <div id=\"df-e1aa5939-7439-4bb8-90c0-05ad57440306\">\n",
              "    <div class=\"colab-df-container\">\n",
              "      <div>\n",
              "<style scoped>\n",
              "    .dataframe tbody tr th:only-of-type {\n",
              "        vertical-align: middle;\n",
              "    }\n",
              "\n",
              "    .dataframe tbody tr th {\n",
              "        vertical-align: top;\n",
              "    }\n",
              "\n",
              "    .dataframe thead th {\n",
              "        text-align: right;\n",
              "    }\n",
              "</style>\n",
              "<table border=\"1\" class=\"dataframe\">\n",
              "  <thead>\n",
              "    <tr style=\"text-align: right;\">\n",
              "      <th></th>\n",
              "      <th>Id</th>\n",
              "      <th>Sentimiento</th>\n",
              "      <th>Texto</th>\n",
              "    </tr>\n",
              "  </thead>\n",
              "  <tbody>\n",
              "    <tr>\n",
              "      <th>0</th>\n",
              "      <td>770567971701940224</td>\n",
              "      <td>UNK</td>\n",
              "      <td>@LonelySoad mientras que no te pillen la prime...</td>\n",
              "    </tr>\n",
              "    <tr>\n",
              "      <th>1</th>\n",
              "      <td>770503386789711872</td>\n",
              "      <td>UNK</td>\n",
              "      <td>@ceemeese ya era hora de volver al csgo y deja...</td>\n",
              "    </tr>\n",
              "    <tr>\n",
              "      <th>2</th>\n",
              "      <td>770502863017635840</td>\n",
              "      <td>UNK</td>\n",
              "      <td>@mireiaescribano justo cuando se terminan las ...</td>\n",
              "    </tr>\n",
              "    <tr>\n",
              "      <th>3</th>\n",
              "      <td>770599972102348800</td>\n",
              "      <td>UNK</td>\n",
              "      <td>@LuisMartinez22_ pensba q iba a hacer @wxplosi...</td>\n",
              "    </tr>\n",
              "    <tr>\n",
              "      <th>4</th>\n",
              "      <td>770599962216390656</td>\n",
              "      <td>UNK</td>\n",
              "      <td>@Vic_Phantomhive Si lo encuentro, sin compañer...</td>\n",
              "    </tr>\n",
              "    <tr>\n",
              "      <th>...</th>\n",
              "      <td>...</td>\n",
              "      <td>...</td>\n",
              "      <td>...</td>\n",
              "    </tr>\n",
              "    <tr>\n",
              "      <th>1894</th>\n",
              "      <td>783252629644247040</td>\n",
              "      <td>UNK</td>\n",
              "      <td>@Bammz87 ya eres bueno a esto o qué? \\n</td>\n",
              "    </tr>\n",
              "    <tr>\n",
              "      <th>1895</th>\n",
              "      <td>780350213345214465</td>\n",
              "      <td>UNK</td>\n",
              "      <td>@Radinosaurio  yo soy asi con mis amigos pero ...</td>\n",
              "    </tr>\n",
              "    <tr>\n",
              "      <th>1896</th>\n",
              "      <td>780515334956646400</td>\n",
              "      <td>UNK</td>\n",
              "      <td>@ElTerral somos más felices sin ti \\n</td>\n",
              "    </tr>\n",
              "    <tr>\n",
              "      <th>1897</th>\n",
              "      <td>780540843346231300</td>\n",
              "      <td>UNK</td>\n",
              "      <td>Que agobio tío que mala estoy \\n</td>\n",
              "    </tr>\n",
              "    <tr>\n",
              "      <th>1898</th>\n",
              "      <td>780682485315334144</td>\n",
              "      <td>UNK</td>\n",
              "      <td>Y eso es triste la vdd. Por vosotros, no por m...</td>\n",
              "    </tr>\n",
              "  </tbody>\n",
              "</table>\n",
              "<p>1899 rows × 3 columns</p>\n",
              "</div>\n",
              "      <button class=\"colab-df-convert\" onclick=\"convertToInteractive('df-e1aa5939-7439-4bb8-90c0-05ad57440306')\"\n",
              "              title=\"Convert this dataframe to an interactive table.\"\n",
              "              style=\"display:none;\">\n",
              "\n",
              "  <svg xmlns=\"http://www.w3.org/2000/svg\" height=\"24px\"viewBox=\"0 0 24 24\"\n",
              "       width=\"24px\">\n",
              "    <path d=\"M0 0h24v24H0V0z\" fill=\"none\"/>\n",
              "    <path d=\"M18.56 5.44l.94 2.06.94-2.06 2.06-.94-2.06-.94-.94-2.06-.94 2.06-2.06.94zm-11 1L8.5 8.5l.94-2.06 2.06-.94-2.06-.94L8.5 2.5l-.94 2.06-2.06.94zm10 10l.94 2.06.94-2.06 2.06-.94-2.06-.94-.94-2.06-.94 2.06-2.06.94z\"/><path d=\"M17.41 7.96l-1.37-1.37c-.4-.4-.92-.59-1.43-.59-.52 0-1.04.2-1.43.59L10.3 9.45l-7.72 7.72c-.78.78-.78 2.05 0 2.83L4 21.41c.39.39.9.59 1.41.59.51 0 1.02-.2 1.41-.59l7.78-7.78 2.81-2.81c.8-.78.8-2.07 0-2.86zM5.41 20L4 18.59l7.72-7.72 1.47 1.35L5.41 20z\"/>\n",
              "  </svg>\n",
              "      </button>\n",
              "\n",
              "\n",
              "\n",
              "    <div id=\"df-70ef50b9-6b4f-42d8-8d6f-162580712229\">\n",
              "      <button class=\"colab-df-quickchart\" onclick=\"quickchart('df-70ef50b9-6b4f-42d8-8d6f-162580712229')\"\n",
              "              title=\"Suggest charts.\"\n",
              "              style=\"display:none;\">\n",
              "\n",
              "<svg xmlns=\"http://www.w3.org/2000/svg\" height=\"24px\"viewBox=\"0 0 24 24\"\n",
              "     width=\"24px\">\n",
              "    <g>\n",
              "        <path d=\"M19 3H5c-1.1 0-2 .9-2 2v14c0 1.1.9 2 2 2h14c1.1 0 2-.9 2-2V5c0-1.1-.9-2-2-2zM9 17H7v-7h2v7zm4 0h-2V7h2v10zm4 0h-2v-4h2v4z\"/>\n",
              "    </g>\n",
              "</svg>\n",
              "      </button>\n",
              "    </div>\n",
              "\n",
              "<style>\n",
              "  .colab-df-quickchart {\n",
              "    background-color: #E8F0FE;\n",
              "    border: none;\n",
              "    border-radius: 50%;\n",
              "    cursor: pointer;\n",
              "    display: none;\n",
              "    fill: #1967D2;\n",
              "    height: 32px;\n",
              "    padding: 0 0 0 0;\n",
              "    width: 32px;\n",
              "  }\n",
              "\n",
              "  .colab-df-quickchart:hover {\n",
              "    background-color: #E2EBFA;\n",
              "    box-shadow: 0px 1px 2px rgba(60, 64, 67, 0.3), 0px 1px 3px 1px rgba(60, 64, 67, 0.15);\n",
              "    fill: #174EA6;\n",
              "  }\n",
              "\n",
              "  [theme=dark] .colab-df-quickchart {\n",
              "    background-color: #3B4455;\n",
              "    fill: #D2E3FC;\n",
              "  }\n",
              "\n",
              "  [theme=dark] .colab-df-quickchart:hover {\n",
              "    background-color: #434B5C;\n",
              "    box-shadow: 0px 1px 3px 1px rgba(0, 0, 0, 0.15);\n",
              "    filter: drop-shadow(0px 1px 2px rgba(0, 0, 0, 0.3));\n",
              "    fill: #FFFFFF;\n",
              "  }\n",
              "</style>\n",
              "\n",
              "    <script>\n",
              "      async function quickchart(key) {\n",
              "        const containerElement = document.querySelector('#' + key);\n",
              "        const charts = await google.colab.kernel.invokeFunction(\n",
              "            'suggestCharts', [key], {});\n",
              "      }\n",
              "    </script>\n",
              "\n",
              "      <script>\n",
              "\n",
              "function displayQuickchartButton(domScope) {\n",
              "  let quickchartButtonEl =\n",
              "    domScope.querySelector('#df-70ef50b9-6b4f-42d8-8d6f-162580712229 button.colab-df-quickchart');\n",
              "  quickchartButtonEl.style.display =\n",
              "    google.colab.kernel.accessAllowed ? 'block' : 'none';\n",
              "}\n",
              "\n",
              "        displayQuickchartButton(document);\n",
              "      </script>\n",
              "      <style>\n",
              "    .colab-df-container {\n",
              "      display:flex;\n",
              "      flex-wrap:wrap;\n",
              "      gap: 12px;\n",
              "    }\n",
              "\n",
              "    .colab-df-convert {\n",
              "      background-color: #E8F0FE;\n",
              "      border: none;\n",
              "      border-radius: 50%;\n",
              "      cursor: pointer;\n",
              "      display: none;\n",
              "      fill: #1967D2;\n",
              "      height: 32px;\n",
              "      padding: 0 0 0 0;\n",
              "      width: 32px;\n",
              "    }\n",
              "\n",
              "    .colab-df-convert:hover {\n",
              "      background-color: #E2EBFA;\n",
              "      box-shadow: 0px 1px 2px rgba(60, 64, 67, 0.3), 0px 1px 3px 1px rgba(60, 64, 67, 0.15);\n",
              "      fill: #174EA6;\n",
              "    }\n",
              "\n",
              "    [theme=dark] .colab-df-convert {\n",
              "      background-color: #3B4455;\n",
              "      fill: #D2E3FC;\n",
              "    }\n",
              "\n",
              "    [theme=dark] .colab-df-convert:hover {\n",
              "      background-color: #434B5C;\n",
              "      box-shadow: 0px 1px 3px 1px rgba(0, 0, 0, 0.15);\n",
              "      filter: drop-shadow(0px 1px 2px rgba(0, 0, 0, 0.3));\n",
              "      fill: #FFFFFF;\n",
              "    }\n",
              "  </style>\n",
              "\n",
              "      <script>\n",
              "        const buttonEl =\n",
              "          document.querySelector('#df-e1aa5939-7439-4bb8-90c0-05ad57440306 button.colab-df-convert');\n",
              "        buttonEl.style.display =\n",
              "          google.colab.kernel.accessAllowed ? 'block' : 'none';\n",
              "\n",
              "        async function convertToInteractive(key) {\n",
              "          const element = document.querySelector('#df-e1aa5939-7439-4bb8-90c0-05ad57440306');\n",
              "          const dataTable =\n",
              "            await google.colab.kernel.invokeFunction('convertToInteractive',\n",
              "                                                     [key], {});\n",
              "          if (!dataTable) return;\n",
              "\n",
              "          const docLinkHtml = 'Like what you see? Visit the ' +\n",
              "            '<a target=\"_blank\" href=https://colab.research.google.com/notebooks/data_table.ipynb>data table notebook</a>'\n",
              "            + ' to learn more about interactive tables.';\n",
              "          element.innerHTML = '';\n",
              "          dataTable['output_type'] = 'display_data';\n",
              "          await google.colab.output.renderOutput(dataTable, element);\n",
              "          const docLink = document.createElement('div');\n",
              "          docLink.innerHTML = docLinkHtml;\n",
              "          element.appendChild(docLink);\n",
              "        }\n",
              "      </script>\n",
              "    </div>\n",
              "  </div>\n"
            ]
          },
          "metadata": {},
          "execution_count": 4
        }
      ]
    },
    {
      "cell_type": "markdown",
      "source": [
        "## 2 - Preprocesamiento de datos del tweets"
      ],
      "metadata": {
        "id": "Q1AFa2MCo1tQ"
      }
    },
    {
      "cell_type": "code",
      "source": [
        "# Función de preprocesamiento de tweets\n",
        "def preprocess_tweet(tweet):\n",
        "    # Convertir a minúsculas\n",
        "    tweet = tweet.lower()\n",
        "    # Eliminar emojis DE MOMENTO\n",
        "    #tweet = re.sub(r'[\\U00010000-\\U0010ffff]', '', tweet)\n",
        "    tweet = emoji.demojize(tweet, language='es')\n",
        "    # Eliminar fechas\n",
        "    tweet = re.sub(r'\\d{1,2}[\\/-]\\d{1,2}(?:[\\/-]\\d{2,4})?|\\d{1,2}\\s+de\\s+\\w+\\s+de\\s+\\d{4}', '',tweet)\n",
        "    # Eliminar horas\n",
        "    tweet = re.sub(r'\\b\\d{1,2}:\\d{2}(?: [ap]\\.?[mM]\\.?| h)?\\b', '', tweet)\n",
        "    # Eliminar URLs\n",
        "    tweet = re.sub(r\"http\\S+|www\\S+|https\\S+\", '', tweet, flags=re.MULTILINE)\n",
        "    # Eliminar emails\n",
        "    tweet = re.sub(r'\\S+@\\S+', '',tweet)\n",
        "    # Eliminar numeros decimales\n",
        "    tweet = re.sub(r'\\d+(?:[\\.,]\\d+)?', '',tweet)\n",
        "    # Eliminar acronimos\n",
        "    tweet = re.sub(r'\\b[A-Z\\.]+\\b\\.?', '',tweet)\n",
        "    # Eliminar menciones de usuarios\n",
        "    tweet = re.sub(r'@[\\w_]+', '', tweet)\n",
        "    # Eliminar menciones hashtags\n",
        "    tweet = re.sub(r'#[\\w_-]+','',tweet)\n",
        "    # Eliminar signos de puntuación y caracteres especiales\n",
        "    tweet = re.sub(r'\\.{3}|[.,‘“\"?¿!¡;:%+_]', ' ', tweet)\n",
        "    # Eliminar palabras vacías (stop words)\n",
        "    stop_words = set(stopwords.words('spanish'))\n",
        "    #tweet_tokens = TweetTokenizer(reduce_len=True, preserve_case=False)\n",
        "    tweet_tokens = nltk.word_tokenize(tweet)\n",
        "    filtered_tweet = [word for word in tweet_tokens if word not in stop_words]\n",
        "    #return filtered_tweet\n",
        "    # Esto es si quisieramos ver los tokens unidos.\n",
        "    processed_tweet = ' '.join(filtered_tweet)\n",
        "    return processed_tweet"
      ],
      "metadata": {
        "id": "YclbWkxVtp4_"
      },
      "execution_count": 5,
      "outputs": []
    },
    {
      "cell_type": "code",
      "source": [
        "# Aplicar preprocesamiento a los tweets\n",
        "df_train_tweets['Tweet_Procesado'] = df_train_tweets['Texto'].apply(preprocess_tweet)"
      ],
      "metadata": {
        "id": "m1MBdYSmvRSX"
      },
      "execution_count": 6,
      "outputs": []
    },
    {
      "cell_type": "code",
      "source": [
        "df_train_tweets.head(16)"
      ],
      "metadata": {
        "colab": {
          "base_uri": "https://localhost:8080/",
          "height": 630
        },
        "id": "ygt3OeSfpaHV",
        "outputId": "9050d878-41a6-48c6-e6ee-ac96e89da2e8"
      },
      "execution_count": 7,
      "outputs": [
        {
          "output_type": "execute_result",
          "data": {
            "text/plain": [
              "                    Id Sentimiento  \\\n",
              "0   768213876278165504        NONE   \n",
              "1   768213567418036224           N   \n",
              "2   768212591105703936           N   \n",
              "3   768221670255493120           P   \n",
              "4   768221021300264964           N   \n",
              "5   768220253730009091           P   \n",
              "6   768224728049999872           N   \n",
              "7   768231706746912769           P   \n",
              "8   768231229439311872           N   \n",
              "9   768231166965145600           N   \n",
              "10  768230914233143296           N   \n",
              "11  768224471127826432           N   \n",
              "12  768223726739611652           P   \n",
              "13  768223225453084674           P   \n",
              "14  768223146868703232           N   \n",
              "15  768229223769202689           P   \n",
              "\n",
              "                                                Texto  \\\n",
              "0   -Me caes muy bien  -Tienes que jugar más parti...   \n",
              "1   @myendlesshazza a. que puto mal escribo  b. me...   \n",
              "2   @estherct209 jajajaja la tuya y la d mucha gen...   \n",
              "3   Quiero mogollón a @AlbaBenito99 pero sobretodo...   \n",
              "4   Vale he visto la tia bebiendose su regla y me ...   \n",
              "5   @Yulian_Poe @guillermoterry1 Ah. mucho más por...   \n",
              "6   Se ha terminado #Rio2016 Lamentablemente no ar...   \n",
              "7   11. siiii fue super gracioso teniamos que habe...   \n",
              "8   @toNi_end seria mejor que dejasen de emitir es...   \n",
              "9   @jonoro96 te mandaria a comprarte un burro, pe...   \n",
              "10  Mg y pongo un adjetivo super repelente a vuest...   \n",
              "11  @hywzz la voz de María al final me mata JAJAJS...   \n",
              "12  @EduGalan14  Jaja.Es de bien nacidos ser agrad...   \n",
              "13  @misscatingcat Bueno, al menos has acabado la ...   \n",
              "14  @mendescodes @heroinseb enserio cuando habéis ...   \n",
              "15  @Sakura_Abril Ow  Bueno, no pasa nada, cuando ...   \n",
              "\n",
              "                                      Tweet_Procesado  \n",
              "0   -me caes bien -tienes jugar partidas lol russe...  \n",
              "1   puto mal escribo b sigo surrando help quedado ...  \n",
              "2    jajajaja d mucha gente seguro puedo melena muero  \n",
              "3    quiero mogollón sobretodo rápido contesta wasaps  \n",
              "4   vale visto tia bebiendose regla hs dado muchs ...  \n",
              "5              ah supuesto solo incluyo entendido mal  \n",
              "6   terminado lamentablemente arriendo ganancias p...  \n",
              "7   siiii super gracioso teniamos habernos sacado ...  \n",
              "8   seria mejor dejasen emitir basura evolucionar ...  \n",
              "9   mandaria comprarte burro creo tiendas abiertas...  \n",
              "10           mg pongo adjetivo super repelente nombre  \n",
              "11          voz maría final mata jajajsjajajaj quilla  \n",
              "12  jajaes bien nacidos ser agradecidos diría aque...  \n",
              "13  bueno menos acabado noche hermosa vista ami ta...  \n",
              "14             enserio dicho froot loops malos dolido  \n",
              "15  ow bueno pasa puedas confirmarlo aquí cara fel...  "
            ],
            "text/html": [
              "\n",
              "\n",
              "  <div id=\"df-e64ec90c-328f-4b25-a353-bdf253ea7e64\">\n",
              "    <div class=\"colab-df-container\">\n",
              "      <div>\n",
              "<style scoped>\n",
              "    .dataframe tbody tr th:only-of-type {\n",
              "        vertical-align: middle;\n",
              "    }\n",
              "\n",
              "    .dataframe tbody tr th {\n",
              "        vertical-align: top;\n",
              "    }\n",
              "\n",
              "    .dataframe thead th {\n",
              "        text-align: right;\n",
              "    }\n",
              "</style>\n",
              "<table border=\"1\" class=\"dataframe\">\n",
              "  <thead>\n",
              "    <tr style=\"text-align: right;\">\n",
              "      <th></th>\n",
              "      <th>Id</th>\n",
              "      <th>Sentimiento</th>\n",
              "      <th>Texto</th>\n",
              "      <th>Tweet_Procesado</th>\n",
              "    </tr>\n",
              "  </thead>\n",
              "  <tbody>\n",
              "    <tr>\n",
              "      <th>0</th>\n",
              "      <td>768213876278165504</td>\n",
              "      <td>NONE</td>\n",
              "      <td>-Me caes muy bien  -Tienes que jugar más parti...</td>\n",
              "      <td>-me caes bien -tienes jugar partidas lol russe...</td>\n",
              "    </tr>\n",
              "    <tr>\n",
              "      <th>1</th>\n",
              "      <td>768213567418036224</td>\n",
              "      <td>N</td>\n",
              "      <td>@myendlesshazza a. que puto mal escribo  b. me...</td>\n",
              "      <td>puto mal escribo b sigo surrando help quedado ...</td>\n",
              "    </tr>\n",
              "    <tr>\n",
              "      <th>2</th>\n",
              "      <td>768212591105703936</td>\n",
              "      <td>N</td>\n",
              "      <td>@estherct209 jajajaja la tuya y la d mucha gen...</td>\n",
              "      <td>jajajaja d mucha gente seguro puedo melena muero</td>\n",
              "    </tr>\n",
              "    <tr>\n",
              "      <th>3</th>\n",
              "      <td>768221670255493120</td>\n",
              "      <td>P</td>\n",
              "      <td>Quiero mogollón a @AlbaBenito99 pero sobretodo...</td>\n",
              "      <td>quiero mogollón sobretodo rápido contesta wasaps</td>\n",
              "    </tr>\n",
              "    <tr>\n",
              "      <th>4</th>\n",
              "      <td>768221021300264964</td>\n",
              "      <td>N</td>\n",
              "      <td>Vale he visto la tia bebiendose su regla y me ...</td>\n",
              "      <td>vale visto tia bebiendose regla hs dado muchs ...</td>\n",
              "    </tr>\n",
              "    <tr>\n",
              "      <th>5</th>\n",
              "      <td>768220253730009091</td>\n",
              "      <td>P</td>\n",
              "      <td>@Yulian_Poe @guillermoterry1 Ah. mucho más por...</td>\n",
              "      <td>ah supuesto solo incluyo entendido mal</td>\n",
              "    </tr>\n",
              "    <tr>\n",
              "      <th>6</th>\n",
              "      <td>768224728049999872</td>\n",
              "      <td>N</td>\n",
              "      <td>Se ha terminado #Rio2016 Lamentablemente no ar...</td>\n",
              "      <td>terminado lamentablemente arriendo ganancias p...</td>\n",
              "    </tr>\n",
              "    <tr>\n",
              "      <th>7</th>\n",
              "      <td>768231706746912769</td>\n",
              "      <td>P</td>\n",
              "      <td>11. siiii fue super gracioso teniamos que habe...</td>\n",
              "      <td>siiii super gracioso teniamos habernos sacado ...</td>\n",
              "    </tr>\n",
              "    <tr>\n",
              "      <th>8</th>\n",
              "      <td>768231229439311872</td>\n",
              "      <td>N</td>\n",
              "      <td>@toNi_end seria mejor que dejasen de emitir es...</td>\n",
              "      <td>seria mejor dejasen emitir basura evolucionar ...</td>\n",
              "    </tr>\n",
              "    <tr>\n",
              "      <th>9</th>\n",
              "      <td>768231166965145600</td>\n",
              "      <td>N</td>\n",
              "      <td>@jonoro96 te mandaria a comprarte un burro, pe...</td>\n",
              "      <td>mandaria comprarte burro creo tiendas abiertas...</td>\n",
              "    </tr>\n",
              "    <tr>\n",
              "      <th>10</th>\n",
              "      <td>768230914233143296</td>\n",
              "      <td>N</td>\n",
              "      <td>Mg y pongo un adjetivo super repelente a vuest...</td>\n",
              "      <td>mg pongo adjetivo super repelente nombre</td>\n",
              "    </tr>\n",
              "    <tr>\n",
              "      <th>11</th>\n",
              "      <td>768224471127826432</td>\n",
              "      <td>N</td>\n",
              "      <td>@hywzz la voz de María al final me mata JAJAJS...</td>\n",
              "      <td>voz maría final mata jajajsjajajaj quilla</td>\n",
              "    </tr>\n",
              "    <tr>\n",
              "      <th>12</th>\n",
              "      <td>768223726739611652</td>\n",
              "      <td>P</td>\n",
              "      <td>@EduGalan14  Jaja.Es de bien nacidos ser agrad...</td>\n",
              "      <td>jajaes bien nacidos ser agradecidos diría aque...</td>\n",
              "    </tr>\n",
              "    <tr>\n",
              "      <th>13</th>\n",
              "      <td>768223225453084674</td>\n",
              "      <td>P</td>\n",
              "      <td>@misscatingcat Bueno, al menos has acabado la ...</td>\n",
              "      <td>bueno menos acabado noche hermosa vista ami ta...</td>\n",
              "    </tr>\n",
              "    <tr>\n",
              "      <th>14</th>\n",
              "      <td>768223146868703232</td>\n",
              "      <td>N</td>\n",
              "      <td>@mendescodes @heroinseb enserio cuando habéis ...</td>\n",
              "      <td>enserio dicho froot loops malos dolido</td>\n",
              "    </tr>\n",
              "    <tr>\n",
              "      <th>15</th>\n",
              "      <td>768229223769202689</td>\n",
              "      <td>P</td>\n",
              "      <td>@Sakura_Abril Ow  Bueno, no pasa nada, cuando ...</td>\n",
              "      <td>ow bueno pasa puedas confirmarlo aquí cara fel...</td>\n",
              "    </tr>\n",
              "  </tbody>\n",
              "</table>\n",
              "</div>\n",
              "      <button class=\"colab-df-convert\" onclick=\"convertToInteractive('df-e64ec90c-328f-4b25-a353-bdf253ea7e64')\"\n",
              "              title=\"Convert this dataframe to an interactive table.\"\n",
              "              style=\"display:none;\">\n",
              "\n",
              "  <svg xmlns=\"http://www.w3.org/2000/svg\" height=\"24px\"viewBox=\"0 0 24 24\"\n",
              "       width=\"24px\">\n",
              "    <path d=\"M0 0h24v24H0V0z\" fill=\"none\"/>\n",
              "    <path d=\"M18.56 5.44l.94 2.06.94-2.06 2.06-.94-2.06-.94-.94-2.06-.94 2.06-2.06.94zm-11 1L8.5 8.5l.94-2.06 2.06-.94-2.06-.94L8.5 2.5l-.94 2.06-2.06.94zm10 10l.94 2.06.94-2.06 2.06-.94-2.06-.94-.94-2.06-.94 2.06-2.06.94z\"/><path d=\"M17.41 7.96l-1.37-1.37c-.4-.4-.92-.59-1.43-.59-.52 0-1.04.2-1.43.59L10.3 9.45l-7.72 7.72c-.78.78-.78 2.05 0 2.83L4 21.41c.39.39.9.59 1.41.59.51 0 1.02-.2 1.41-.59l7.78-7.78 2.81-2.81c.8-.78.8-2.07 0-2.86zM5.41 20L4 18.59l7.72-7.72 1.47 1.35L5.41 20z\"/>\n",
              "  </svg>\n",
              "      </button>\n",
              "\n",
              "\n",
              "\n",
              "    <div id=\"df-68f42ab2-a40f-4ff6-8b22-eb418c863cb3\">\n",
              "      <button class=\"colab-df-quickchart\" onclick=\"quickchart('df-68f42ab2-a40f-4ff6-8b22-eb418c863cb3')\"\n",
              "              title=\"Suggest charts.\"\n",
              "              style=\"display:none;\">\n",
              "\n",
              "<svg xmlns=\"http://www.w3.org/2000/svg\" height=\"24px\"viewBox=\"0 0 24 24\"\n",
              "     width=\"24px\">\n",
              "    <g>\n",
              "        <path d=\"M19 3H5c-1.1 0-2 .9-2 2v14c0 1.1.9 2 2 2h14c1.1 0 2-.9 2-2V5c0-1.1-.9-2-2-2zM9 17H7v-7h2v7zm4 0h-2V7h2v10zm4 0h-2v-4h2v4z\"/>\n",
              "    </g>\n",
              "</svg>\n",
              "      </button>\n",
              "    </div>\n",
              "\n",
              "<style>\n",
              "  .colab-df-quickchart {\n",
              "    background-color: #E8F0FE;\n",
              "    border: none;\n",
              "    border-radius: 50%;\n",
              "    cursor: pointer;\n",
              "    display: none;\n",
              "    fill: #1967D2;\n",
              "    height: 32px;\n",
              "    padding: 0 0 0 0;\n",
              "    width: 32px;\n",
              "  }\n",
              "\n",
              "  .colab-df-quickchart:hover {\n",
              "    background-color: #E2EBFA;\n",
              "    box-shadow: 0px 1px 2px rgba(60, 64, 67, 0.3), 0px 1px 3px 1px rgba(60, 64, 67, 0.15);\n",
              "    fill: #174EA6;\n",
              "  }\n",
              "\n",
              "  [theme=dark] .colab-df-quickchart {\n",
              "    background-color: #3B4455;\n",
              "    fill: #D2E3FC;\n",
              "  }\n",
              "\n",
              "  [theme=dark] .colab-df-quickchart:hover {\n",
              "    background-color: #434B5C;\n",
              "    box-shadow: 0px 1px 3px 1px rgba(0, 0, 0, 0.15);\n",
              "    filter: drop-shadow(0px 1px 2px rgba(0, 0, 0, 0.3));\n",
              "    fill: #FFFFFF;\n",
              "  }\n",
              "</style>\n",
              "\n",
              "    <script>\n",
              "      async function quickchart(key) {\n",
              "        const containerElement = document.querySelector('#' + key);\n",
              "        const charts = await google.colab.kernel.invokeFunction(\n",
              "            'suggestCharts', [key], {});\n",
              "      }\n",
              "    </script>\n",
              "\n",
              "      <script>\n",
              "\n",
              "function displayQuickchartButton(domScope) {\n",
              "  let quickchartButtonEl =\n",
              "    domScope.querySelector('#df-68f42ab2-a40f-4ff6-8b22-eb418c863cb3 button.colab-df-quickchart');\n",
              "  quickchartButtonEl.style.display =\n",
              "    google.colab.kernel.accessAllowed ? 'block' : 'none';\n",
              "}\n",
              "\n",
              "        displayQuickchartButton(document);\n",
              "      </script>\n",
              "      <style>\n",
              "    .colab-df-container {\n",
              "      display:flex;\n",
              "      flex-wrap:wrap;\n",
              "      gap: 12px;\n",
              "    }\n",
              "\n",
              "    .colab-df-convert {\n",
              "      background-color: #E8F0FE;\n",
              "      border: none;\n",
              "      border-radius: 50%;\n",
              "      cursor: pointer;\n",
              "      display: none;\n",
              "      fill: #1967D2;\n",
              "      height: 32px;\n",
              "      padding: 0 0 0 0;\n",
              "      width: 32px;\n",
              "    }\n",
              "\n",
              "    .colab-df-convert:hover {\n",
              "      background-color: #E2EBFA;\n",
              "      box-shadow: 0px 1px 2px rgba(60, 64, 67, 0.3), 0px 1px 3px 1px rgba(60, 64, 67, 0.15);\n",
              "      fill: #174EA6;\n",
              "    }\n",
              "\n",
              "    [theme=dark] .colab-df-convert {\n",
              "      background-color: #3B4455;\n",
              "      fill: #D2E3FC;\n",
              "    }\n",
              "\n",
              "    [theme=dark] .colab-df-convert:hover {\n",
              "      background-color: #434B5C;\n",
              "      box-shadow: 0px 1px 3px 1px rgba(0, 0, 0, 0.15);\n",
              "      filter: drop-shadow(0px 1px 2px rgba(0, 0, 0, 0.3));\n",
              "      fill: #FFFFFF;\n",
              "    }\n",
              "  </style>\n",
              "\n",
              "      <script>\n",
              "        const buttonEl =\n",
              "          document.querySelector('#df-e64ec90c-328f-4b25-a353-bdf253ea7e64 button.colab-df-convert');\n",
              "        buttonEl.style.display =\n",
              "          google.colab.kernel.accessAllowed ? 'block' : 'none';\n",
              "\n",
              "        async function convertToInteractive(key) {\n",
              "          const element = document.querySelector('#df-e64ec90c-328f-4b25-a353-bdf253ea7e64');\n",
              "          const dataTable =\n",
              "            await google.colab.kernel.invokeFunction('convertToInteractive',\n",
              "                                                     [key], {});\n",
              "          if (!dataTable) return;\n",
              "\n",
              "          const docLinkHtml = 'Like what you see? Visit the ' +\n",
              "            '<a target=\"_blank\" href=https://colab.research.google.com/notebooks/data_table.ipynb>data table notebook</a>'\n",
              "            + ' to learn more about interactive tables.';\n",
              "          element.innerHTML = '';\n",
              "          dataTable['output_type'] = 'display_data';\n",
              "          await google.colab.output.renderOutput(dataTable, element);\n",
              "          const docLink = document.createElement('div');\n",
              "          docLink.innerHTML = docLinkHtml;\n",
              "          element.appendChild(docLink);\n",
              "        }\n",
              "      </script>\n",
              "    </div>\n",
              "  </div>\n"
            ]
          },
          "metadata": {},
          "execution_count": 7
        }
      ]
    },
    {
      "cell_type": "code",
      "source": [
        "# Obtener los valores únicos de la columna 'col1'\n",
        "clases = df_train_tweets['Sentimiento'].unique()\n",
        "\n",
        "# Imprimir los valores únicos\n",
        "print(clases)"
      ],
      "metadata": {
        "colab": {
          "base_uri": "https://localhost:8080/"
        },
        "id": "Q_WGEUa2_JP0",
        "outputId": "13574fc3-86e4-4c23-9abd-91da192a288d"
      },
      "execution_count": 8,
      "outputs": [
        {
          "output_type": "stream",
          "name": "stdout",
          "text": [
            "['NONE' 'N' 'P' 'NEU']\n"
          ]
        }
      ]
    },
    {
      "cell_type": "markdown",
      "source": [
        "Vamos a crear un tokenizador sencillo"
      ],
      "metadata": {
        "id": "dbaIUPSjwQuN"
      }
    },
    {
      "cell_type": "code",
      "source": [
        "tknzr = TweetTokenizer(reduce_len=True, preserve_case=False)"
      ],
      "metadata": {
        "id": "bjjyDre-QO3h"
      },
      "execution_count": 9,
      "outputs": []
    },
    {
      "cell_type": "code",
      "source": [
        "#vec = TfidfVectorizer(tokenizer=tknzr.tokenize, analyzer=\"char\", ngram_range=(2, 4), max_features=10000)\n",
        "vec = CountVectorizer(tokenizer=tknzr.tokenize)\n",
        "#vec = CountVectorizer(tokenizer=tknzr.tokenize, analyzer=\"char\", ngram_range=(2, 4), max_features=10000)\n",
        "X = vec.fit_transform(df_train_tweets['Tweet_Procesado'])\n",
        "y = df_train_tweets['Sentimiento']"
      ],
      "metadata": {
        "colab": {
          "base_uri": "https://localhost:8080/"
        },
        "id": "ZMehDHNttd4n",
        "outputId": "e3e267ca-8f8b-490f-cd98-6e8deb15ee93"
      },
      "execution_count": 10,
      "outputs": [
        {
          "output_type": "stream",
          "name": "stderr",
          "text": [
            "/usr/local/lib/python3.10/dist-packages/sklearn/feature_extraction/text.py:528: UserWarning: The parameter 'token_pattern' will not be used since 'tokenizer' is not None'\n",
            "  warnings.warn(\n"
          ]
        }
      ]
    },
    {
      "cell_type": "markdown",
      "source": [
        "## 3 - Entrenamos y Evaluamos el modelo"
      ],
      "metadata": {
        "id": "Rd2w_pau0yUO"
      }
    },
    {
      "cell_type": "markdown",
      "source": [
        "## Regresión Logistica"
      ],
      "metadata": {
        "id": "6Zd0c58D-Yik"
      }
    },
    {
      "cell_type": "code",
      "source": [
        "X_train, X_test, y_train, y_test = train_test_split(X, y, test_size=0.3, random_state=123)"
      ],
      "metadata": {
        "id": "FNhnHJ8x0FNH"
      },
      "execution_count": 11,
      "outputs": []
    },
    {
      "cell_type": "code",
      "source": [
        "# Entrenar modelo\n",
        "#modelo = RandomForestClassifier() #accuracy=0.49834983498349833 // accuracy_icons=0.46864686468646866\n",
        "modelo = LogisticRegression(max_iter=1000,solver='newton-cholesky') #accuracy=0.504950495049505 // accuracy_icons=0.5115511551155115\n",
        "#modelo = SVC(C=5,kernel='rbf') #accuracy=0.49174917491749176 // accuracy_icons=0.49504950495049505\n",
        "#modelo = KNeighborsClassifier(n_neighbors=5)#accuracy=0.3432343234323432 // accuracy_icons=0.36633663366336633\n",
        "modelo.fit(X_train, y_train)\n",
        "# Predecir test\n",
        "y_prediction = modelo.predict(X_test)"
      ],
      "metadata": {
        "id": "hki6UzCw0VCL"
      },
      "execution_count": 12,
      "outputs": []
    },
    {
      "cell_type": "code",
      "source": [
        "accuracy = accuracy_score(y_test, y_prediction)"
      ],
      "metadata": {
        "id": "xgykWkp24YC4"
      },
      "execution_count": 13,
      "outputs": []
    },
    {
      "cell_type": "code",
      "source": [
        "# Imprimir la precisión\n",
        "print(\"Precisión: \", accuracy)"
      ],
      "metadata": {
        "colab": {
          "base_uri": "https://localhost:8080/"
        },
        "id": "U3rf710f4hDB",
        "outputId": "6bddb1bb-f2d9-4f18-aaa5-80f05029715e"
      },
      "execution_count": 14,
      "outputs": [
        {
          "output_type": "stream",
          "name": "stdout",
          "text": [
            "Precisión:  0.5115511551155115\n"
          ]
        }
      ]
    },
    {
      "cell_type": "code",
      "source": [
        "# Obtener la matriz de confusión\n",
        "#cm = confusion_matrix(y_test, y_prediction)\n",
        "cm = metrics.confusion_matrix(y_test, y_prediction, labels=clases)\n",
        "disp = metrics.ConfusionMatrixDisplay(confusion_matrix=cm,display_labels=clases)\n",
        "# Imprimir la matriz de confusión\n",
        "print(\"Metricas:\")\n",
        "print(metrics.classification_report(y_test, y_prediction))\n",
        "print(\"Matriz de Confusión:\")\n",
        "disp.plot()\n",
        "plt.show()"
      ],
      "metadata": {
        "colab": {
          "base_uri": "https://localhost:8080/",
          "height": 679
        },
        "id": "87rbS7AR9eY3",
        "outputId": "701f466e-9893-4ccd-88f3-d10ae0872746"
      },
      "execution_count": 15,
      "outputs": [
        {
          "output_type": "stream",
          "name": "stdout",
          "text": [
            "Metricas:\n",
            "              precision    recall  f1-score   support\n",
            "\n",
            "           N       0.54      0.79      0.64       134\n",
            "         NEU       0.00      0.00      0.00        43\n",
            "        NONE       0.40      0.11      0.17        37\n",
            "           P       0.50      0.51      0.50        89\n",
            "\n",
            "    accuracy                           0.51       303\n",
            "   macro avg       0.36      0.35      0.33       303\n",
            "weighted avg       0.43      0.51      0.45       303\n",
            "\n",
            "Matriz de Confusión:\n"
          ]
        },
        {
          "output_type": "display_data",
          "data": {
            "text/plain": [
              "<Figure size 640x480 with 2 Axes>"
            ],
            "image/png": "[encoded data removed]"
          },
          "metadata": {}
        }
      ]
    },
    {
      "cell_type": "markdown",
      "source": [
        "## Random Forest"
      ],
      "metadata": {
        "id": "20e9uIX7-f0Z"
      }
    },
    {
      "cell_type": "code",
      "source": [
        "X_train2, X_test2, y_train2, y_test2 = train_test_split(X, y, test_size=0.3, random_state=123)"
      ],
      "metadata": {
        "id": "yhnl7o9F0lKh"
      },
      "execution_count": 16,
      "outputs": []
    },
    {
      "cell_type": "code",
      "source": [
        "# Entrenar modelo\n",
        "rfc = RandomForestClassifier(random_state=2)\n",
        "\n",
        "# Definir los parámetros a explorar en el grid search\n",
        "param_grid = {\n",
        "    'n_estimators': [50, 100],  # número de árboles\n",
        "    'max_depth': [None, 5, 10]  # profundidad máxima del árbol\n",
        "}\n",
        "\n",
        "# GridSearchCV\n",
        "grid_search = GridSearchCV(\n",
        "                            estimator  = rfc,\n",
        "                            param_grid = param_grid,\n",
        "                            cv         = 5)#,\n",
        "                            #scoring    = 'f1_macro') # le damos igual peso a todas las clases\n",
        "\n",
        "grid_search.fit(X_train2, y_train2)\n",
        "\n",
        "# Guardamos los resultados del grid\n",
        "results = grid_search.cv_results_\n",
        "\n",
        "# Mejor modelo obtenido\n",
        "best_model = grid_search.best_estimator_\n",
        "\n",
        "# Predecir en el conjunto de desarrollo utilizando el mejor modelo\n",
        "y_prediction2 = best_model.predict(X_test2)\n",
        "\n",
        "# Evaluar\n",
        "accuracy2 = accuracy_score(y_test2, y_prediction2)\n",
        "# Imprimir la precisión\n",
        "print(\"Precisión: \", accuracy2)\n",
        "\n",
        "# Obtener la matriz de confusión\n",
        "#cm = confusion_matrix(y_test, y_prediction)\n",
        "cm2 = metrics.confusion_matrix(y_test2, y_prediction2, labels=clases)\n",
        "disp2 = metrics.ConfusionMatrixDisplay(confusion_matrix=cm2,display_labels=clases)\n",
        "# Imprimir la matriz de confusión\n",
        "print(\"Metricas:\")\n",
        "print(metrics.classification_report(y_test2, y_prediction2))\n",
        "print(\"Matriz de Confusión:\")\n",
        "disp2.plot()\n",
        "plt.show()"
      ],
      "metadata": {
        "colab": {
          "base_uri": "https://localhost:8080/",
          "height": 697
        },
        "id": "Abm1XeLU0RoQ",
        "outputId": "3f627424-3d79-4c19-a71f-7f87d1b95a68"
      },
      "execution_count": 17,
      "outputs": [
        {
          "output_type": "stream",
          "name": "stdout",
          "text": [
            "Precisión:  0.49174917491749176\n",
            "Metricas:\n",
            "              precision    recall  f1-score   support\n",
            "\n",
            "           N       0.49      0.89      0.63       134\n",
            "         NEU       0.00      0.00      0.00        43\n",
            "        NONE       0.08      0.03      0.04        37\n",
            "           P       0.66      0.33      0.44        89\n",
            "\n",
            "    accuracy                           0.49       303\n",
            "   macro avg       0.31      0.31      0.28       303\n",
            "weighted avg       0.42      0.49      0.41       303\n",
            "\n",
            "Matriz de Confusión:\n"
          ]
        },
        {
          "output_type": "display_data",
          "data": {
            "text/plain": [
              "<Figure size 640x480 with 2 Axes>"
            ],
            "image/png": "[encoded data removed]"
          },
          "metadata": {}
        }
      ]
    },
    {
      "cell_type": "markdown",
      "source": [
        "## Support Vector Machine"
      ],
      "metadata": {
        "id": "r_5jC9T9-mU5"
      }
    },
    {
      "cell_type": "code",
      "source": [
        "X_train3, X_test3, y_train3, y_test3 = train_test_split(X, y, test_size=0.3, random_state=123)"
      ],
      "metadata": {
        "id": "Ogp8FUUI_mJs"
      },
      "execution_count": 18,
      "outputs": []
    },
    {
      "cell_type": "code",
      "source": [
        "# Definir los parámetros a probar en la búsqueda de cuadrícula\n",
        "param_grid = {'C': [0.1, 1, 10],\n",
        "              'gamma': [0.001, 0.01, 0.1],\n",
        "              'kernel': ['linear', 'rbf']}\n",
        "\n",
        "# Crear un clasificador SVM\n",
        "model_svm_base = SVC()\n",
        "\n",
        "# Crear el objeto GridSearchCV\n",
        "grid_search = GridSearchCV(model_svm_base, param_grid, cv=5, scoring = 'f1_macro')\n",
        "\n",
        "# Ajustar el modelo con GridSearchCV\n",
        "grid_search.fit(X_train3, y_train3)\n",
        "\n",
        "# Obtener el mejor modelo encontrado\n",
        "model_svm_tunned = grid_search.best_estimator_\n",
        "\n",
        "# Imprimir los mejores parámetros encontrados\n",
        "print(\"Mejores parámetros encontrados:\")\n",
        "print(grid_search.best_params_)\n",
        "\n",
        "# Ajustar el mejor modelo con los datos de entrenamiento\n",
        "model_svm_tunned.fit(X_train3, y_train3)\n",
        "# Predecir en el conjunto de desarrollo utilizando el mejor modelo\n",
        "y_prediction3 = best_model.predict(X_test3)\n",
        "# Evaluar\n",
        "accuracy2 = accuracy_score(y_test3, y_prediction3)\n",
        "# Imprimir la precisión\n",
        "print(\"Precisión: \", accuracy2)\n",
        "# Obtener la matriz de confusión\n",
        "#cm = confusion_matrix(y_test, y_prediction)\n",
        "cm3 = metrics.confusion_matrix(y_test3, y_prediction3, labels=clases)\n",
        "disp3 = metrics.ConfusionMatrixDisplay(confusion_matrix=cm3,display_labels=clases)\n",
        "# Imprimir la matriz de confusión\n",
        "print(\"Metricas:\")\n",
        "print(metrics.classification_report(y_test3, y_prediction3))\n",
        "print(\"Matriz de Confusión:\")\n",
        "disp3.plot()\n",
        "plt.show()"
      ],
      "metadata": {
        "colab": {
          "base_uri": "https://localhost:8080/",
          "height": 733
        },
        "id": "qN9F_YRr-qJp",
        "outputId": "324ebb52-8f80-4eff-cd4d-c483a5cdf114"
      },
      "execution_count": 19,
      "outputs": [
        {
          "output_type": "stream",
          "name": "stdout",
          "text": [
            "Mejores parámetros encontrados:\n",
            "{'C': 10, 'gamma': 0.001, 'kernel': 'linear'}\n",
            "Precisión:  0.49174917491749176\n",
            "Metricas:\n",
            "              precision    recall  f1-score   support\n",
            "\n",
            "           N       0.49      0.89      0.63       134\n",
            "         NEU       0.00      0.00      0.00        43\n",
            "        NONE       0.08      0.03      0.04        37\n",
            "           P       0.66      0.33      0.44        89\n",
            "\n",
            "    accuracy                           0.49       303\n",
            "   macro avg       0.31      0.31      0.28       303\n",
            "weighted avg       0.42      0.49      0.41       303\n",
            "\n",
            "Matriz de Confusión:\n"
          ]
        },
        {
          "output_type": "display_data",
          "data": {
            "text/plain": [
              "<Figure size 640x480 with 2 Axes>"
            ],
            "image/png": "[encoded data removed]"
          },
          "metadata": {}
        }
      ]
    },
    {
      "cell_type": "markdown",
      "source": [
        "## Aprendizaje no supervisado:"
      ],
      "metadata": {
        "id": "-ithY5d-TcwE"
      }
    },
    {
      "cell_type": "code",
      "source": [
        "def load_dic(filename):\n",
        "    d = {}\n",
        "    for line in open(filename):\n",
        "        clean = line.strip()\n",
        "        if len(clean) > 0 and clean[0] != '#':\n",
        "            palabra, pol = clean.split()\n",
        "            d[palabra] = pol\n",
        "    return d"
      ],
      "metadata": {
        "id": "VYzf6zxRUiOt"
      },
      "execution_count": 20,
      "outputs": []
    },
    {
      "cell_type": "code",
      "source": [
        "polarity_dic = load_dic(\"/content/drive/MyDrive/PLN-2022-2023/VIERNES/corpus/ElhPolar_esV1.lex\")"
      ],
      "metadata": {
        "id": "8N_-6d1vUWk3"
      },
      "execution_count": 21,
      "outputs": []
    },
    {
      "cell_type": "code",
      "source": [
        "def aprendizaje_NS(tweets):\n",
        "  prediction = []\n",
        "  for tweet in tweets:\n",
        "      pos = neg = 0\n",
        "      for word in tknzr.tokenize(tweet):\n",
        "          if word in polarity_dic:\n",
        "              if polarity_dic[word] == \"positive\":\n",
        "                  pos += 1\n",
        "              else:\n",
        "                  neg += 1\n",
        "      label = \"NONE\"\n",
        "      if pos > neg:\n",
        "          label = \"P\"\n",
        "      elif neg > pos:\n",
        "          label = \"N\"\n",
        "      prediction.append(label)\n",
        "  return prediction"
      ],
      "metadata": {
        "id": "gScsgGW8TbyN"
      },
      "execution_count": 22,
      "outputs": []
    },
    {
      "cell_type": "code",
      "source": [
        "y_testNS = df_train_tweets['Sentimiento']"
      ],
      "metadata": {
        "id": "4LWs_VG9V1rf"
      },
      "execution_count": 23,
      "outputs": []
    },
    {
      "cell_type": "code",
      "source": [
        "y_predictionNS = aprendizaje_NS(df_train_tweets['Tweet_Procesado'])"
      ],
      "metadata": {
        "id": "TyHBZtA7UAOV"
      },
      "execution_count": 24,
      "outputs": []
    },
    {
      "cell_type": "code",
      "source": [
        "accuracy = accuracy_score(y_testNS, y_predictionNS)"
      ],
      "metadata": {
        "id": "aa_c_VlHVMPH"
      },
      "execution_count": 25,
      "outputs": []
    },
    {
      "cell_type": "code",
      "source": [
        "# Imprimir la precisión\n",
        "print(\"Precisión: \", accuracy)"
      ],
      "metadata": {
        "colab": {
          "base_uri": "https://localhost:8080/"
        },
        "id": "kufNnV87XAi_",
        "outputId": "c864bd25-33cd-41e6-fa42-9730634b294f"
      },
      "execution_count": 26,
      "outputs": [
        {
          "output_type": "stream",
          "name": "stdout",
          "text": [
            "Precisión:  0.40476190476190477\n"
          ]
        }
      ]
    },
    {
      "cell_type": "code",
      "source": [
        "# Obtener la matriz de confusión\n",
        "#cm = confusion_matrix(y_test, y_prediction)\n",
        "cm = metrics.confusion_matrix(y_testNS, y_predictionNS, labels=clases)\n",
        "disp = metrics.ConfusionMatrixDisplay(confusion_matrix=cm,display_labels=clases)\n",
        "# Imprimir la matriz de confusión\n",
        "print(\"Metricas:\")\n",
        "print(metrics.classification_report(y_testNS, y_predictionNS))\n",
        "print(\"Matriz de Confusión:\")\n",
        "disp.plot()\n",
        "plt.show()"
      ],
      "metadata": {
        "colab": {
          "base_uri": "https://localhost:8080/",
          "height": 806
        },
        "id": "8us0BfyCXOZP",
        "outputId": "47cfa076-5fac-4041-f41b-5eb84a444ef7"
      },
      "execution_count": 27,
      "outputs": [
        {
          "output_type": "stream",
          "name": "stdout",
          "text": [
            "Metricas:\n",
            "              precision    recall  f1-score   support\n",
            "\n",
            "           N       0.68      0.28      0.40       418\n",
            "         NEU       0.00      0.00      0.00       133\n",
            "        NONE       0.17      0.53      0.26       139\n",
            "           P       0.52      0.68      0.59       318\n",
            "\n",
            "    accuracy                           0.40      1008\n",
            "   macro avg       0.34      0.37      0.31      1008\n",
            "weighted avg       0.47      0.40      0.39      1008\n",
            "\n",
            "Matriz de Confusión:\n"
          ]
        },
        {
          "output_type": "stream",
          "name": "stderr",
          "text": [
            "/usr/local/lib/python3.10/dist-packages/sklearn/metrics/_classification.py:1344: UndefinedMetricWarning: Precision and F-score are ill-defined and being set to 0.0 in labels with no predicted samples. Use `zero_division` parameter to control this behavior.\n",
            "  _warn_prf(average, modifier, msg_start, len(result))\n",
            "/usr/local/lib/python3.10/dist-packages/sklearn/metrics/_classification.py:1344: UndefinedMetricWarning: Precision and F-score are ill-defined and being set to 0.0 in labels with no predicted samples. Use `zero_division` parameter to control this behavior.\n",
            "  _warn_prf(average, modifier, msg_start, len(result))\n",
            "/usr/local/lib/python3.10/dist-packages/sklearn/metrics/_classification.py:1344: UndefinedMetricWarning: Precision and F-score are ill-defined and being set to 0.0 in labels with no predicted samples. Use `zero_division` parameter to control this behavior.\n",
            "  _warn_prf(average, modifier, msg_start, len(result))\n"
          ]
        },
        {
          "output_type": "display_data",
          "data": {
            "text/plain": [
              "<Figure size 640x480 with 2 Axes>"
            ],
            "image/png": "[encoded data removed]"
          },
          "metadata": {}
        }
      ]
    },
    {
      "cell_type": "markdown",
      "source": [
        "# 4 - Entrenamiento con el mejor modelo y resultados"
      ],
      "metadata": {
        "id": "rQjtiS-_BLHf"
      }
    },
    {
      "cell_type": "markdown",
      "source": [
        "### Preprocesamos el test"
      ],
      "metadata": {
        "id": "fqRDnWVyX5xU"
      }
    },
    {
      "cell_type": "code",
      "source": [
        "df_test_tweets['Tweet_Procesado'] = df_test_tweets['Texto'].apply(preprocess_tweet)"
      ],
      "metadata": {
        "id": "zFyOLSPLXljo"
      },
      "execution_count": 28,
      "outputs": []
    },
    {
      "cell_type": "code",
      "source": [
        "df_test_tweets"
      ],
      "metadata": {
        "colab": {
          "base_uri": "https://localhost:8080/",
          "height": 467
        },
        "id": "AUIMQY3D0efW",
        "outputId": "05f3c037-75ad-4d25-c126-79966ccb35c1"
      },
      "execution_count": 29,
      "outputs": [
        {
          "output_type": "execute_result",
          "data": {
            "text/plain": [
              "                      Id Sentimiento  \\\n",
              "0     770567971701940224         UNK   \n",
              "1     770503386789711872         UNK   \n",
              "2     770502863017635840         UNK   \n",
              "3     770599972102348800         UNK   \n",
              "4     770599962216390656         UNK   \n",
              "...                  ...         ...   \n",
              "1894  783252629644247040         UNK   \n",
              "1895  780350213345214465         UNK   \n",
              "1896  780515334956646400         UNK   \n",
              "1897  780540843346231300         UNK   \n",
              "1898  780682485315334144         UNK   \n",
              "\n",
              "                                                  Texto  \\\n",
              "0     @LonelySoad mientras que no te pillen la prime...   \n",
              "1     @ceemeese ya era hora de volver al csgo y deja...   \n",
              "2     @mireiaescribano justo cuando se terminan las ...   \n",
              "3     @LuisMartinez22_ pensba q iba a hacer @wxplosi...   \n",
              "4     @Vic_Phantomhive Si lo encuentro, sin compañer...   \n",
              "...                                                 ...   \n",
              "1894            @Bammz87 ya eres bueno a esto o qué? \\n   \n",
              "1895  @Radinosaurio  yo soy asi con mis amigos pero ...   \n",
              "1896              @ElTerral somos más felices sin ti \\n   \n",
              "1897                   Que agobio tío que mala estoy \\n   \n",
              "1898  Y eso es triste la vdd. Por vosotros, no por m...   \n",
              "\n",
              "                                      Tweet_Procesado  \n",
              "0         mientras pillen primera semana nariz payaso  \n",
              "1           hora volver csgo dejares padel bienvenida  \n",
              "2          justo terminan fiestas verano viene genial  \n",
              "3        pensba q iba hacer reflexion profunda q hace  \n",
              "4     si encuentro compañeros barato iría ahora mismo  \n",
              "...                                               ...  \n",
              "1894                                            bueno  \n",
              "1895                                   asi amigos así  \n",
              "1896                                          felices  \n",
              "1897                                  agobio tío mala  \n",
              "1898                                       triste vdd  \n",
              "\n",
              "[1899 rows x 4 columns]"
            ],
            "text/html": [
              "\n",
              "\n",
              "  <div id=\"df-4a34b017-a81b-469c-b848-1fff1beda308\">\n",
              "    <div class=\"colab-df-container\">\n",
              "      <div>\n",
              "<style scoped>\n",
              "    .dataframe tbody tr th:only-of-type {\n",
              "        vertical-align: middle;\n",
              "    }\n",
              "\n",
              "    .dataframe tbody tr th {\n",
              "        vertical-align: top;\n",
              "    }\n",
              "\n",
              "    .dataframe thead th {\n",
              "        text-align: right;\n",
              "    }\n",
              "</style>\n",
              "<table border=\"1\" class=\"dataframe\">\n",
              "  <thead>\n",
              "    <tr style=\"text-align: right;\">\n",
              "      <th></th>\n",
              "      <th>Id</th>\n",
              "      <th>Sentimiento</th>\n",
              "      <th>Texto</th>\n",
              "      <th>Tweet_Procesado</th>\n",
              "    </tr>\n",
              "  </thead>\n",
              "  <tbody>\n",
              "    <tr>\n",
              "      <th>0</th>\n",
              "      <td>770567971701940224</td>\n",
              "      <td>UNK</td>\n",
              "      <td>@LonelySoad mientras que no te pillen la prime...</td>\n",
              "      <td>mientras pillen primera semana nariz payaso</td>\n",
              "    </tr>\n",
              "    <tr>\n",
              "      <th>1</th>\n",
              "      <td>770503386789711872</td>\n",
              "      <td>UNK</td>\n",
              "      <td>@ceemeese ya era hora de volver al csgo y deja...</td>\n",
              "      <td>hora volver csgo dejares padel bienvenida</td>\n",
              "    </tr>\n",
              "    <tr>\n",
              "      <th>2</th>\n",
              "      <td>770502863017635840</td>\n",
              "      <td>UNK</td>\n",
              "      <td>@mireiaescribano justo cuando se terminan las ...</td>\n",
              "      <td>justo terminan fiestas verano viene genial</td>\n",
              "    </tr>\n",
              "    <tr>\n",
              "      <th>3</th>\n",
              "      <td>770599972102348800</td>\n",
              "      <td>UNK</td>\n",
              "      <td>@LuisMartinez22_ pensba q iba a hacer @wxplosi...</td>\n",
              "      <td>pensba q iba hacer reflexion profunda q hace</td>\n",
              "    </tr>\n",
              "    <tr>\n",
              "      <th>4</th>\n",
              "      <td>770599962216390656</td>\n",
              "      <td>UNK</td>\n",
              "      <td>@Vic_Phantomhive Si lo encuentro, sin compañer...</td>\n",
              "      <td>si encuentro compañeros barato iría ahora mismo</td>\n",
              "    </tr>\n",
              "    <tr>\n",
              "      <th>...</th>\n",
              "      <td>...</td>\n",
              "      <td>...</td>\n",
              "      <td>...</td>\n",
              "      <td>...</td>\n",
              "    </tr>\n",
              "    <tr>\n",
              "      <th>1894</th>\n",
              "      <td>783252629644247040</td>\n",
              "      <td>UNK</td>\n",
              "      <td>@Bammz87 ya eres bueno a esto o qué? \\n</td>\n",
              "      <td>bueno</td>\n",
              "    </tr>\n",
              "    <tr>\n",
              "      <th>1895</th>\n",
              "      <td>780350213345214465</td>\n",
              "      <td>UNK</td>\n",
              "      <td>@Radinosaurio  yo soy asi con mis amigos pero ...</td>\n",
              "      <td>asi amigos así</td>\n",
              "    </tr>\n",
              "    <tr>\n",
              "      <th>1896</th>\n",
              "      <td>780515334956646400</td>\n",
              "      <td>UNK</td>\n",
              "      <td>@ElTerral somos más felices sin ti \\n</td>\n",
              "      <td>felices</td>\n",
              "    </tr>\n",
              "    <tr>\n",
              "      <th>1897</th>\n",
              "      <td>780540843346231300</td>\n",
              "      <td>UNK</td>\n",
              "      <td>Que agobio tío que mala estoy \\n</td>\n",
              "      <td>agobio tío mala</td>\n",
              "    </tr>\n",
              "    <tr>\n",
              "      <th>1898</th>\n",
              "      <td>780682485315334144</td>\n",
              "      <td>UNK</td>\n",
              "      <td>Y eso es triste la vdd. Por vosotros, no por m...</td>\n",
              "      <td>triste vdd</td>\n",
              "    </tr>\n",
              "  </tbody>\n",
              "</table>\n",
              "<p>1899 rows × 4 columns</p>\n",
              "</div>\n",
              "      <button class=\"colab-df-convert\" onclick=\"convertToInteractive('df-4a34b017-a81b-469c-b848-1fff1beda308')\"\n",
              "              title=\"Convert this dataframe to an interactive table.\"\n",
              "              style=\"display:none;\">\n",
              "\n",
              "  <svg xmlns=\"http://www.w3.org/2000/svg\" height=\"24px\"viewBox=\"0 0 24 24\"\n",
              "       width=\"24px\">\n",
              "    <path d=\"M0 0h24v24H0V0z\" fill=\"none\"/>\n",
              "    <path d=\"M18.56 5.44l.94 2.06.94-2.06 2.06-.94-2.06-.94-.94-2.06-.94 2.06-2.06.94zm-11 1L8.5 8.5l.94-2.06 2.06-.94-2.06-.94L8.5 2.5l-.94 2.06-2.06.94zm10 10l.94 2.06.94-2.06 2.06-.94-2.06-.94-.94-2.06-.94 2.06-2.06.94z\"/><path d=\"M17.41 7.96l-1.37-1.37c-.4-.4-.92-.59-1.43-.59-.52 0-1.04.2-1.43.59L10.3 9.45l-7.72 7.72c-.78.78-.78 2.05 0 2.83L4 21.41c.39.39.9.59 1.41.59.51 0 1.02-.2 1.41-.59l7.78-7.78 2.81-2.81c.8-.78.8-2.07 0-2.86zM5.41 20L4 18.59l7.72-7.72 1.47 1.35L5.41 20z\"/>\n",
              "  </svg>\n",
              "      </button>\n",
              "\n",
              "\n",
              "\n",
              "    <div id=\"df-afa07f4c-69f6-49e4-80ec-8111c472460e\">\n",
              "      <button class=\"colab-df-quickchart\" onclick=\"quickchart('df-afa07f4c-69f6-49e4-80ec-8111c472460e')\"\n",
              "              title=\"Suggest charts.\"\n",
              "              style=\"display:none;\">\n",
              "\n",
              "<svg xmlns=\"http://www.w3.org/2000/svg\" height=\"24px\"viewBox=\"0 0 24 24\"\n",
              "     width=\"24px\">\n",
              "    <g>\n",
              "        <path d=\"M19 3H5c-1.1 0-2 .9-2 2v14c0 1.1.9 2 2 2h14c1.1 0 2-.9 2-2V5c0-1.1-.9-2-2-2zM9 17H7v-7h2v7zm4 0h-2V7h2v10zm4 0h-2v-4h2v4z\"/>\n",
              "    </g>\n",
              "</svg>\n",
              "      </button>\n",
              "    </div>\n",
              "\n",
              "<style>\n",
              "  .colab-df-quickchart {\n",
              "    background-color: #E8F0FE;\n",
              "    border: none;\n",
              "    border-radius: 50%;\n",
              "    cursor: pointer;\n",
              "    display: none;\n",
              "    fill: #1967D2;\n",
              "    height: 32px;\n",
              "    padding: 0 0 0 0;\n",
              "    width: 32px;\n",
              "  }\n",
              "\n",
              "  .colab-df-quickchart:hover {\n",
              "    background-color: #E2EBFA;\n",
              "    box-shadow: 0px 1px 2px rgba(60, 64, 67, 0.3), 0px 1px 3px 1px rgba(60, 64, 67, 0.15);\n",
              "    fill: #174EA6;\n",
              "  }\n",
              "\n",
              "  [theme=dark] .colab-df-quickchart {\n",
              "    background-color: #3B4455;\n",
              "    fill: #D2E3FC;\n",
              "  }\n",
              "\n",
              "  [theme=dark] .colab-df-quickchart:hover {\n",
              "    background-color: #434B5C;\n",
              "    box-shadow: 0px 1px 3px 1px rgba(0, 0, 0, 0.15);\n",
              "    filter: drop-shadow(0px 1px 2px rgba(0, 0, 0, 0.3));\n",
              "    fill: #FFFFFF;\n",
              "  }\n",
              "</style>\n",
              "\n",
              "    <script>\n",
              "      async function quickchart(key) {\n",
              "        const containerElement = document.querySelector('#' + key);\n",
              "        const charts = await google.colab.kernel.invokeFunction(\n",
              "            'suggestCharts', [key], {});\n",
              "      }\n",
              "    </script>\n",
              "\n",
              "      <script>\n",
              "\n",
              "function displayQuickchartButton(domScope) {\n",
              "  let quickchartButtonEl =\n",
              "    domScope.querySelector('#df-afa07f4c-69f6-49e4-80ec-8111c472460e button.colab-df-quickchart');\n",
              "  quickchartButtonEl.style.display =\n",
              "    google.colab.kernel.accessAllowed ? 'block' : 'none';\n",
              "}\n",
              "\n",
              "        displayQuickchartButton(document);\n",
              "      </script>\n",
              "      <style>\n",
              "    .colab-df-container {\n",
              "      display:flex;\n",
              "      flex-wrap:wrap;\n",
              "      gap: 12px;\n",
              "    }\n",
              "\n",
              "    .colab-df-convert {\n",
              "      background-color: #E8F0FE;\n",
              "      border: none;\n",
              "      border-radius: 50%;\n",
              "      cursor: pointer;\n",
              "      display: none;\n",
              "      fill: #1967D2;\n",
              "      height: 32px;\n",
              "      padding: 0 0 0 0;\n",
              "      width: 32px;\n",
              "    }\n",
              "\n",
              "    .colab-df-convert:hover {\n",
              "      background-color: #E2EBFA;\n",
              "      box-shadow: 0px 1px 2px rgba(60, 64, 67, 0.3), 0px 1px 3px 1px rgba(60, 64, 67, 0.15);\n",
              "      fill: #174EA6;\n",
              "    }\n",
              "\n",
              "    [theme=dark] .colab-df-convert {\n",
              "      background-color: #3B4455;\n",
              "      fill: #D2E3FC;\n",
              "    }\n",
              "\n",
              "    [theme=dark] .colab-df-convert:hover {\n",
              "      background-color: #434B5C;\n",
              "      box-shadow: 0px 1px 3px 1px rgba(0, 0, 0, 0.15);\n",
              "      filter: drop-shadow(0px 1px 2px rgba(0, 0, 0, 0.3));\n",
              "      fill: #FFFFFF;\n",
              "    }\n",
              "  </style>\n",
              "\n",
              "      <script>\n",
              "        const buttonEl =\n",
              "          document.querySelector('#df-4a34b017-a81b-469c-b848-1fff1beda308 button.colab-df-convert');\n",
              "        buttonEl.style.display =\n",
              "          google.colab.kernel.accessAllowed ? 'block' : 'none';\n",
              "\n",
              "        async function convertToInteractive(key) {\n",
              "          const element = document.querySelector('#df-4a34b017-a81b-469c-b848-1fff1beda308');\n",
              "          const dataTable =\n",
              "            await google.colab.kernel.invokeFunction('convertToInteractive',\n",
              "                                                     [key], {});\n",
              "          if (!dataTable) return;\n",
              "\n",
              "          const docLinkHtml = 'Like what you see? Visit the ' +\n",
              "            '<a target=\"_blank\" href=https://colab.research.google.com/notebooks/data_table.ipynb>data table notebook</a>'\n",
              "            + ' to learn more about interactive tables.';\n",
              "          element.innerHTML = '';\n",
              "          dataTable['output_type'] = 'display_data';\n",
              "          await google.colab.output.renderOutput(dataTable, element);\n",
              "          const docLink = document.createElement('div');\n",
              "          docLink.innerHTML = docLinkHtml;\n",
              "          element.appendChild(docLink);\n",
              "        }\n",
              "      </script>\n",
              "    </div>\n",
              "  </div>\n"
            ]
          },
          "metadata": {},
          "execution_count": 29
        }
      ]
    },
    {
      "cell_type": "markdown",
      "source": [
        "### Entrenamos el mejor modelo"
      ],
      "metadata": {
        "id": "13vwRmzAxtLj"
      }
    },
    {
      "cell_type": "code",
      "source": [
        "tknzr_test = TweetTokenizer(reduce_len=True, preserve_case=False)\n",
        "#vec = TfidfVectorizer(tokenizer=tknzr.tokenize, analyzer=\"char\", ngram_range=(2, 4), max_features=10000)\n",
        "vec_test = CountVectorizer(tokenizer=tknzr.tokenize)\n",
        "#vec = CountVectorizer(tokenizer=tknzr.tokenize, analyzer=\"char\", ngram_range=(2, 4), max_features=10000)\n",
        "X_train_all = vec_test.fit_transform(df_train_tweets['Tweet_Procesado'])\n",
        "y_train_all = df_train_tweets['Sentimiento']"
      ],
      "metadata": {
        "colab": {
          "base_uri": "https://localhost:8080/"
        },
        "id": "SM_v9z7x00lo",
        "outputId": "ebb31d56-44ae-48d1-81fa-a18bdcf4370e"
      },
      "execution_count": 30,
      "outputs": [
        {
          "output_type": "stream",
          "name": "stderr",
          "text": [
            "/usr/local/lib/python3.10/dist-packages/sklearn/feature_extraction/text.py:528: UserWarning: The parameter 'token_pattern' will not be used since 'tokenizer' is not None'\n",
            "  warnings.warn(\n"
          ]
        }
      ]
    },
    {
      "cell_type": "code",
      "source": [
        "# Entrenar modelo\n",
        "modelorlg = LogisticRegression(max_iter=1000,solver='newton-cholesky')\n",
        "modelorlg.fit(X_train_all, y_train_all)"
      ],
      "metadata": {
        "colab": {
          "base_uri": "https://localhost:8080/",
          "height": 74
        },
        "id": "2OtxUJvsWNZw",
        "outputId": "5754c37f-203f-43ff-aba5-1e764642ba41"
      },
      "execution_count": 31,
      "outputs": [
        {
          "output_type": "execute_result",
          "data": {
            "text/plain": [
              "LogisticRegression(max_iter=1000, solver='newton-cholesky')"
            ],
            "text/html": [
              "<style>#sk-container-id-1 {color: black;background-color: white;}#sk-container-id-1 pre{padding: 0;}#sk-container-id-1 div.sk-toggleable {background-color: white;}#sk-container-id-1 label.sk-toggleable__label {cursor: pointer;display: block;width: 100%;margin-bottom: 0;padding: 0.3em;box-sizing: border-box;text-align: center;}#sk-container-id-1 label.sk-toggleable__label-arrow:before {content: \"▸\";float: left;margin-right: 0.25em;color: #696969;}#sk-container-id-1 label.sk-toggleable__label-arrow:hover:before {color: black;}#sk-container-id-1 div.sk-estimator:hover label.sk-toggleable__label-arrow:before {color: black;}#sk-container-id-1 div.sk-toggleable__content {max-height: 0;max-width: 0;overflow: hidden;text-align: left;background-color: #f0f8ff;}#sk-container-id-1 div.sk-toggleable__content pre {margin: 0.2em;color: black;border-radius: 0.25em;background-color: #f0f8ff;}#sk-container-id-1 input.sk-toggleable__control:checked~div.sk-toggleable__content {max-height: 200px;max-width: 100%;overflow: auto;}#sk-container-id-1 input.sk-toggleable__control:checked~label.sk-toggleable__label-arrow:before {content: \"▾\";}#sk-container-id-1 div.sk-estimator input.sk-toggleable__control:checked~label.sk-toggleable__label {background-color: #d4ebff;}#sk-container-id-1 div.sk-label input.sk-toggleable__control:checked~label.sk-toggleable__label {background-color: #d4ebff;}#sk-container-id-1 input.sk-hidden--visually {border: 0;clip: rect(1px 1px 1px 1px);clip: rect(1px, 1px, 1px, 1px);height: 1px;margin: -1px;overflow: hidden;padding: 0;position: absolute;width: 1px;}#sk-container-id-1 div.sk-estimator {font-family: monospace;background-color: #f0f8ff;border: 1px dotted black;border-radius: 0.25em;box-sizing: border-box;margin-bottom: 0.5em;}#sk-container-id-1 div.sk-estimator:hover {background-color: #d4ebff;}#sk-container-id-1 div.sk-parallel-item::after {content: \"\";width: 100%;border-bottom: 1px solid gray;flex-grow: 1;}#sk-container-id-1 div.sk-label:hover label.sk-toggleable__label {background-color: #d4ebff;}#sk-container-id-1 div.sk-serial::before {content: \"\";position: absolute;border-left: 1px solid gray;box-sizing: border-box;top: 0;bottom: 0;left: 50%;z-index: 0;}#sk-container-id-1 div.sk-serial {display: flex;flex-direction: column;align-items: center;background-color: white;padding-right: 0.2em;padding-left: 0.2em;position: relative;}#sk-container-id-1 div.sk-item {position: relative;z-index: 1;}#sk-container-id-1 div.sk-parallel {display: flex;align-items: stretch;justify-content: center;background-color: white;position: relative;}#sk-container-id-1 div.sk-item::before, #sk-container-id-1 div.sk-parallel-item::before {content: \"\";position: absolute;border-left: 1px solid gray;box-sizing: border-box;top: 0;bottom: 0;left: 50%;z-index: -1;}#sk-container-id-1 div.sk-parallel-item {display: flex;flex-direction: column;z-index: 1;position: relative;background-color: white;}#sk-container-id-1 div.sk-parallel-item:first-child::after {align-self: flex-end;width: 50%;}#sk-container-id-1 div.sk-parallel-item:last-child::after {align-self: flex-start;width: 50%;}#sk-container-id-1 div.sk-parallel-item:only-child::after {width: 0;}#sk-container-id-1 div.sk-dashed-wrapped {border: 1px dashed gray;margin: 0 0.4em 0.5em 0.4em;box-sizing: border-box;padding-bottom: 0.4em;background-color: white;}#sk-container-id-1 div.sk-label label {font-family: monospace;font-weight: bold;display: inline-block;line-height: 1.2em;}#sk-container-id-1 div.sk-label-container {text-align: center;}#sk-container-id-1 div.sk-container {/* jupyter's `normalize.less` sets `[hidden] { display: none; }` but bootstrap.min.css set `[hidden] { display: none !important; }` so we also need the `!important` here to be able to override the default hidden behavior on the sphinx rendered scikit-learn.org. See: https://github.com/scikit-learn/scikit-learn/issues/21755 */display: inline-block !important;position: relative;}#sk-container-id-1 div.sk-text-repr-fallback {display: none;}</style><div id=\"sk-container-id-1\" class=\"sk-top-container\"><div class=\"sk-text-repr-fallback\"><pre>LogisticRegression(max_iter=1000, solver=&#x27;newton-cholesky&#x27;)</pre><b>In a Jupyter environment, please rerun this cell to show the HTML representation or trust the notebook. <br />On GitHub, the HTML representation is unable to render, please try loading this page with nbviewer.org.</b></div><div class=\"sk-container\" hidden><div class=\"sk-item\"><div class=\"sk-estimator sk-toggleable\"><input class=\"sk-toggleable__control sk-hidden--visually\" id=\"sk-estimator-id-1\" type=\"checkbox\" checked><label for=\"sk-estimator-id-1\" class=\"sk-toggleable__label sk-toggleable__label-arrow\">LogisticRegression</label><div class=\"sk-toggleable__content\"><pre>LogisticRegression(max_iter=1000, solver=&#x27;newton-cholesky&#x27;)</pre></div></div></div></div></div>"
            ]
          },
          "metadata": {},
          "execution_count": 31
        }
      ]
    },
    {
      "cell_type": "markdown",
      "source": [
        "### Predecimos"
      ],
      "metadata": {
        "id": "tgc44tyuxzUl"
      }
    },
    {
      "cell_type": "code",
      "source": [
        "X_test_all = vec_test.transform(df_test_tweets['Tweet_Procesado'])"
      ],
      "metadata": {
        "id": "v6qLJ1O8xrTG"
      },
      "execution_count": 32,
      "outputs": []
    },
    {
      "cell_type": "code",
      "source": [
        "y_prediction_test = modelorlg.predict(X_test_all)"
      ],
      "metadata": {
        "id": "-pk1rMsz6EcT"
      },
      "execution_count": 33,
      "outputs": []
    },
    {
      "cell_type": "markdown",
      "source": [
        "### Exportación del fichero de predicciones"
      ],
      "metadata": {
        "id": "i3Lpx6IU8oqD"
      }
    },
    {
      "cell_type": "code",
      "source": [
        "def export_lists_to_txt(list1, list2, filename):\n",
        "    with open(filename, \"w\") as file:\n",
        "        for item1, item2 in zip(list1, list2):\n",
        "            line = f\"{item1}\\t{item2}\\n\"\n",
        "            file.write(line)\n",
        "\n",
        "export_lists_to_txt(df_test_tweets['Id'], y_prediction_test, 'results.txt')"
      ],
      "metadata": {
        "id": "jIhnu-ek8ty9"
      },
      "execution_count": 34,
      "outputs": []
    }
  ]
}